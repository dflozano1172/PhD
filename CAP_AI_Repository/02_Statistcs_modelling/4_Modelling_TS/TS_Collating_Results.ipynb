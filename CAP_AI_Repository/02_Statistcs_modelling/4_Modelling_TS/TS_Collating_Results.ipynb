{
 "cells": [
  {
   "cell_type": "code",
   "execution_count": 1,
   "id": "660f7a7e",
   "metadata": {},
   "outputs": [
    {
     "name": "stderr",
     "output_type": "stream",
     "text": [
      "2023-10-28 02:47:29.976378: W tensorflow/stream_executor/platform/default/dso_loader.cc:64] Could not load dynamic library 'libcudart.so.11.0'; dlerror: libcudart.so.11.0: cannot open shared object file: No such file or directory\n",
      "2023-10-28 02:47:29.976412: I tensorflow/stream_executor/cuda/cudart_stub.cc:29] Ignore above cudart dlerror if you do not have a GPU set up on your machine.\n"
     ]
    }
   ],
   "source": [
    "%reset -f\n",
    "import pandas as pd\n",
    "import tensorflow.keras\n",
    "import pickle, sys, warnings\n",
    "\n",
    "sys.path.append('/home/d/dlr10/Documents/02_Statitics_modelling/0_FunctionsScripts')\n",
    "import Loading_Data_Functions as load_fn\n",
    "import FineTuning_Functions as FineTuning\n",
    "import Learning_Curves_Functions as LearningCurves\n",
    "\n",
    "from tensorflow.keras.models import load_model\n",
    "warnings.filterwarnings('ignore')\n",
    "\n",
    "import matplotlib\n",
    "matplotlib.rcParams['font.family'] = 'STIXGeneral'\n",
    "matplotlib.rcParams['mathtext.fontset'] = 'stix'\n",
    "matplotlib.rcParams['mathtext.fontset'] = 'cm'"
   ]
  },
  {
   "cell_type": "code",
   "execution_count": 2,
   "id": "e0fe8939",
   "metadata": {},
   "outputs": [
    {
     "name": "stdout",
     "output_type": "stream",
     "text": [
      "Elapsed time loading data: 35.72729277610779\n",
      "Elapsed time processing data: 10.318792581558228\n"
     ]
    }
   ],
   "source": [
    "# ============================================================================\n",
    "##############################################################################\n",
    "##############################################################################\n",
    "# IMPORT ALL TIME PACKAGES\n",
    "##############################################################################\n",
    "import numpy as np\n",
    "import pandas as pd\n",
    "import matplotlib.pyplot as plt\n",
    "import seaborn as sns\n",
    "\n",
    "import pickle, time, random, sys, warnings\n",
    "# sys.path is a list of absolute path strings\n",
    "sys.path.append('/home/d/dlr10/Documents/02_Statitics_modelling/0_FunctionsScripts')\n",
    "import Loading_Data_Functions as load_fn\n",
    "import FineTuning_Functions as FineTuning\n",
    "import Learning_Curves_Functions as LearningCurves\n",
    "##############################################################################\n",
    "# IMPORT DEEP LEARNING PACKAGES\n",
    "##############################################################################\n",
    "\n",
    "from sklearn.model_selection import cross_val_score, StratifiedKFold\n",
    "\n",
    "from tensorflow.keras.models import Sequential\n",
    "from tensorflow.keras.layers import Dense, BatchNormalization, Dropout, Flatten, LeakyReLU\n",
    "from tensorflow.keras import layers\n",
    "\n",
    "from tensorflow.keras.optimizers import Adam, SGD, RMSprop, Adadelta, Adagrad, Adamax, Nadam, Ftrl\n",
    "from tensorflow.keras.callbacks import EarlyStopping, ModelCheckpoint\n",
    "from tensorflow.keras.wrappers.scikit_learn import KerasClassifier\n",
    "\n",
    "from sklearn.metrics import make_scorer, accuracy_score\n",
    "LeakyReLU = LeakyReLU(alpha=0.1)\n",
    "\n",
    "from bayes_opt import BayesianOptimization\n",
    "\n",
    "\n",
    "pd.set_option(\"display.max_columns\", None)\n",
    "\n",
    "\n",
    "# ENCODING FUNCTIONS\n",
    "##############################################################################\n",
    "\n",
    "# ENCODING CATEGORICAL VARIABLES WITH TARGET ENCODER OR NORMALISE CONTINUOUS VARIABLES\n",
    "# https://towardsdatascience.com/target-encoding-and-bayesian-target-encoding-5c6a6c58ae8c\n",
    "def target_encoder_Binary(column, target, X_data):\n",
    "    df = []\n",
    "    for cat in X_data[column].unique():\n",
    "        row = []\n",
    "        row.append(len(X_data[(X_data[target]==0) & (X_data[column] == cat)]))\n",
    "        row.append(len(X_data[(X_data[target]==1) & (X_data[column] == cat)]))\n",
    "        df.append(row)\n",
    "    df = pd.DataFrame(df, index = X_data[column].unique(), columns = ['0','1'])\n",
    "    df['prob'] = df['1']/(df['1']+df['0'])\n",
    "    col_encod = X_data[column].map(dict(zip(df.index, df['prob'])))\n",
    "    return col_encod, df\n",
    "############################################################\n",
    "def Normalise_n_encode_train_set(X_data, feat_list, data_types):\n",
    "    encoder = []\n",
    "    X_data_norm_2 = pd.DataFrame()\n",
    "    for feat in feat_list:\n",
    "        if data_types[feat] == 'Continuous':\n",
    "            X_data_feat = X_data[feat]\n",
    "            mean        = X_data_feat.mean()\n",
    "            std         = X_data_feat.std()\n",
    "            X_data_norm_2[feat] = (X_data_feat - mean)/std\n",
    "            encoder.append([feat, data_types[feat], [mean, std]])\n",
    "        elif data_types[feat] == 'Categorical':\n",
    "            X_data_norm_2[feat],df = target_encoder_Binary(feat, 'Mortality', X_data)\n",
    "            encoder.append([feat, data_types[feat], df])\n",
    "        elif data_types[feat] == 'Binary':\n",
    "            X_data_norm_2[feat] = X_data[feat].copy()\n",
    "            encoder.append([feat, data_types[feat], \"\"])\n",
    "    encoder =pd.DataFrame(encoder, columns = ['feature','type','parameters'])\n",
    "    return X_data_norm_2,encoder\n",
    "############################################################\n",
    "def Normalise_n_encode_val_set(val_data, norm_encoder, feat_list, data_types):\n",
    "    X_data_norm_2 = pd.DataFrame()\n",
    "    for feat in feat_list:\n",
    "        if data_types[feat] == 'Continuous':\n",
    "            X_data_feat = val_data[feat]\n",
    "            mean, std   = norm_encoder[norm_encoder['feature'] == feat].iloc[0]['parameters']\n",
    "            X_data_norm_2[feat] = (X_data_feat - mean)/std\n",
    "\n",
    "        elif data_types[feat] == 'Categorical':\n",
    "            df = norm_encoder[norm_encoder['feature'] == feat].iloc[0]['parameters']\n",
    "            X_data_norm_2[feat] = val_data[feat].map(dict(zip(df.index, df['prob'])))\n",
    "            X_data_norm_2[feat] = X_data_norm_2[feat].fillna(0)\n",
    "        elif data_types[feat] == 'Binary':\n",
    "            X_data_norm_2[feat] = val_data[feat].copy()\n",
    "    return X_data_norm_2\n",
    "##############################################################################\n",
    "# PLOTTING FUNCTIONS \n",
    "##############################################################################\n",
    "def history_plots_(history, SAVE = 0, name = ''):\n",
    "    auc_keys = [x for x in history.history.keys() if 'auc' in x]\n",
    "    loss = history.history[\"loss\"];     val_loss = history.history[\"val_loss\"]\n",
    "    acc  = history.history[\"accuracy\"]; val_acc  = history.history[\"val_accuracy\"]\n",
    "    auc  = history.history[auc_keys[0]];      val_auc = history.history[auc_keys[1]]\n",
    "    epochs  = range(1, len(acc) + 1)\n",
    "    f, (ax0, ax1, ax2) = plt.subplots(1, 3, figsize = (8,4))\n",
    "    ax0.plot(epochs, loss, \"bo\", label=\"Training Loss\")\n",
    "    ax0.plot(epochs, val_loss, \"b\", label=\"Validation Loss\")\n",
    "    ax0.set_title(\"Train-val Loss\")\n",
    "    ax1.plot(epochs, acc, \"bo\", label=\"Training Accuracy\")\n",
    "    ax1.plot(epochs, val_acc, \"b\", label=\"Validation Accuracy\")\n",
    "    ax1.set_title(\"Train-val Accuracy\")\n",
    "    ax2.plot(epochs, auc, \"bo\", label=\"Training AUC\")\n",
    "    ax2.plot(epochs, val_auc, \"b\", label=\"Validation AUC\")\n",
    "    ax2.set_title(\"Train-val AUC\")\n",
    "    plt.legend()\n",
    "    if SAVE == 1: plt.savefig(name, transparent = True, bbox_inches = \"tight\")\n",
    "    plt.show()\n",
    "# ============================================================================\n",
    "\n",
    "t_tot = time.time()\n",
    "# ##############\n",
    "# 1. LOAD DATA ---------------------------------------------------------------\n",
    "# ============================================================================\n",
    "t = time.time()\n",
    "path = r'/home/d/dlr10/Documents/02_Statitics_modelling/DataSets/'\n",
    "df_patients_16_18, df_admissions_16_18, df_eobs_16_18 = load_fn.Load_data()\n",
    "df_patients_19_20, df_admissions_19_20, df_eobs_19_20 = load_fn.Load_data('2019_2020')\n",
    "\n",
    "X_data_16_18 = pickle.load(open(path + 'df_ts_2016_18.pickle','rb')).drop(columns = 'no_sample_series')\n",
    "X_data_19_20 = pickle.load(open(path + 'df_ts_2019_20.pickle','rb')).drop(columns = 'no_sample_series')\n",
    "\n",
    "\n",
    "# Dictionary of features and types --------\n",
    "data_types = pd.read_csv('/home/d/dlr10/Documents/02_Statitics_modelling/2_Statistics/csv_Type_variables.csv')\n",
    "data_types = data_types.set_index('Variable').to_dict()['Type']\n",
    "\n",
    "# List of features ------------------------\n",
    "feat_list = X_data_16_18.columns.tolist()\n",
    "feat_list = feat_list[1:-1]\n",
    "\n",
    "# Resulst vaiables ------------------------\n",
    "df_results_train = pd.DataFrame()\n",
    "df_results_valid = pd.DataFrame()\n",
    "dict_fpr_tpr = {}\n",
    "\n",
    "print(\"Elapsed time loading data:\", time.time()-t)\n",
    "\n",
    "\n",
    "# ##############\n",
    "# 2. PROCESSING DATA ---------------------------------------------------------\n",
    "# ============================================================================\n",
    "t = time.time()\n",
    "### BALANCED DATA ####################################\n",
    "random.seed(2)\n",
    "X_0 = X_data_16_18[X_data_16_18['Mortality'] == 0]['admission_id'].unique().tolist()\n",
    "X_1 = X_data_16_18[X_data_16_18['Mortality'] == 1]\n",
    "\n",
    "list_X_0   = random.sample(range(len(X_0)),len(X_1['admission_id'].unique().tolist()))\n",
    "X_0_2_adms = [X_0[pos] for pos in list_X_0]\n",
    "X_0_2      = X_data_16_18[X_data_16_18['admission_id'].isin(X_0_2_adms)]\n",
    "\n",
    "X_data_bal = pd.concat([X_1,X_0_2])\n",
    "\n",
    "### SPLIT DATA #######################################\n",
    "train_set = X_data_bal.copy()\n",
    "valid_set = X_data_19_20.copy()\n",
    "\n",
    "### ENCODING DATA ####################################\n",
    "train_set_norm, encoder = Normalise_n_encode_train_set(train_set, feat_list, data_types)\n",
    "valid_set_norm          = Normalise_n_encode_val_set(valid_set, encoder, feat_list, data_types)\n",
    "\n",
    "### SET DATA AS ARRAYs ###############################\n",
    "num_samp_train = len(train_set['admission_id'].unique().tolist())\n",
    "num_samp_valid = len(valid_set['admission_id'].unique().tolist())\n",
    "num_features   = len(train_set_norm.columns.tolist())\n",
    "num_time_samp  = 144\n",
    "X_train    = np.array(train_set_norm).reshape((num_samp_train, num_time_samp, num_features ))\n",
    "X_valid    = np.array(valid_set_norm).reshape((num_samp_valid, num_time_samp, num_features ))\n",
    "df         = train_set[['admission_id', 'Mortality']].groupby(by= 'admission_id').mean()\n",
    "mort_dict  = dict(zip(df.index.tolist(),df['Mortality']))\n",
    "y_train    = np.array([mort_dict[adm] for adm in train_set['admission_id'].unique().tolist()])\n",
    "\n",
    "df         = valid_set[['admission_id', 'Mortality']].groupby(by= 'admission_id').mean()\n",
    "mort_dict  = dict(zip(df.index.tolist(),df['Mortality']))\n",
    "y_valid   = np.array([mort_dict[adm] for adm in valid_set['admission_id'].unique().tolist()])\n",
    "print(\"Elapsed time processing data:\", time.time()-t)\n",
    "# ============================================================================"
   ]
  },
  {
   "cell_type": "markdown",
   "id": "16fe4a5f",
   "metadata": {},
   "source": [
    "_________________________"
   ]
  },
  {
   "cell_type": "markdown",
   "id": "cbd63318",
   "metadata": {},
   "source": [
    "_________________________"
   ]
  },
  {
   "cell_type": "markdown",
   "id": "2d9881e6",
   "metadata": {},
   "source": [
    "_________________________"
   ]
  },
  {
   "cell_type": "code",
   "execution_count": 3,
   "id": "a3a2b0c2",
   "metadata": {},
   "outputs": [],
   "source": [
    "final_df = pd.DataFrame()\n",
    "lst_fpr_tpr = []"
   ]
  },
  {
   "cell_type": "markdown",
   "id": "2f68f0c7",
   "metadata": {},
   "source": [
    "# GRU"
   ]
  },
  {
   "cell_type": "code",
   "execution_count": 4,
   "id": "fac4197f",
   "metadata": {},
   "outputs": [],
   "source": [
    "X_valid.shape\n",
    "X_valid = X_valid.astype(float)"
   ]
  },
  {
   "cell_type": "code",
   "execution_count": 5,
   "id": "088ef4de",
   "metadata": {
    "scrolled": false
   },
   "outputs": [
    {
     "name": "stderr",
     "output_type": "stream",
     "text": [
      "2023-10-28 02:48:23.297372: W tensorflow/stream_executor/platform/default/dso_loader.cc:64] Could not load dynamic library 'libcuda.so.1'; dlerror: libcuda.so.1: cannot open shared object file: No such file or directory\n",
      "2023-10-28 02:48:23.297412: W tensorflow/stream_executor/cuda/cuda_driver.cc:326] failed call to cuInit: UNKNOWN ERROR (303)\n",
      "2023-10-28 02:48:23.297440: I tensorflow/stream_executor/cuda/cuda_diagnostics.cc:156] kernel driver does not appear to be running on this host (alice-login02): /proc/driver/nvidia/version does not exist\n",
      "2023-10-28 02:48:23.298009: I tensorflow/core/platform/cpu_feature_guard.cc:142] This TensorFlow binary is optimized with oneAPI Deep Neural Network Library (oneDNN) to use the following CPU instructions in performance-critical operations:  AVX2 FMA\n",
      "To enable them in other operations, rebuild TensorFlow with the appropriate compiler flags.\n",
      "2023-10-28 02:48:25.857755: I tensorflow/compiler/mlir/mlir_graph_optimization_pass.cc:176] None of the MLIR Optimization Passes are enabled (registered 2)\n",
      "2023-10-28 02:48:25.871299: I tensorflow/core/platform/profile_utils/cpu_utils.cc:114] CPU Frequency: 2395620000 Hz\n"
     ]
    },
    {
     "name": "stdout",
     "output_type": "stream",
     "text": [
      "Confidence interval for the score: [0.745 - 0.765]\n"
     ]
    },
    {
     "data": {
      "image/png": "[encoded data removed]",
      "text/plain": [
       "<Figure size 144x144 with 2 Axes>"
      ]
     },
     "metadata": {
      "needs_background": "light"
     },
     "output_type": "display_data"
    },
    {
     "data": {
      "text/html": [
       "<div>\n",
       "<style scoped>\n",
       "    .dataframe tbody tr th:only-of-type {\n",
       "        vertical-align: middle;\n",
       "    }\n",
       "\n",
       "    .dataframe tbody tr th {\n",
       "        vertical-align: top;\n",
       "    }\n",
       "\n",
       "    .dataframe thead th {\n",
       "        text-align: right;\n",
       "    }\n",
       "</style>\n",
       "<table border=\"1\" class=\"dataframe\">\n",
       "  <thead>\n",
       "    <tr style=\"text-align: right;\">\n",
       "      <th></th>\n",
       "      <th>Precision</th>\n",
       "      <th>Recall</th>\n",
       "      <th>F1_Score</th>\n",
       "      <th>Accuracy</th>\n",
       "      <th>AUC</th>\n",
       "      <th>brier</th>\n",
       "      <th>AUC_IC</th>\n",
       "      <th>name</th>\n",
       "    </tr>\n",
       "  </thead>\n",
       "  <tbody>\n",
       "    <tr>\n",
       "      <th>0</th>\n",
       "      <td>0.734824</td>\n",
       "      <td>0.118313</td>\n",
       "      <td>0.20381</td>\n",
       "      <td>0.772301</td>\n",
       "      <td>0.754584</td>\n",
       "      <td>0.168608</td>\n",
       "      <td>[0.75, 0.765]</td>\n",
       "      <td>Unbal_GRU</td>\n",
       "    </tr>\n",
       "  </tbody>\n",
       "</table>\n",
       "</div>"
      ],
      "text/plain": [
       "   Precision    Recall  F1_Score  Accuracy       AUC     brier         AUC_IC  \\\n",
       "0   0.734824  0.118313   0.20381  0.772301  0.754584  0.168608  [0.75, 0.765]   \n",
       "\n",
       "        name  \n",
       "0  Unbal_GRU  "
      ]
     },
     "metadata": {},
     "output_type": "display_data"
    },
    {
     "name": "stdout",
     "output_type": "stream",
     "text": [
      "time elapsed 28.823832511901855\n"
     ]
    }
   ],
   "source": [
    "path      = r'/home/d/dlr10/Documents/02_Statitics_modelling/4_Modelling_TS/04_GRU_NN'\n",
    "file_name = r'/Unbalanced_GRU_NN_history.pickle'\n",
    "params_nn_, history= pickle.load(open(path + file_name,'rb'))\n",
    "clf_model = load_model(path + '/Unbalanced_GRU_NN.h5')\n",
    "\n",
    "y_test_proba    = clf_model.predict(X_valid)\n",
    "y_test_predict  = FineTuning.adjusted_classes(y_test_proba, 0.5)\n",
    "\n",
    "df_results_valid, fpr_tpr = LearningCurves.results_precision_recall_cm(y_valid, y_test_predict, y_test_proba,fig_size = None)\n",
    "lst_fpr_tpr.append(fpr_tpr)\n",
    "\n",
    "#plt.savefig(name +'_valid_cm.png', transparent = True, bbox_inches = \"tight\")\n",
    "plt.show()\n",
    "df_results_valid['name'] = 'Unbal_GRU'\n",
    "display(df_results_valid)\n",
    "final_df = pd.concat([final_df,df_results_valid])\n",
    "print('time elapsed', time.time() - t)"
   ]
  },
  {
   "cell_type": "code",
   "execution_count": 6,
   "id": "b51879b2",
   "metadata": {
    "scrolled": false
   },
   "outputs": [
    {
     "name": "stdout",
     "output_type": "stream",
     "text": [
      "Confidence interval for the score: [0.755 - 0.775]\n"
     ]
    },
    {
     "data": {
      "image/png": "[encoded data removed]",
      "text/plain": [
       "<Figure size 144x144 with 2 Axes>"
      ]
     },
     "metadata": {
      "needs_background": "light"
     },
     "output_type": "display_data"
    },
    {
     "data": {
      "text/html": [
       "<div>\n",
       "<style scoped>\n",
       "    .dataframe tbody tr th:only-of-type {\n",
       "        vertical-align: middle;\n",
       "    }\n",
       "\n",
       "    .dataframe tbody tr th {\n",
       "        vertical-align: top;\n",
       "    }\n",
       "\n",
       "    .dataframe thead th {\n",
       "        text-align: right;\n",
       "    }\n",
       "</style>\n",
       "<table border=\"1\" class=\"dataframe\">\n",
       "  <thead>\n",
       "    <tr style=\"text-align: right;\">\n",
       "      <th></th>\n",
       "      <th>Precision</th>\n",
       "      <th>Recall</th>\n",
       "      <th>F1_Score</th>\n",
       "      <th>Accuracy</th>\n",
       "      <th>AUC</th>\n",
       "      <th>brier</th>\n",
       "      <th>AUC_IC</th>\n",
       "      <th>name</th>\n",
       "    </tr>\n",
       "  </thead>\n",
       "  <tbody>\n",
       "    <tr>\n",
       "      <th>0</th>\n",
       "      <td>0.429218</td>\n",
       "      <td>0.683128</td>\n",
       "      <td>0.527193</td>\n",
       "      <td>0.698175</td>\n",
       "      <td>0.764705</td>\n",
       "      <td>0.182621</td>\n",
       "      <td>[0.76, 0.775]</td>\n",
       "      <td>Bal_GRU</td>\n",
       "    </tr>\n",
       "  </tbody>\n",
       "</table>\n",
       "</div>"
      ],
      "text/plain": [
       "   Precision    Recall  F1_Score  Accuracy       AUC     brier         AUC_IC  \\\n",
       "0   0.429218  0.683128  0.527193  0.698175  0.764705  0.182621  [0.76, 0.775]   \n",
       "\n",
       "      name  \n",
       "0  Bal_GRU  "
      ]
     },
     "metadata": {},
     "output_type": "display_data"
    },
    {
     "name": "stdout",
     "output_type": "stream",
     "text": [
      "time elapsed 14.265460968017578\n"
     ]
    }
   ],
   "source": [
    "t = time.time()\n",
    "\n",
    "model_name     = r'/Balanced_GRU_NN_ERC_original'\n",
    "path           = r'/home/d/dlr10/Documents/02_Statitics_modelling/4_Modelling_TS/04_GRU_NN/GRU_ERC'\n",
    "file_name      = model_name + '_history.pickle'\n",
    "\n",
    "params_nn_, history= pickle.load(open(path + file_name,'rb'))\n",
    "clf_model = load_model(path + model_name +'.h5')\n",
    "\n",
    "y_test_proba    = clf_model.predict(X_valid)\n",
    "y_test_predict  = FineTuning.adjusted_classes(y_test_proba, 0.45)\n",
    "\n",
    "df_results_valid, fpr_tpr = LearningCurves.results_precision_recall_cm(y_valid, y_test_predict, y_test_proba,fig_size = None)\n",
    "lst_fpr_tpr.append(fpr_tpr)\n",
    "#plt.savefig(name +'_valid_cm.png', transparent = True, bbox_inches = \"tight\")\n",
    "df_results_valid['name'] = 'Bal_GRU'\n",
    "plt.show()\n",
    "display(df_results_valid)\n",
    "final_df = pd.concat([final_df,df_results_valid])\n",
    "\n",
    "print('time elapsed', time.time() - t)"
   ]
  },
  {
   "cell_type": "markdown",
   "id": "c47b1f11",
   "metadata": {},
   "source": [
    "# LSTM"
   ]
  },
  {
   "cell_type": "code",
   "execution_count": 7,
   "id": "1d1febdb",
   "metadata": {
    "scrolled": true
   },
   "outputs": [
    {
     "name": "stdout",
     "output_type": "stream",
     "text": [
      "Confidence interval for the score: [0.744 - 0.765]\n"
     ]
    },
    {
     "data": {
      "text/html": [
       "<div>\n",
       "<style scoped>\n",
       "    .dataframe tbody tr th:only-of-type {\n",
       "        vertical-align: middle;\n",
       "    }\n",
       "\n",
       "    .dataframe tbody tr th {\n",
       "        vertical-align: top;\n",
       "    }\n",
       "\n",
       "    .dataframe thead th {\n",
       "        text-align: right;\n",
       "    }\n",
       "</style>\n",
       "<table border=\"1\" class=\"dataframe\">\n",
       "  <thead>\n",
       "    <tr style=\"text-align: right;\">\n",
       "      <th></th>\n",
       "      <th>Precision</th>\n",
       "      <th>Recall</th>\n",
       "      <th>F1_Score</th>\n",
       "      <th>Accuracy</th>\n",
       "      <th>AUC</th>\n",
       "      <th>brier</th>\n",
       "      <th>AUC_IC</th>\n",
       "      <th>name</th>\n",
       "    </tr>\n",
       "  </thead>\n",
       "  <tbody>\n",
       "    <tr>\n",
       "      <th>0</th>\n",
       "      <td>0.66443</td>\n",
       "      <td>0.152778</td>\n",
       "      <td>0.248432</td>\n",
       "      <td>0.772301</td>\n",
       "      <td>0.754325</td>\n",
       "      <td>0.164022</td>\n",
       "      <td>[0.74, 0.765]</td>\n",
       "      <td>Unbal_LSTM</td>\n",
       "    </tr>\n",
       "  </tbody>\n",
       "</table>\n",
       "</div>"
      ],
      "text/plain": [
       "   Precision    Recall  F1_Score  Accuracy       AUC     brier         AUC_IC  \\\n",
       "0    0.66443  0.152778  0.248432  0.772301  0.754325  0.164022  [0.74, 0.765]   \n",
       "\n",
       "         name  \n",
       "0  Unbal_LSTM  "
      ]
     },
     "metadata": {},
     "output_type": "display_data"
    },
    {
     "name": "stdout",
     "output_type": "stream",
     "text": [
      "time elapsed 24.58651065826416\n"
     ]
    },
    {
     "data": {
      "image/png": "[encoded data removed]",
      "text/plain": [
       "<Figure size 144x144 with 2 Axes>"
      ]
     },
     "metadata": {
      "needs_background": "light"
     },
     "output_type": "display_data"
    }
   ],
   "source": [
    "path      = r'/home/d/dlr10/Documents/02_Statitics_modelling/4_Modelling_TS/03_LSTM_RNN'\n",
    "file_name = r'/Unbalanced_LSTM_NN_history.pickle'\n",
    "params_nn_, history= pickle.load(open(path + file_name,'rb'))\n",
    "clf_model = load_model(path + '/Unbalanced_LSTM_NN.h5')\n",
    "\n",
    "y_test_proba    = clf_model.predict(X_valid)\n",
    "y_test_predict  = FineTuning.adjusted_classes(y_test_proba, 0.5)\n",
    "\n",
    "df_results_valid, fpr_tpr = LearningCurves.results_precision_recall_cm(y_valid, y_test_predict, y_test_proba,fig_size = None)\n",
    "lst_fpr_tpr.append(fpr_tpr)\n",
    "#plt.show()\n",
    "df_results_valid['name'] = 'Unbal_LSTM'\n",
    "display(df_results_valid)\n",
    "final_df = pd.concat([final_df,df_results_valid])\n",
    "print('time elapsed', time.time() - t)"
   ]
  },
  {
   "cell_type": "code",
   "execution_count": 8,
   "id": "57c979ca",
   "metadata": {},
   "outputs": [
    {
     "name": "stdout",
     "output_type": "stream",
     "text": [
      "Confidence interval for the score: [0.731 - 0.752]\n"
     ]
    },
    {
     "data": {
      "image/png": "[encoded data removed]",
      "text/plain": [
       "<Figure size 144x144 with 2 Axes>"
      ]
     },
     "metadata": {
      "needs_background": "light"
     },
     "output_type": "display_data"
    },
    {
     "data": {
      "text/html": [
       "<div>\n",
       "<style scoped>\n",
       "    .dataframe tbody tr th:only-of-type {\n",
       "        vertical-align: middle;\n",
       "    }\n",
       "\n",
       "    .dataframe tbody tr th {\n",
       "        vertical-align: top;\n",
       "    }\n",
       "\n",
       "    .dataframe thead th {\n",
       "        text-align: right;\n",
       "    }\n",
       "</style>\n",
       "<table border=\"1\" class=\"dataframe\">\n",
       "  <thead>\n",
       "    <tr style=\"text-align: right;\">\n",
       "      <th></th>\n",
       "      <th>Precision</th>\n",
       "      <th>Recall</th>\n",
       "      <th>F1_Score</th>\n",
       "      <th>Accuracy</th>\n",
       "      <th>AUC</th>\n",
       "      <th>brier</th>\n",
       "      <th>AUC_IC</th>\n",
       "      <th>name</th>\n",
       "    </tr>\n",
       "  </thead>\n",
       "  <tbody>\n",
       "    <tr>\n",
       "      <th>0</th>\n",
       "      <td>0.309733</td>\n",
       "      <td>0.906893</td>\n",
       "      <td>0.46176</td>\n",
       "      <td>0.479219</td>\n",
       "      <td>0.741048</td>\n",
       "      <td>0.283645</td>\n",
       "      <td>[0.73, 0.752]</td>\n",
       "      <td>Bal_LSTM</td>\n",
       "    </tr>\n",
       "  </tbody>\n",
       "</table>\n",
       "</div>"
      ],
      "text/plain": [
       "   Precision    Recall  F1_Score  Accuracy       AUC     brier         AUC_IC  \\\n",
       "0   0.309733  0.906893   0.46176  0.479219  0.741048  0.283645  [0.73, 0.752]   \n",
       "\n",
       "       name  \n",
       "0  Bal_LSTM  "
      ]
     },
     "metadata": {},
     "output_type": "display_data"
    },
    {
     "name": "stdout",
     "output_type": "stream",
     "text": [
      "time elapsed 19.14432406425476\n"
     ]
    }
   ],
   "source": [
    "t = time.time()\n",
    "\n",
    "model_name = r'/Balanced_LSTM_NN_original'\n",
    "path       = r'/home/d/dlr10/Documents/02_Statitics_modelling/4_Modelling_TS/03_LSTM_RNN/LSTM_ERC'\n",
    "file_name  = model_name + '_history.pickle'\n",
    "\n",
    "params_nn_, history= pickle.load(open(path + file_name,'rb'))\n",
    "clf_model = load_model(path + model_name +'.h5')\n",
    "\n",
    "y_test_proba    = clf_model.predict(X_valid)\n",
    "y_test_predict  = FineTuning.adjusted_classes(y_test_proba, 0.45)\n",
    "\n",
    "df_results_valid, fpr_tpr = LearningCurves.results_precision_recall_cm(y_valid, y_test_predict, y_test_proba,fig_size = None)\n",
    "lst_fpr_tpr.append(fpr_tpr)\n",
    "#plt.savefig(name +'_valid_cm.png', transparent = True, bbox_inches = \"tight\")\n",
    "df_results_valid['name'] = 'Bal_LSTM'\n",
    "plt.show()\n",
    "display(df_results_valid)\n",
    "final_df = pd.concat([final_df,df_results_valid])\n",
    "\n",
    "print('time elapsed', time.time() - t)"
   ]
  },
  {
   "cell_type": "markdown",
   "id": "49ec7aef",
   "metadata": {},
   "source": [
    "# Plot AUROC Curves"
   ]
  },
  {
   "cell_type": "code",
   "execution_count": 9,
   "id": "3e63e88b",
   "metadata": {},
   "outputs": [
    {
     "data": {
      "image/png": "[encoded data removed]",
      "text/plain": [
       "<Figure size 432x288 with 1 Axes>"
      ]
     },
     "metadata": {
      "needs_background": "light"
     },
     "output_type": "display_data"
    }
   ],
   "source": [
    "#########################################################################################\n",
    "# Function to extract and put results together\n",
    "#########################################################################################\n",
    "\n",
    "labels = final_df['name'].tolist()\n",
    "for idx, fpr_tpr in enumerate(lst_fpr_tpr):\n",
    "    colors = ['darkorange', 'navy','g','r','c', 'm']\n",
    "    fpr = fpr_tpr[0]; tpr = fpr_tpr[1]; row = final_df.iloc[idx]\n",
    "    clf_name = row['name']; clf_auc  = row['AUC']; clf_rcll = row['Recall']\n",
    "    lw = 2    \n",
    "    label = clf_name + \" auc = {:,.2f} recall = {:,.2f}\".format(clf_auc, clf_rcll)\n",
    "    plt.plot(fpr,  tpr,  color=colors[idx],  lw=lw,label= label)\n",
    "\n",
    "plt.plot([0, 1], [0, 1], color=\"k\", lw=lw, linestyle=\"--\")\n",
    "plt.xlim([0.0, 1.0])\n",
    "plt.ylim([0.0, 1.05])\n",
    "plt.xlabel(\"False Positive Rate\")\n",
    "plt.ylabel(\"True Positive Rate\")\n",
    "plt.title(\"AUROC Curve for TimeSeries-based models\")\n",
    "\n",
    "plt.legend(bbox_to_anchor=(0.32, 0.34))\n",
    "plt.savefig('AUROC_TimeSeries_models.png', transparent = True, bbox_inches = \"tight\")\n",
    "plt.show()"
   ]
  },
  {
   "cell_type": "code",
   "execution_count": 10,
   "id": "a5c8026a",
   "metadata": {},
   "outputs": [
    {
     "data": {
      "text/plain": [
       "3"
      ]
     },
     "execution_count": 10,
     "metadata": {},
     "output_type": "execute_result"
    }
   ],
   "source": [
    "idx"
   ]
  },
  {
   "cell_type": "code",
   "execution_count": 11,
   "id": "ba7c5696",
   "metadata": {},
   "outputs": [
    {
     "data": {
      "text/html": [
       "<div>\n",
       "<style scoped>\n",
       "    .dataframe tbody tr th:only-of-type {\n",
       "        vertical-align: middle;\n",
       "    }\n",
       "\n",
       "    .dataframe tbody tr th {\n",
       "        vertical-align: top;\n",
       "    }\n",
       "\n",
       "    .dataframe thead th {\n",
       "        text-align: right;\n",
       "    }\n",
       "</style>\n",
       "<table border=\"1\" class=\"dataframe\">\n",
       "  <thead>\n",
       "    <tr style=\"text-align: right;\">\n",
       "      <th></th>\n",
       "      <th>Precision</th>\n",
       "      <th>Recall</th>\n",
       "      <th>F1_Score</th>\n",
       "      <th>Accuracy</th>\n",
       "      <th>AUC</th>\n",
       "      <th>brier</th>\n",
       "      <th>AUC_IC</th>\n",
       "      <th>name</th>\n",
       "    </tr>\n",
       "  </thead>\n",
       "  <tbody>\n",
       "    <tr>\n",
       "      <th>0</th>\n",
       "      <td>0.734824</td>\n",
       "      <td>0.118313</td>\n",
       "      <td>0.203810</td>\n",
       "      <td>0.772301</td>\n",
       "      <td>0.754584</td>\n",
       "      <td>0.168608</td>\n",
       "      <td>[0.75, 0.765]</td>\n",
       "      <td>Unbal_GRU</td>\n",
       "    </tr>\n",
       "    <tr>\n",
       "      <th>0</th>\n",
       "      <td>0.429218</td>\n",
       "      <td>0.683128</td>\n",
       "      <td>0.527193</td>\n",
       "      <td>0.698175</td>\n",
       "      <td>0.764705</td>\n",
       "      <td>0.182621</td>\n",
       "      <td>[0.76, 0.775]</td>\n",
       "      <td>Bal_GRU</td>\n",
       "    </tr>\n",
       "    <tr>\n",
       "      <th>0</th>\n",
       "      <td>0.664430</td>\n",
       "      <td>0.152778</td>\n",
       "      <td>0.248432</td>\n",
       "      <td>0.772301</td>\n",
       "      <td>0.754325</td>\n",
       "      <td>0.164022</td>\n",
       "      <td>[0.74, 0.765]</td>\n",
       "      <td>Unbal_LSTM</td>\n",
       "    </tr>\n",
       "    <tr>\n",
       "      <th>0</th>\n",
       "      <td>0.309733</td>\n",
       "      <td>0.906893</td>\n",
       "      <td>0.461760</td>\n",
       "      <td>0.479219</td>\n",
       "      <td>0.741048</td>\n",
       "      <td>0.283645</td>\n",
       "      <td>[0.73, 0.752]</td>\n",
       "      <td>Bal_LSTM</td>\n",
       "    </tr>\n",
       "  </tbody>\n",
       "</table>\n",
       "</div>"
      ],
      "text/plain": [
       "   Precision    Recall  F1_Score  Accuracy       AUC     brier         AUC_IC  \\\n",
       "0   0.734824  0.118313  0.203810  0.772301  0.754584  0.168608  [0.75, 0.765]   \n",
       "0   0.429218  0.683128  0.527193  0.698175  0.764705  0.182621  [0.76, 0.775]   \n",
       "0   0.664430  0.152778  0.248432  0.772301  0.754325  0.164022  [0.74, 0.765]   \n",
       "0   0.309733  0.906893  0.461760  0.479219  0.741048  0.283645  [0.73, 0.752]   \n",
       "\n",
       "         name  \n",
       "0   Unbal_GRU  \n",
       "0     Bal_GRU  \n",
       "0  Unbal_LSTM  \n",
       "0    Bal_LSTM  "
      ]
     },
     "execution_count": 11,
     "metadata": {},
     "output_type": "execute_result"
    }
   ],
   "source": [
    "final_df"
   ]
  },
  {
   "cell_type": "markdown",
   "id": "669c3e86",
   "metadata": {},
   "source": [
    "# Store results in pickle"
   ]
  },
  {
   "cell_type": "code",
   "execution_count": 12,
   "id": "57797d30",
   "metadata": {},
   "outputs": [
    {
     "data": {
      "text/html": [
       "<div>\n",
       "<style scoped>\n",
       "    .dataframe tbody tr th:only-of-type {\n",
       "        vertical-align: middle;\n",
       "    }\n",
       "\n",
       "    .dataframe tbody tr th {\n",
       "        vertical-align: top;\n",
       "    }\n",
       "\n",
       "    .dataframe thead th {\n",
       "        text-align: right;\n",
       "    }\n",
       "</style>\n",
       "<table border=\"1\" class=\"dataframe\">\n",
       "  <thead>\n",
       "    <tr style=\"text-align: right;\">\n",
       "      <th></th>\n",
       "      <th>Precision</th>\n",
       "      <th>Recall</th>\n",
       "      <th>F1_Score</th>\n",
       "      <th>Accuracy</th>\n",
       "      <th>AUC</th>\n",
       "      <th>brier</th>\n",
       "      <th>AUC_IC</th>\n",
       "      <th>name</th>\n",
       "    </tr>\n",
       "  </thead>\n",
       "  <tbody>\n",
       "    <tr>\n",
       "      <th>0</th>\n",
       "      <td>0.734824</td>\n",
       "      <td>0.118313</td>\n",
       "      <td>0.203810</td>\n",
       "      <td>0.772301</td>\n",
       "      <td>0.754584</td>\n",
       "      <td>0.168608</td>\n",
       "      <td>[0.75, 0.765]</td>\n",
       "      <td>Unbal_GRU</td>\n",
       "    </tr>\n",
       "    <tr>\n",
       "      <th>0</th>\n",
       "      <td>0.429218</td>\n",
       "      <td>0.683128</td>\n",
       "      <td>0.527193</td>\n",
       "      <td>0.698175</td>\n",
       "      <td>0.764705</td>\n",
       "      <td>0.182621</td>\n",
       "      <td>[0.76, 0.775]</td>\n",
       "      <td>Bal_GRU</td>\n",
       "    </tr>\n",
       "    <tr>\n",
       "      <th>0</th>\n",
       "      <td>0.664430</td>\n",
       "      <td>0.152778</td>\n",
       "      <td>0.248432</td>\n",
       "      <td>0.772301</td>\n",
       "      <td>0.754325</td>\n",
       "      <td>0.164022</td>\n",
       "      <td>[0.74, 0.765]</td>\n",
       "      <td>Unbal_LSTM</td>\n",
       "    </tr>\n",
       "    <tr>\n",
       "      <th>0</th>\n",
       "      <td>0.309733</td>\n",
       "      <td>0.906893</td>\n",
       "      <td>0.461760</td>\n",
       "      <td>0.479219</td>\n",
       "      <td>0.741048</td>\n",
       "      <td>0.283645</td>\n",
       "      <td>[0.73, 0.752]</td>\n",
       "      <td>Bal_LSTM</td>\n",
       "    </tr>\n",
       "  </tbody>\n",
       "</table>\n",
       "</div>"
      ],
      "text/plain": [
       "   Precision    Recall  F1_Score  Accuracy       AUC     brier         AUC_IC  \\\n",
       "0   0.734824  0.118313  0.203810  0.772301  0.754584  0.168608  [0.75, 0.765]   \n",
       "0   0.429218  0.683128  0.527193  0.698175  0.764705  0.182621  [0.76, 0.775]   \n",
       "0   0.664430  0.152778  0.248432  0.772301  0.754325  0.164022  [0.74, 0.765]   \n",
       "0   0.309733  0.906893  0.461760  0.479219  0.741048  0.283645  [0.73, 0.752]   \n",
       "\n",
       "         name  \n",
       "0   Unbal_GRU  \n",
       "0     Bal_GRU  \n",
       "0  Unbal_LSTM  \n",
       "0    Bal_LSTM  "
      ]
     },
     "execution_count": 12,
     "metadata": {},
     "output_type": "execute_result"
    }
   ],
   "source": [
    "pickle.dump(final_df, open('ts_mortality_results.pickle', 'wb'))\n",
    "final_df"
   ]
  },
  {
   "cell_type": "code",
   "execution_count": null,
   "id": "044e0d51",
   "metadata": {},
   "outputs": [],
   "source": []
  },
  {
   "cell_type": "code",
   "execution_count": null,
   "id": "df35ef81",
   "metadata": {},
   "outputs": [],
   "source": []
  },
  {
   "cell_type": "code",
   "execution_count": null,
   "id": "2268c681",
   "metadata": {},
   "outputs": [],
   "source": []
  },
  {
   "cell_type": "code",
   "execution_count": null,
   "id": "422a97c0",
   "metadata": {},
   "outputs": [],
   "source": []
  },
  {
   "cell_type": "code",
   "execution_count": null,
   "id": "caeb085e",
   "metadata": {},
   "outputs": [],
   "source": []
  },
  {
   "cell_type": "code",
   "execution_count": null,
   "id": "7a43fe39",
   "metadata": {},
   "outputs": [],
   "source": []
  },
  {
   "cell_type": "code",
   "execution_count": null,
   "id": "f63130f0",
   "metadata": {},
   "outputs": [],
   "source": []
  },
  {
   "cell_type": "code",
   "execution_count": null,
   "id": "13524f7a",
   "metadata": {},
   "outputs": [],
   "source": []
  },
  {
   "cell_type": "code",
   "execution_count": null,
   "id": "ba0cc794",
   "metadata": {},
   "outputs": [],
   "source": []
  },
  {
   "cell_type": "code",
   "execution_count": null,
   "id": "f9a9b735",
   "metadata": {},
   "outputs": [],
   "source": []
  },
  {
   "cell_type": "code",
   "execution_count": null,
   "id": "ec66eea2",
   "metadata": {},
   "outputs": [],
   "source": []
  },
  {
   "cell_type": "code",
   "execution_count": null,
   "id": "2708b20c",
   "metadata": {},
   "outputs": [],
   "source": []
  },
  {
   "cell_type": "code",
   "execution_count": null,
   "id": "6a573701",
   "metadata": {},
   "outputs": [],
   "source": []
  },
  {
   "cell_type": "code",
   "execution_count": null,
   "id": "5686ee45",
   "metadata": {},
   "outputs": [],
   "source": []
  },
  {
   "cell_type": "code",
   "execution_count": null,
   "id": "3d00fb48",
   "metadata": {},
   "outputs": [],
   "source": []
  },
  {
   "cell_type": "code",
   "execution_count": null,
   "id": "80825678",
   "metadata": {},
   "outputs": [],
   "source": []
  },
  {
   "cell_type": "code",
   "execution_count": null,
   "id": "01f11308",
   "metadata": {},
   "outputs": [],
   "source": []
  }
 ],
 "metadata": {
  "kernelspec": {
   "display_name": "Python 3 (ipykernel)",
   "language": "python",
   "name": "python3"
  },
  "language_info": {
   "codemirror_mode": {
    "name": "ipython",
    "version": 3
   },
   "file_extension": ".py",
   "mimetype": "text/x-python",
   "name": "python",
   "nbconvert_exporter": "python",
   "pygments_lexer": "ipython3",
   "version": "3.8.13"
  }
 },
 "nbformat": 4,
 "nbformat_minor": 5
}
