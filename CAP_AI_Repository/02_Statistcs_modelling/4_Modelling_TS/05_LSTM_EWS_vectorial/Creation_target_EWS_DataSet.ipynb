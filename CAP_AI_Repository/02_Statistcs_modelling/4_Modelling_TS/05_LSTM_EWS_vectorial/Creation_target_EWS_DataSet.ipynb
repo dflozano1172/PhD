{
 "cells": [
  {
   "cell_type": "code",
   "execution_count": 1,
   "id": "07f4dc89",
   "metadata": {},
   "outputs": [],
   "source": [
    "##############################################################################\n",
    "# IMPORT ALL TIME PACKAGES\n",
    "##############################################################################\n",
    "import numpy as np\n",
    "import pandas as pd\n",
    "\n",
    "import pickle, time, random, sys, warnings\n",
    "# sys.path is a list of absolute path strings\n",
    "sys.path.append('/home/d/dlr10/Documents/02_Statitics_modelling/0_FunctionsScripts')\n",
    "import Loading_Data_Functions as load_fn\n",
    "import FineTuning_Functions as FineTuning\n",
    "import Learning_Curves_Functions as LearningCurves\n",
    "\n",
    "import warnings\n",
    "warnings.filterwarnings('ignore')\n"
   ]
  },
  {
   "cell_type": "code",
   "execution_count": 2,
   "id": "ddcb8118",
   "metadata": {},
   "outputs": [],
   "source": [
    "# ##############\n",
    "# 1. LOAD DATA ---------------------------------------------------------------\n",
    "# ============================================================================\n",
    "t = time.time()\n",
    "path = r'/home/d/dlr10/Documents/02_Statitics_modelling/DataSets/'\n",
    "df_patients_16_18, df_admissions_16_18, df_eobs_16_18 = load_fn.Load_data()\n",
    "df_patients_19_20, df_admissions_19_20, df_eobs_19_20 = load_fn.Load_data('2019_2020')\n",
    "\n",
    "X_data_16_18 = pickle.load(open(path + 'df_ts_2016_18.pickle','rb')).drop(columns = 'no_sample_series')\n",
    "X_data_19_20 = pickle.load(open(path + 'df_ts_2019_20.pickle','rb')).drop(columns = 'no_sample_series')\n"
   ]
  },
  {
   "cell_type": "code",
   "execution_count": 3,
   "id": "6fd174bb",
   "metadata": {},
   "outputs": [
    {
     "data": {
      "text/html": [
       "<div>\n",
       "<style scoped>\n",
       "    .dataframe tbody tr th:only-of-type {\n",
       "        vertical-align: middle;\n",
       "    }\n",
       "\n",
       "    .dataframe tbody tr th {\n",
       "        vertical-align: top;\n",
       "    }\n",
       "\n",
       "    .dataframe thead th {\n",
       "        text-align: right;\n",
       "    }\n",
       "</style>\n",
       "<table border=\"1\" class=\"dataframe\">\n",
       "  <thead>\n",
       "    <tr style=\"text-align: right;\">\n",
       "      <th></th>\n",
       "      <th>admission_id</th>\n",
       "      <th>rr</th>\n",
       "      <th>ews</th>\n",
       "      <th>heart_rate</th>\n",
       "      <th>temperature</th>\n",
       "      <th>sbp</th>\n",
       "      <th>dbp</th>\n",
       "      <th>Oxygen_Saturation</th>\n",
       "      <th>Assisted_O2</th>\n",
       "      <th>Confusion</th>\n",
       "      <th>...</th>\n",
       "      <th>BASAB</th>\n",
       "      <th>ALB</th>\n",
       "      <th>ALP</th>\n",
       "      <th>BILI</th>\n",
       "      <th>sex</th>\n",
       "      <th>ethnicity</th>\n",
       "      <th>age_at_admin</th>\n",
       "      <th>Comorb_score</th>\n",
       "      <th>Spcfc_Comorb</th>\n",
       "      <th>Mortality</th>\n",
       "    </tr>\n",
       "  </thead>\n",
       "  <tbody>\n",
       "    <tr>\n",
       "      <th>0</th>\n",
       "      <td>30454500</td>\n",
       "      <td>16.0</td>\n",
       "      <td>9.0</td>\n",
       "      <td>143.000000</td>\n",
       "      <td>36.4</td>\n",
       "      <td>81.000000</td>\n",
       "      <td>49.000000</td>\n",
       "      <td>90.000000</td>\n",
       "      <td>1.0</td>\n",
       "      <td>1.0</td>\n",
       "      <td>...</td>\n",
       "      <td>0.02</td>\n",
       "      <td>30.0</td>\n",
       "      <td>120.5</td>\n",
       "      <td>8.0</td>\n",
       "      <td>1.0</td>\n",
       "      <td>0.0</td>\n",
       "      <td>72.0</td>\n",
       "      <td>0.0</td>\n",
       "      <td>1.0</td>\n",
       "      <td>0.0</td>\n",
       "    </tr>\n",
       "    <tr>\n",
       "      <th>1</th>\n",
       "      <td>30454500</td>\n",
       "      <td>15.0</td>\n",
       "      <td>7.0</td>\n",
       "      <td>115.666667</td>\n",
       "      <td>36.5</td>\n",
       "      <td>88.666667</td>\n",
       "      <td>62.333333</td>\n",
       "      <td>92.666667</td>\n",
       "      <td>1.0</td>\n",
       "      <td>1.0</td>\n",
       "      <td>...</td>\n",
       "      <td>0.02</td>\n",
       "      <td>30.0</td>\n",
       "      <td>120.5</td>\n",
       "      <td>8.0</td>\n",
       "      <td>1.0</td>\n",
       "      <td>0.0</td>\n",
       "      <td>72.0</td>\n",
       "      <td>0.0</td>\n",
       "      <td>1.0</td>\n",
       "      <td>0.0</td>\n",
       "    </tr>\n",
       "  </tbody>\n",
       "</table>\n",
       "<p>2 rows × 35 columns</p>\n",
       "</div>"
      ],
      "text/plain": [
       "  admission_id    rr  ews  heart_rate  temperature        sbp        dbp  \\\n",
       "0     30454500  16.0  9.0  143.000000         36.4  81.000000  49.000000   \n",
       "1     30454500  15.0  7.0  115.666667         36.5  88.666667  62.333333   \n",
       "\n",
       "   Oxygen_Saturation  Assisted_O2  Confusion  ...  BASAB   ALB    ALP  BILI  \\\n",
       "0          90.000000          1.0        1.0  ...   0.02  30.0  120.5   8.0   \n",
       "1          92.666667          1.0        1.0  ...   0.02  30.0  120.5   8.0   \n",
       "\n",
       "   sex  ethnicity  age_at_admin  Comorb_score  Spcfc_Comorb  Mortality  \n",
       "0  1.0        0.0          72.0           0.0           1.0        0.0  \n",
       "1  1.0        0.0          72.0           0.0           1.0        0.0  \n",
       "\n",
       "[2 rows x 35 columns]"
      ]
     },
     "execution_count": 3,
     "metadata": {},
     "output_type": "execute_result"
    }
   ],
   "source": [
    "X_data_16_18.head(2)"
   ]
  },
  {
   "cell_type": "code",
   "execution_count": 4,
   "id": "e65258fc",
   "metadata": {},
   "outputs": [],
   "source": [
    "def create_df_fro_ews_modelling(df, len_ts, tar_samp, domn_var):\n",
    "    list_admissions = df['admission_id'].unique().tolist()\n",
    "\n",
    "    list_encodes = []\n",
    "    df_final     = pd.DataFrame()\n",
    "    for i, admission_id in enumerate(list_admissions):\n",
    "        admission  = df[df['admission_id'] == admission_id].copy()\n",
    "        ews_target = int(admission.iloc[tar_samp]['ews'])\n",
    "        #adm_encode = ews_target*[0] + [1] + (domn_var-ews_target-1)*[0]\n",
    "        #list_encodes.append(adm_encode)\n",
    "        list_encodes.append(ews_target)\n",
    "        df_final = pd.concat([df_final, admission.iloc[:len_ts]])\n",
    "\n",
    "        #break\n",
    "        #if i == 2:break\n",
    "    df_final = df_final.drop(columns = ['ews'])\n",
    "    return df_final, list_encodes"
   ]
  },
  {
   "cell_type": "code",
   "execution_count": 5,
   "id": "5e30b03f",
   "metadata": {},
   "outputs": [
    {
     "name": "stdout",
     "output_type": "stream",
     "text": [
      "time elapsed getting set of all feature 1 dayto day 3 544.5152049064636\n"
     ]
    }
   ],
   "source": [
    "# ============================================================================\n",
    "# CREATE DATA WITH ALL FEATURES AND 1 DAY OF TS,AND INITIAL SAMPLE OF EWS AT 3RD DAY\n",
    "# ============================================================================\n",
    "\n",
    "len_ts   = 48\n",
    "tar_samp = 96\n",
    "domn_var = 20 #domain target variable\n",
    "t = time.time ()\n",
    "X_data_16_18_ews, list_encodes_16_18 = create_df_fro_ews_modelling(X_data_16_18, len_ts, tar_samp, domn_var)\n",
    "print(\"time elapsed getting set of all feature 1 dayto day 3\", time.time() -t )"
   ]
  },
  {
   "cell_type": "code",
   "execution_count": 6,
   "id": "86d91874",
   "metadata": {},
   "outputs": [
    {
     "name": "stdout",
     "output_type": "stream",
     "text": [
      "time elapsed getting set of all feature 1 dayto day 3 379.95883345603943\n"
     ]
    }
   ],
   "source": [
    "t = time.time()\n",
    "X_data_19_20_ews, list_encodes_19_20 = create_df_fro_ews_modelling(X_data_19_20, len_ts, tar_samp, domn_var)\n",
    "print(\"time elapsed getting set of all feature 1 dayto day 3\", time.time() -t )"
   ]
  },
  {
   "cell_type": "code",
   "execution_count": 7,
   "id": "15cce7ee",
   "metadata": {},
   "outputs": [],
   "source": [
    "path = r'/home/d/dlr10/Documents/02_Statitics_modelling/DataSets/'\n",
    "pickle.dump([X_data_16_18_ews, list_encodes_16_18],  open(path + 'df_ts_2016_18_ews_1d.pickle', 'wb'))\n",
    "pickle.dump([X_data_19_20_ews, list_encodes_19_20],  open(path + 'df_ts_2019_20_ews_1d.pickle', 'wb'))"
   ]
  },
  {
   "cell_type": "code",
   "execution_count": 8,
   "id": "dff1bbb3",
   "metadata": {},
   "outputs": [
    {
     "name": "stdout",
     "output_type": "stream",
     "text": [
      "time elapsed getting set of all feature 2ND day to LATE 3RD DAY 687.7772452831268\n"
     ]
    }
   ],
   "source": [
    "# ============================================================================\n",
    "# CREATE DATA WITH ALL FEATURES AND 2 DAY OF TS,AND LAST SAMPLE OF EWS AT 3RD DAY\n",
    "# ============================================================================\n",
    "len_ts   = 48 * 2\n",
    "tar_samp = 143\n",
    "domn_var = 20 #domain target variable\n",
    "t = time.time ()\n",
    "X_data_16_18_ews, list_encodes_16_18 = create_df_fro_ews_modelling(X_data_16_18, len_ts, tar_samp, domn_var)\n",
    "print(\"time elapsed getting set of all feature 2ND day to LATE 3RD DAY\", time.time() -t )"
   ]
  },
  {
   "cell_type": "code",
   "execution_count": 9,
   "id": "e83c990c",
   "metadata": {},
   "outputs": [
    {
     "name": "stdout",
     "output_type": "stream",
     "text": [
      "time elapsed getting set of all feature 2ND day to LATE 3RD DAY 515.4572007656097\n"
     ]
    }
   ],
   "source": [
    "t = time.time()\n",
    "X_data_19_20_ews, list_encodes_19_20 = create_df_fro_ews_modelling(X_data_19_20, len_ts, tar_samp, domn_var)\n",
    "print(\"time elapsed getting set of all feature 2ND day to LATE 3RD DAY\", time.time() -t )"
   ]
  },
  {
   "cell_type": "code",
   "execution_count": 10,
   "id": "f29a67f1",
   "metadata": {},
   "outputs": [],
   "source": [
    "path = r'/home/d/dlr10/Documents/02_Statitics_modelling/DataSets/'\n",
    "pickle.dump([X_data_16_18_ews, list_encodes_16_18],  open(path + 'df_ts_2016_18_ews_2d.pickle', 'wb'))\n",
    "pickle.dump([X_data_19_20_ews, list_encodes_19_20],  open(path + 'df_ts_2019_20_ews_2d.pickle', 'wb'))"
   ]
  },
  {
   "cell_type": "code",
   "execution_count": null,
   "id": "f8e8850d",
   "metadata": {},
   "outputs": [],
   "source": []
  },
  {
   "cell_type": "code",
   "execution_count": null,
   "id": "b3f9c9bf",
   "metadata": {},
   "outputs": [],
   "source": []
  },
  {
   "cell_type": "code",
   "execution_count": null,
   "id": "1522d26f",
   "metadata": {},
   "outputs": [],
   "source": []
  }
 ],
 "metadata": {
  "kernelspec": {
   "display_name": "Python 3 (ipykernel)",
   "language": "python",
   "name": "python3"
  },
  "language_info": {
   "codemirror_mode": {
    "name": "ipython",
    "version": 3
   },
   "file_extension": ".py",
   "mimetype": "text/x-python",
   "name": "python",
   "nbconvert_exporter": "python",
   "pygments_lexer": "ipython3",
   "version": "3.8.13"
  }
 },
 "nbformat": 4,
 "nbformat_minor": 5
}
