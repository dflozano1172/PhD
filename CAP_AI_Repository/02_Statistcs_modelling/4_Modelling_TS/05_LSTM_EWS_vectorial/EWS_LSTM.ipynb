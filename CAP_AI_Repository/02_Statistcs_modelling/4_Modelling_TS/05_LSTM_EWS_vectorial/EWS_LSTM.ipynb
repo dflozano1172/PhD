{
 "cells": [
  {
   "cell_type": "code",
   "execution_count": 1,
   "id": "91941c8b",
   "metadata": {},
   "outputs": [
    {
     "name": "stderr",
     "output_type": "stream",
     "text": [
      "2022-09-22 15:58:39.689931: W tensorflow/stream_executor/platform/default/dso_loader.cc:64] Could not load dynamic library 'libcudart.so.11.0'; dlerror: libcudart.so.11.0: cannot open shared object file: No such file or directory; LD_LIBRARY_PATH: /cm/local/apps/gcc/8.2.0/lib:/cm/local/apps/gcc/8.2.0/lib64:/cm/local/apps/torque/6.1.3/lib\n",
      "2022-09-22 15:58:39.689962: I tensorflow/stream_executor/cuda/cudart_stub.cc:29] Ignore above cudart dlerror if you do not have a GPU set up on your machine.\n"
     ]
    }
   ],
   "source": [
    "%reset -f\n",
    "import pandas as pd\n",
    "import numpy as np\n",
    "\n",
    "from xgboost import XGBClassifier\n",
    "import matplotlib.pyplot as plt\n",
    "import seaborn as sns\n",
    "\n",
    "import re, sqlite3, pickle, time, datetime, random, sys, warnings\n",
    "# sys.path is a list of absolute path strings\n",
    "sys.path.append('/home/d/dlr10/Documents/02_Statitics_modelling/0_FunctionsScripts')\n",
    "import Loading_Data_Functions as load_fn\n",
    "import FineTuning_Functions as FineTuning\n",
    "import Learning_Curves_Functions as LearningCurves\n",
    "\n",
    "from tensorflow.keras.utils import to_categorical\n",
    "from tensorflow.keras import Sequential, layers\n",
    "warnings.filterwarnings('ignore')\n",
    "\n",
    "pd.options.display.float_format = '{:,.3f}'.format"
   ]
  },
  {
   "cell_type": "markdown",
   "id": "98da2c64",
   "metadata": {},
   "source": [
    "# 0. Functions"
   ]
  },
  {
   "cell_type": "markdown",
   "id": "ef1b963f",
   "metadata": {},
   "source": [
    "### 0.1. Encoding Functions"
   ]
  },
  {
   "cell_type": "code",
   "execution_count": 2,
   "id": "a43c184c",
   "metadata": {},
   "outputs": [],
   "source": [
    "############################################################\n",
    "# ENCODING CATEGORICAL VARIABLES WITH TARGET ENCODER OR NORMALISE CONTINUOUS VARIABLES\n",
    "# https://towardsdatascience.com/target-encoding-and-bayesian-target-encoding-5c6a6c58ae8c\n",
    "############################################################\n",
    "def target_encoder_Binary(column, target, X_data):\n",
    "    df = []\n",
    "    for cat in X_data[column].unique():\n",
    "        row = []\n",
    "        row.append(len(X_data[(X_data[target]==0) & (X_data[column] == cat)]))\n",
    "        row.append(len(X_data[(X_data[target]==1) & (X_data[column] == cat)]))\n",
    "        df.append(row)\n",
    "    df = pd.DataFrame(df, index = X_data[column].unique(), columns = ['0','1'])\n",
    "    df['prob'] = df['1']/(df['1']+df['0'])\n",
    "    col_encod = X_data[column].map(dict(zip(df.index, df['prob'])))\n",
    "    return col_encod, df\n",
    "############################################################\n",
    "def Normalise_n_encode_train_set(X_data, feat_list, data_types):\n",
    "    encoder = []\n",
    "    X_data_norm_2 = pd.DataFrame()\n",
    "    for feat in feat_list:\n",
    "        feat_ = feat.replace(\"_Peak\",\"\")\n",
    "        feat_ = feat_.replace(\"_Trough\",\"\")\n",
    "        \n",
    "        if data_types[feat_] == 'Continuous':\n",
    "            X_data_feat = X_data[feat]\n",
    "            mean        = X_data_feat.mean()\n",
    "            std         = X_data_feat.std()\n",
    "            X_data_norm_2[feat] = (X_data_feat - mean)/std\n",
    "            encoder.append([feat, data_types[feat_], [mean, std]])\n",
    "            \n",
    "        elif data_types[feat_] == 'Categorical':\n",
    "            #X_data_norm_2[feat] = X_data[feat].copy()\n",
    "            #encoder.append([feat, data_types[feat_], \"\"])\n",
    "            X_data_norm_2[feat],df = target_encoder_Binary(feat, 'Mortality', X_data)\n",
    "            encoder.append([feat, data_types[feat_], df])\n",
    "            \n",
    "        elif data_types[feat_] == 'Binary':\n",
    "            X_data_norm_2[feat] = X_data[feat].copy()\n",
    "            encoder.append([feat, data_types[feat_], \"\"])\n",
    "    encoder =pd.DataFrame(encoder, columns = ['feature','type','parameters'])\n",
    "    return X_data_norm_2,encoder\n",
    "############################################################\n",
    "def Normalise_n_encode_val_set(val_data, norm_encoder, feat_list, data_types):\n",
    "    X_data_norm_2 = pd.DataFrame()\n",
    "    for feat in feat_list:        \n",
    "        feat_encode = norm_encoder[norm_encoder['feature'] == feat].iloc[0]\n",
    "        if feat_encode['type'] == 'Continuous':\n",
    "            X_data_feat = val_data[feat]\n",
    "            mean, std   = feat_encode['parameters']\n",
    "            X_data_norm_2[feat] = (X_data_feat - mean)/std\n",
    "\n",
    "        elif feat_encode['type'] == 'Categorical':\n",
    "            #X_data_norm_2[feat] = val_data[feat].copy()\n",
    "            df = feat_encode['parameters']\n",
    "            X_data_norm_2[feat] = val_data[feat].map(dict(zip(df.index, df['prob'])))\n",
    "            X_data_norm_2[feat] = X_data_norm_2[feat].fillna(0)\n",
    "        elif feat_encode['type'] == 'Binary':\n",
    "            X_data_norm_2[feat] = val_data[feat].copy()\n",
    "    return X_data_norm_2\n",
    "############################################################"
   ]
  },
  {
   "cell_type": "markdown",
   "id": "84c48812",
   "metadata": {},
   "source": [
    "### 0.2. Split Data Function"
   ]
  },
  {
   "cell_type": "code",
   "execution_count": 3,
   "id": "1d626e92",
   "metadata": {},
   "outputs": [],
   "source": [
    "\n",
    "def train_valid_sets(X_train_set, X_valid_set):\n",
    "    #######################################\n",
    "    ### SPLIT DATA\n",
    "    #######################################\n",
    "    train_set = X_train_set\n",
    "    valid_set = X_valid_set\n",
    "\n",
    "    print('total admissions 16 18', len(X_train_set))\n",
    "    print('total admissions 19 20', len(X_valid_set))\n",
    "    print('X_train', len(train_set))\n",
    "    print('Admissions neg (mortal - class = 0):', len(train_set[train_set['Mortality']==0]),\n",
    "          'Admissions pos (recover- class = 1):', len(train_set[train_set['Mortality']==1]))\n",
    "    print('X_valid', len(valid_set))\n",
    "    print('Admissions neg (mortal - class = 0):', len(valid_set[valid_set['Mortality']==0]), \n",
    "          'Admissions pos (recover- class = 1):', len(valid_set[valid_set['Mortality']==1]))\n",
    "    return train_set, valid_set"
   ]
  },
  {
   "cell_type": "markdown",
   "id": "4c1fa1dd",
   "metadata": {},
   "source": [
    "### 0.3. Encoding Data Function"
   ]
  },
  {
   "cell_type": "code",
   "execution_count": 4,
   "id": "87f1e7f1",
   "metadata": {},
   "outputs": [],
   "source": [
    "def encoding_data(train_set, valid_set, feat_list, data_types):\n",
    "    ############################################################\n",
    "    train_set_norm, encoder = Normalise_n_encode_train_set(train_set, feat_list, data_types)\n",
    "    valid_set_norm          = Normalise_n_encode_val_set(valid_set, encoder, feat_list, data_types)\n",
    "    print(\"==========================================================================================================\")\n",
    "    print('----------------------------------TRAIN SET---------------------------------------------------------------')\n",
    "    print(\"==========================================================================================================\")\n",
    "    display(train_set.head(4))\n",
    "    display(train_set_norm.head(4))\n",
    "    print(\"==========================================================================================================\")\n",
    "    print('----------------------------------VALIDATION SET----------------------------------------------------------')\n",
    "    print(\"==========================================================================================================\")\n",
    "    display(valid_set.head(4))\n",
    "    display(valid_set_norm.head(4))\n",
    "    display(encoder)\n",
    "    return train_set_norm, valid_set_norm, encoder"
   ]
  },
  {
   "cell_type": "code",
   "execution_count": null,
   "id": "52c3e369",
   "metadata": {},
   "outputs": [],
   "source": []
  },
  {
   "cell_type": "markdown",
   "id": "4fa71238",
   "metadata": {},
   "source": [
    "# 1. Load Data"
   ]
  },
  {
   "cell_type": "code",
   "execution_count": 5,
   "id": "19466fa9",
   "metadata": {},
   "outputs": [
    {
     "name": "stdout",
     "output_type": "stream",
     "text": [
      "=================================FIRST RECORDED SAMPLE ADMISSION=================================\n",
      "-------------------------------------- 2016 - 2018 ----------------------------------------------\n"
     ]
    },
    {
     "data": {
      "text/html": [
       "<div>\n",
       "<style scoped>\n",
       "    .dataframe tbody tr th:only-of-type {\n",
       "        vertical-align: middle;\n",
       "    }\n",
       "\n",
       "    .dataframe tbody tr th {\n",
       "        vertical-align: top;\n",
       "    }\n",
       "\n",
       "    .dataframe thead th {\n",
       "        text-align: right;\n",
       "    }\n",
       "</style>\n",
       "<table border=\"1\" class=\"dataframe\">\n",
       "  <thead>\n",
       "    <tr style=\"text-align: right;\">\n",
       "      <th></th>\n",
       "      <th>admission_id</th>\n",
       "      <th>rr</th>\n",
       "      <th>heart_rate</th>\n",
       "      <th>temperature</th>\n",
       "      <th>sbp</th>\n",
       "      <th>dbp</th>\n",
       "      <th>Oxygen_Saturation</th>\n",
       "      <th>Assisted_O2</th>\n",
       "      <th>Confusion</th>\n",
       "      <th>CREA</th>\n",
       "      <th>...</th>\n",
       "      <th>BASAB</th>\n",
       "      <th>ALB</th>\n",
       "      <th>ALP</th>\n",
       "      <th>BILI</th>\n",
       "      <th>sex</th>\n",
       "      <th>ethnicity</th>\n",
       "      <th>age_at_admin</th>\n",
       "      <th>Comorb_score</th>\n",
       "      <th>Spcfc_Comorb</th>\n",
       "      <th>Mortality</th>\n",
       "    </tr>\n",
       "  </thead>\n",
       "  <tbody>\n",
       "    <tr>\n",
       "      <th>0</th>\n",
       "      <td>30454500</td>\n",
       "      <td>16.000</td>\n",
       "      <td>143.000</td>\n",
       "      <td>36.400</td>\n",
       "      <td>81.000</td>\n",
       "      <td>49.000</td>\n",
       "      <td>90.000</td>\n",
       "      <td>1.000</td>\n",
       "      <td>1.000</td>\n",
       "      <td>76.000</td>\n",
       "      <td>...</td>\n",
       "      <td>0.020</td>\n",
       "      <td>30.000</td>\n",
       "      <td>120.500</td>\n",
       "      <td>8.000</td>\n",
       "      <td>1.000</td>\n",
       "      <td>0.000</td>\n",
       "      <td>72.000</td>\n",
       "      <td>0.000</td>\n",
       "      <td>1.000</td>\n",
       "      <td>0.000</td>\n",
       "    </tr>\n",
       "    <tr>\n",
       "      <th>1</th>\n",
       "      <td>30454500</td>\n",
       "      <td>15.000</td>\n",
       "      <td>115.667</td>\n",
       "      <td>36.500</td>\n",
       "      <td>88.667</td>\n",
       "      <td>62.333</td>\n",
       "      <td>92.667</td>\n",
       "      <td>1.000</td>\n",
       "      <td>1.000</td>\n",
       "      <td>76.000</td>\n",
       "      <td>...</td>\n",
       "      <td>0.020</td>\n",
       "      <td>30.000</td>\n",
       "      <td>120.500</td>\n",
       "      <td>8.000</td>\n",
       "      <td>1.000</td>\n",
       "      <td>0.000</td>\n",
       "      <td>72.000</td>\n",
       "      <td>0.000</td>\n",
       "      <td>1.000</td>\n",
       "      <td>0.000</td>\n",
       "    </tr>\n",
       "    <tr>\n",
       "      <th>2</th>\n",
       "      <td>30454500</td>\n",
       "      <td>14.000</td>\n",
       "      <td>88.333</td>\n",
       "      <td>36.600</td>\n",
       "      <td>96.333</td>\n",
       "      <td>75.667</td>\n",
       "      <td>95.333</td>\n",
       "      <td>1.000</td>\n",
       "      <td>1.000</td>\n",
       "      <td>76.000</td>\n",
       "      <td>...</td>\n",
       "      <td>0.020</td>\n",
       "      <td>30.000</td>\n",
       "      <td>120.500</td>\n",
       "      <td>8.000</td>\n",
       "      <td>1.000</td>\n",
       "      <td>0.000</td>\n",
       "      <td>72.000</td>\n",
       "      <td>0.000</td>\n",
       "      <td>1.000</td>\n",
       "      <td>0.000</td>\n",
       "    </tr>\n",
       "  </tbody>\n",
       "</table>\n",
       "<p>3 rows × 34 columns</p>\n",
       "</div>"
      ],
      "text/plain": [
       "  admission_id     rr  heart_rate  temperature    sbp    dbp  \\\n",
       "0     30454500 16.000     143.000       36.400 81.000 49.000   \n",
       "1     30454500 15.000     115.667       36.500 88.667 62.333   \n",
       "2     30454500 14.000      88.333       36.600 96.333 75.667   \n",
       "\n",
       "   Oxygen_Saturation  Assisted_O2  Confusion   CREA  ...  BASAB    ALB  \\\n",
       "0             90.000        1.000      1.000 76.000  ...  0.020 30.000   \n",
       "1             92.667        1.000      1.000 76.000  ...  0.020 30.000   \n",
       "2             95.333        1.000      1.000 76.000  ...  0.020 30.000   \n",
       "\n",
       "      ALP  BILI   sex  ethnicity  age_at_admin  Comorb_score  Spcfc_Comorb  \\\n",
       "0 120.500 8.000 1.000      0.000        72.000         0.000         1.000   \n",
       "1 120.500 8.000 1.000      0.000        72.000         0.000         1.000   \n",
       "2 120.500 8.000 1.000      0.000        72.000         0.000         1.000   \n",
       "\n",
       "   Mortality  \n",
       "0      0.000  \n",
       "1      0.000  \n",
       "2      0.000  \n",
       "\n",
       "[3 rows x 34 columns]"
      ]
     },
     "metadata": {},
     "output_type": "display_data"
    },
    {
     "name": "stdout",
     "output_type": "stream",
     "text": [
      "\n",
      "-------------------------------------- 2019 - 2020 ----------------------------------------------\n"
     ]
    },
    {
     "data": {
      "text/html": [
       "<div>\n",
       "<style scoped>\n",
       "    .dataframe tbody tr th:only-of-type {\n",
       "        vertical-align: middle;\n",
       "    }\n",
       "\n",
       "    .dataframe tbody tr th {\n",
       "        vertical-align: top;\n",
       "    }\n",
       "\n",
       "    .dataframe thead th {\n",
       "        text-align: right;\n",
       "    }\n",
       "</style>\n",
       "<table border=\"1\" class=\"dataframe\">\n",
       "  <thead>\n",
       "    <tr style=\"text-align: right;\">\n",
       "      <th></th>\n",
       "      <th>admission_id</th>\n",
       "      <th>rr</th>\n",
       "      <th>heart_rate</th>\n",
       "      <th>temperature</th>\n",
       "      <th>sbp</th>\n",
       "      <th>dbp</th>\n",
       "      <th>Oxygen_Saturation</th>\n",
       "      <th>Assisted_O2</th>\n",
       "      <th>Confusion</th>\n",
       "      <th>CREA</th>\n",
       "      <th>...</th>\n",
       "      <th>BASAB</th>\n",
       "      <th>ALB</th>\n",
       "      <th>ALP</th>\n",
       "      <th>BILI</th>\n",
       "      <th>sex</th>\n",
       "      <th>ethnicity</th>\n",
       "      <th>age_at_admin</th>\n",
       "      <th>Comorb_score</th>\n",
       "      <th>Spcfc_Comorb</th>\n",
       "      <th>Mortality</th>\n",
       "    </tr>\n",
       "  </thead>\n",
       "  <tbody>\n",
       "    <tr>\n",
       "      <th>0</th>\n",
       "      <td>58578756</td>\n",
       "      <td>20.000</td>\n",
       "      <td>110.000</td>\n",
       "      <td>38.400</td>\n",
       "      <td>147.000</td>\n",
       "      <td>92.000</td>\n",
       "      <td>97.000</td>\n",
       "      <td>0.000</td>\n",
       "      <td>0.000</td>\n",
       "      <td>95.000</td>\n",
       "      <td>...</td>\n",
       "      <td>0.080</td>\n",
       "      <td>45.000</td>\n",
       "      <td>137.000</td>\n",
       "      <td>12.000</td>\n",
       "      <td>-1.000</td>\n",
       "      <td>0.000</td>\n",
       "      <td>59.000</td>\n",
       "      <td>6.000</td>\n",
       "      <td>1.000</td>\n",
       "      <td>0.000</td>\n",
       "    </tr>\n",
       "    <tr>\n",
       "      <th>1</th>\n",
       "      <td>58578756</td>\n",
       "      <td>19.619</td>\n",
       "      <td>108.190</td>\n",
       "      <td>38.343</td>\n",
       "      <td>145.762</td>\n",
       "      <td>90.667</td>\n",
       "      <td>96.905</td>\n",
       "      <td>0.000</td>\n",
       "      <td>0.000</td>\n",
       "      <td>95.000</td>\n",
       "      <td>...</td>\n",
       "      <td>0.080</td>\n",
       "      <td>45.000</td>\n",
       "      <td>137.000</td>\n",
       "      <td>12.000</td>\n",
       "      <td>-1.000</td>\n",
       "      <td>0.000</td>\n",
       "      <td>59.000</td>\n",
       "      <td>6.000</td>\n",
       "      <td>1.000</td>\n",
       "      <td>0.000</td>\n",
       "    </tr>\n",
       "    <tr>\n",
       "      <th>2</th>\n",
       "      <td>58578756</td>\n",
       "      <td>19.238</td>\n",
       "      <td>106.381</td>\n",
       "      <td>38.286</td>\n",
       "      <td>144.524</td>\n",
       "      <td>89.333</td>\n",
       "      <td>96.810</td>\n",
       "      <td>0.000</td>\n",
       "      <td>0.000</td>\n",
       "      <td>94.750</td>\n",
       "      <td>...</td>\n",
       "      <td>0.079</td>\n",
       "      <td>44.958</td>\n",
       "      <td>137.073</td>\n",
       "      <td>11.969</td>\n",
       "      <td>-1.000</td>\n",
       "      <td>0.000</td>\n",
       "      <td>59.000</td>\n",
       "      <td>6.000</td>\n",
       "      <td>1.000</td>\n",
       "      <td>0.000</td>\n",
       "    </tr>\n",
       "  </tbody>\n",
       "</table>\n",
       "<p>3 rows × 34 columns</p>\n",
       "</div>"
      ],
      "text/plain": [
       "  admission_id     rr  heart_rate  temperature     sbp    dbp  \\\n",
       "0     58578756 20.000     110.000       38.400 147.000 92.000   \n",
       "1     58578756 19.619     108.190       38.343 145.762 90.667   \n",
       "2     58578756 19.238     106.381       38.286 144.524 89.333   \n",
       "\n",
       "   Oxygen_Saturation  Assisted_O2  Confusion   CREA  ...  BASAB    ALB  \\\n",
       "0             97.000        0.000      0.000 95.000  ...  0.080 45.000   \n",
       "1             96.905        0.000      0.000 95.000  ...  0.080 45.000   \n",
       "2             96.810        0.000      0.000 94.750  ...  0.079 44.958   \n",
       "\n",
       "      ALP   BILI    sex  ethnicity  age_at_admin  Comorb_score  Spcfc_Comorb  \\\n",
       "0 137.000 12.000 -1.000      0.000        59.000         6.000         1.000   \n",
       "1 137.000 12.000 -1.000      0.000        59.000         6.000         1.000   \n",
       "2 137.073 11.969 -1.000      0.000        59.000         6.000         1.000   \n",
       "\n",
       "   Mortality  \n",
       "0      0.000  \n",
       "1      0.000  \n",
       "2      0.000  \n",
       "\n",
       "[3 rows x 34 columns]"
      ]
     },
     "metadata": {},
     "output_type": "display_data"
    },
    {
     "name": "stdout",
     "output_type": "stream",
     "text": [
      "Elapsed time: 0.16694355010986328\n"
     ]
    }
   ],
   "source": [
    "t = time.time()\n",
    "path = r'/home/d/dlr10/Documents/02_Statitics_modelling/DataSets/'\n",
    "\n",
    "X_data_16_18 = pickle.load(open(path + 'df_ts_2016_18_ews_1d.pickle','rb'))\n",
    "X_data_19_20 = pickle.load(open(path + 'df_ts_2019_20_ews_1d.pickle','rb'))\n",
    "\n",
    "\n",
    "print(\"=================================FIRST RECORDED SAMPLE ADMISSION=================================\")\n",
    "print(\"-------------------------------------- 2016 - 2018 ----------------------------------------------\")\n",
    "display(X_data_16_18[0].head(3))\n",
    "print(\"\")\n",
    "print(\"-------------------------------------- 2019 - 2020 ----------------------------------------------\")\n",
    "display(X_data_19_20[0].head(3))\n",
    "\n",
    "print(\"Elapsed time:\", time.time()-t)"
   ]
  },
  {
   "cell_type": "code",
   "execution_count": 6,
   "id": "319e3ca2",
   "metadata": {},
   "outputs": [
    {
     "data": {
      "text/plain": [
       "1457"
      ]
     },
     "execution_count": 6,
     "metadata": {},
     "output_type": "execute_result"
    }
   ],
   "source": [
    "len(X_data_16_18[0][X_data_16_18[0]['Mortality']==1]['admission_id'].unique())"
   ]
  },
  {
   "cell_type": "code",
   "execution_count": 7,
   "id": "a49f6430",
   "metadata": {},
   "outputs": [
    {
     "name": "stdout",
     "output_type": "stream",
     "text": [
      "['rr', 'heart_rate', 'temperature', 'sbp', 'dbp', 'Oxygen_Saturation', 'Assisted_O2', 'Confusion', 'CREA', 'UREA', 'K', 'GFR', 'WBC', 'PLT', 'HCT', 'HGB', 'RBC', 'MCH', 'MCV', 'NEUAB', 'TLYMAB', 'EOSAB', 'MONAB', 'BASAB', 'ALB', 'ALP', 'BILI', 'sex', 'ethnicity', 'age_at_admin', 'Comorb_score', 'Spcfc_Comorb']\n",
      "Number of features: 32\n"
     ]
    }
   ],
   "source": [
    "feat_list = X_data_16_18[0].columns.tolist()\n",
    "feat_list = feat_list[1:-1]\n",
    "print(feat_list)\n",
    "print(\"Number of features:\",len(feat_list))"
   ]
  },
  {
   "cell_type": "code",
   "execution_count": 8,
   "id": "b362c914",
   "metadata": {},
   "outputs": [],
   "source": [
    "# Loading the CSV with types\n",
    "data_types = pd.read_csv('/home/d/dlr10/Documents/02_Statitics_modelling/2_Statistics/csv_Type_variables.csv')\n",
    "# Dictionary of features and types\n",
    "data_types = data_types.set_index('Variable').to_dict()['Type']"
   ]
  },
  {
   "cell_type": "markdown",
   "id": "88cf8f12",
   "metadata": {},
   "source": [
    "# Processing Data"
   ]
  },
  {
   "cell_type": "code",
   "execution_count": 9,
   "id": "dc7e03a3",
   "metadata": {},
   "outputs": [
    {
     "name": "stdout",
     "output_type": "stream",
     "text": [
      "Elapsed time processing data: 0.8554601669311523\n"
     ]
    }
   ],
   "source": [
    "# ##############\n",
    "# 2. PROCESSING DATA ---------------------------------------------------------\n",
    "# ============================================================================\n",
    "t = time.time()\n",
    "### SPLIT DATA #######################################\n",
    "train_set = X_data_16_18[0].copy()\n",
    "valid_set = X_data_19_20[0].copy()\n",
    "\n",
    "### ENCODING DATA ####################################\n",
    "train_set_norm, encoder = Normalise_n_encode_train_set(train_set, feat_list, data_types)\n",
    "valid_set_norm          = Normalise_n_encode_val_set(valid_set, encoder, feat_list, data_types)\n",
    "\n",
    "### SET DATA AS ARRAYs ###############################\n",
    "num_samp_train = len(train_set['admission_id'].unique().tolist())\n",
    "num_samp_valid = len(valid_set['admission_id'].unique().tolist())\n",
    "num_features   = len(train_set_norm.columns.tolist())\n",
    "num_time_samp  = len(train_set[train_set['admission_id']==train_set['admission_id'].tolist()[0]])\n",
    "X_train    = np.array(train_set_norm).reshape((num_samp_train, num_time_samp, num_features ))\n",
    "X_valid    = np.array(valid_set_norm).reshape((num_samp_valid, num_time_samp, num_features ))\n",
    "df         = train_set[['admission_id', 'Mortality']].groupby(by= 'admission_id').mean()\n",
    "mort_dict  = dict(zip(df.index.tolist(),df['Mortality']))\n",
    "y_train    = np.array(X_data_16_18[1].copy())\n",
    "EWS_bands  = lambda x: 0 if x == 0 else 1 if x == 1 else 2 if x == 2 else 3 if x == 3 else 4\n",
    "y_train    = np.array([EWS_bands(x) for x in y_train])\n",
    "\n",
    "df         = valid_set[['admission_id', 'Mortality']].groupby(by= 'admission_id').mean()\n",
    "mort_dict  = dict(zip(df.index.tolist(),df['Mortality']))\n",
    "y_valid    = np.array(X_data_19_20[1].copy())\n",
    "y_valid    = np.array([EWS_bands(x) for x in y_valid])\n",
    "print(\"Elapsed time processing data:\", time.time()-t)\n",
    "# ============================================================================"
   ]
  },
  {
   "cell_type": "code",
   "execution_count": 10,
   "id": "2cf962a8",
   "metadata": {},
   "outputs": [
    {
     "data": {
      "text/html": [
       "<div>\n",
       "<style scoped>\n",
       "    .dataframe tbody tr th:only-of-type {\n",
       "        vertical-align: middle;\n",
       "    }\n",
       "\n",
       "    .dataframe tbody tr th {\n",
       "        vertical-align: top;\n",
       "    }\n",
       "\n",
       "    .dataframe thead th {\n",
       "        text-align: right;\n",
       "    }\n",
       "</style>\n",
       "<table border=\"1\" class=\"dataframe\">\n",
       "  <thead>\n",
       "    <tr style=\"text-align: right;\">\n",
       "      <th></th>\n",
       "      <th>admission_id</th>\n",
       "      <th>rr</th>\n",
       "      <th>heart_rate</th>\n",
       "      <th>temperature</th>\n",
       "      <th>sbp</th>\n",
       "      <th>dbp</th>\n",
       "      <th>Oxygen_Saturation</th>\n",
       "      <th>Assisted_O2</th>\n",
       "      <th>Confusion</th>\n",
       "      <th>CREA</th>\n",
       "      <th>...</th>\n",
       "      <th>BASAB</th>\n",
       "      <th>ALB</th>\n",
       "      <th>ALP</th>\n",
       "      <th>BILI</th>\n",
       "      <th>sex</th>\n",
       "      <th>ethnicity</th>\n",
       "      <th>age_at_admin</th>\n",
       "      <th>Comorb_score</th>\n",
       "      <th>Spcfc_Comorb</th>\n",
       "      <th>Mortality</th>\n",
       "    </tr>\n",
       "  </thead>\n",
       "  <tbody>\n",
       "    <tr>\n",
       "      <th>0</th>\n",
       "      <td>30454500</td>\n",
       "      <td>16.000</td>\n",
       "      <td>143.000</td>\n",
       "      <td>36.400</td>\n",
       "      <td>81.000</td>\n",
       "      <td>49.000</td>\n",
       "      <td>90.000</td>\n",
       "      <td>1.000</td>\n",
       "      <td>1.000</td>\n",
       "      <td>76.000</td>\n",
       "      <td>...</td>\n",
       "      <td>0.020</td>\n",
       "      <td>30.000</td>\n",
       "      <td>120.500</td>\n",
       "      <td>8.000</td>\n",
       "      <td>1.000</td>\n",
       "      <td>0.000</td>\n",
       "      <td>72.000</td>\n",
       "      <td>0.000</td>\n",
       "      <td>1.000</td>\n",
       "      <td>0.000</td>\n",
       "    </tr>\n",
       "    <tr>\n",
       "      <th>1</th>\n",
       "      <td>30454500</td>\n",
       "      <td>15.000</td>\n",
       "      <td>115.667</td>\n",
       "      <td>36.500</td>\n",
       "      <td>88.667</td>\n",
       "      <td>62.333</td>\n",
       "      <td>92.667</td>\n",
       "      <td>1.000</td>\n",
       "      <td>1.000</td>\n",
       "      <td>76.000</td>\n",
       "      <td>...</td>\n",
       "      <td>0.020</td>\n",
       "      <td>30.000</td>\n",
       "      <td>120.500</td>\n",
       "      <td>8.000</td>\n",
       "      <td>1.000</td>\n",
       "      <td>0.000</td>\n",
       "      <td>72.000</td>\n",
       "      <td>0.000</td>\n",
       "      <td>1.000</td>\n",
       "      <td>0.000</td>\n",
       "    </tr>\n",
       "    <tr>\n",
       "      <th>2</th>\n",
       "      <td>30454500</td>\n",
       "      <td>14.000</td>\n",
       "      <td>88.333</td>\n",
       "      <td>36.600</td>\n",
       "      <td>96.333</td>\n",
       "      <td>75.667</td>\n",
       "      <td>95.333</td>\n",
       "      <td>1.000</td>\n",
       "      <td>1.000</td>\n",
       "      <td>76.000</td>\n",
       "      <td>...</td>\n",
       "      <td>0.020</td>\n",
       "      <td>30.000</td>\n",
       "      <td>120.500</td>\n",
       "      <td>8.000</td>\n",
       "      <td>1.000</td>\n",
       "      <td>0.000</td>\n",
       "      <td>72.000</td>\n",
       "      <td>0.000</td>\n",
       "      <td>1.000</td>\n",
       "      <td>0.000</td>\n",
       "    </tr>\n",
       "    <tr>\n",
       "      <th>3</th>\n",
       "      <td>30454500</td>\n",
       "      <td>13.000</td>\n",
       "      <td>61.000</td>\n",
       "      <td>36.700</td>\n",
       "      <td>104.000</td>\n",
       "      <td>89.000</td>\n",
       "      <td>98.000</td>\n",
       "      <td>1.000</td>\n",
       "      <td>0.000</td>\n",
       "      <td>76.000</td>\n",
       "      <td>...</td>\n",
       "      <td>0.020</td>\n",
       "      <td>30.000</td>\n",
       "      <td>120.500</td>\n",
       "      <td>8.000</td>\n",
       "      <td>1.000</td>\n",
       "      <td>0.000</td>\n",
       "      <td>72.000</td>\n",
       "      <td>0.000</td>\n",
       "      <td>1.000</td>\n",
       "      <td>0.000</td>\n",
       "    </tr>\n",
       "    <tr>\n",
       "      <th>4</th>\n",
       "      <td>30454500</td>\n",
       "      <td>13.400</td>\n",
       "      <td>65.400</td>\n",
       "      <td>36.720</td>\n",
       "      <td>105.000</td>\n",
       "      <td>89.000</td>\n",
       "      <td>97.600</td>\n",
       "      <td>1.000</td>\n",
       "      <td>0.000</td>\n",
       "      <td>76.000</td>\n",
       "      <td>...</td>\n",
       "      <td>0.020</td>\n",
       "      <td>30.000</td>\n",
       "      <td>120.500</td>\n",
       "      <td>8.000</td>\n",
       "      <td>1.000</td>\n",
       "      <td>0.000</td>\n",
       "      <td>72.000</td>\n",
       "      <td>0.000</td>\n",
       "      <td>1.000</td>\n",
       "      <td>0.000</td>\n",
       "    </tr>\n",
       "    <tr>\n",
       "      <th>...</th>\n",
       "      <td>...</td>\n",
       "      <td>...</td>\n",
       "      <td>...</td>\n",
       "      <td>...</td>\n",
       "      <td>...</td>\n",
       "      <td>...</td>\n",
       "      <td>...</td>\n",
       "      <td>...</td>\n",
       "      <td>...</td>\n",
       "      <td>...</td>\n",
       "      <td>...</td>\n",
       "      <td>...</td>\n",
       "      <td>...</td>\n",
       "      <td>...</td>\n",
       "      <td>...</td>\n",
       "      <td>...</td>\n",
       "      <td>...</td>\n",
       "      <td>...</td>\n",
       "      <td>...</td>\n",
       "      <td>...</td>\n",
       "      <td>...</td>\n",
       "    </tr>\n",
       "    <tr>\n",
       "      <th>1102507</th>\n",
       "      <td>52573088</td>\n",
       "      <td>18.000</td>\n",
       "      <td>69.000</td>\n",
       "      <td>36.756</td>\n",
       "      <td>105.667</td>\n",
       "      <td>50.222</td>\n",
       "      <td>96.444</td>\n",
       "      <td>1.000</td>\n",
       "      <td>1.000</td>\n",
       "      <td>56.524</td>\n",
       "      <td>...</td>\n",
       "      <td>0.038</td>\n",
       "      <td>38.000</td>\n",
       "      <td>93.000</td>\n",
       "      <td>12.000</td>\n",
       "      <td>1.000</td>\n",
       "      <td>0.000</td>\n",
       "      <td>80.000</td>\n",
       "      <td>6.000</td>\n",
       "      <td>1.000</td>\n",
       "      <td>0.000</td>\n",
       "    </tr>\n",
       "    <tr>\n",
       "      <th>1102508</th>\n",
       "      <td>52573088</td>\n",
       "      <td>18.000</td>\n",
       "      <td>71.000</td>\n",
       "      <td>36.778</td>\n",
       "      <td>106.333</td>\n",
       "      <td>51.111</td>\n",
       "      <td>96.222</td>\n",
       "      <td>1.000</td>\n",
       "      <td>1.000</td>\n",
       "      <td>56.392</td>\n",
       "      <td>...</td>\n",
       "      <td>0.038</td>\n",
       "      <td>38.000</td>\n",
       "      <td>93.000</td>\n",
       "      <td>12.000</td>\n",
       "      <td>1.000</td>\n",
       "      <td>0.000</td>\n",
       "      <td>80.000</td>\n",
       "      <td>6.000</td>\n",
       "      <td>1.000</td>\n",
       "      <td>0.000</td>\n",
       "    </tr>\n",
       "    <tr>\n",
       "      <th>1102509</th>\n",
       "      <td>52573088</td>\n",
       "      <td>18.000</td>\n",
       "      <td>73.000</td>\n",
       "      <td>36.800</td>\n",
       "      <td>107.000</td>\n",
       "      <td>52.000</td>\n",
       "      <td>96.000</td>\n",
       "      <td>1.000</td>\n",
       "      <td>1.000</td>\n",
       "      <td>56.260</td>\n",
       "      <td>...</td>\n",
       "      <td>0.038</td>\n",
       "      <td>38.000</td>\n",
       "      <td>93.000</td>\n",
       "      <td>12.000</td>\n",
       "      <td>1.000</td>\n",
       "      <td>0.000</td>\n",
       "      <td>80.000</td>\n",
       "      <td>6.000</td>\n",
       "      <td>1.000</td>\n",
       "      <td>0.000</td>\n",
       "    </tr>\n",
       "    <tr>\n",
       "      <th>1102510</th>\n",
       "      <td>52573088</td>\n",
       "      <td>18.000</td>\n",
       "      <td>72.857</td>\n",
       "      <td>36.829</td>\n",
       "      <td>108.286</td>\n",
       "      <td>52.000</td>\n",
       "      <td>96.000</td>\n",
       "      <td>1.000</td>\n",
       "      <td>1.000</td>\n",
       "      <td>56.128</td>\n",
       "      <td>...</td>\n",
       "      <td>0.038</td>\n",
       "      <td>38.000</td>\n",
       "      <td>93.000</td>\n",
       "      <td>12.000</td>\n",
       "      <td>1.000</td>\n",
       "      <td>0.000</td>\n",
       "      <td>80.000</td>\n",
       "      <td>6.000</td>\n",
       "      <td>1.000</td>\n",
       "      <td>0.000</td>\n",
       "    </tr>\n",
       "    <tr>\n",
       "      <th>1102511</th>\n",
       "      <td>52573088</td>\n",
       "      <td>18.000</td>\n",
       "      <td>72.714</td>\n",
       "      <td>36.857</td>\n",
       "      <td>109.571</td>\n",
       "      <td>52.000</td>\n",
       "      <td>96.000</td>\n",
       "      <td>1.000</td>\n",
       "      <td>1.000</td>\n",
       "      <td>55.997</td>\n",
       "      <td>...</td>\n",
       "      <td>0.037</td>\n",
       "      <td>38.000</td>\n",
       "      <td>93.000</td>\n",
       "      <td>12.000</td>\n",
       "      <td>1.000</td>\n",
       "      <td>0.000</td>\n",
       "      <td>80.000</td>\n",
       "      <td>6.000</td>\n",
       "      <td>1.000</td>\n",
       "      <td>0.000</td>\n",
       "    </tr>\n",
       "  </tbody>\n",
       "</table>\n",
       "<p>367536 rows × 34 columns</p>\n",
       "</div>"
      ],
      "text/plain": [
       "        admission_id     rr  heart_rate  temperature     sbp    dbp  \\\n",
       "0           30454500 16.000     143.000       36.400  81.000 49.000   \n",
       "1           30454500 15.000     115.667       36.500  88.667 62.333   \n",
       "2           30454500 14.000      88.333       36.600  96.333 75.667   \n",
       "3           30454500 13.000      61.000       36.700 104.000 89.000   \n",
       "4           30454500 13.400      65.400       36.720 105.000 89.000   \n",
       "...              ...    ...         ...          ...     ...    ...   \n",
       "1102507     52573088 18.000      69.000       36.756 105.667 50.222   \n",
       "1102508     52573088 18.000      71.000       36.778 106.333 51.111   \n",
       "1102509     52573088 18.000      73.000       36.800 107.000 52.000   \n",
       "1102510     52573088 18.000      72.857       36.829 108.286 52.000   \n",
       "1102511     52573088 18.000      72.714       36.857 109.571 52.000   \n",
       "\n",
       "         Oxygen_Saturation  Assisted_O2  Confusion   CREA  ...  BASAB    ALB  \\\n",
       "0                   90.000        1.000      1.000 76.000  ...  0.020 30.000   \n",
       "1                   92.667        1.000      1.000 76.000  ...  0.020 30.000   \n",
       "2                   95.333        1.000      1.000 76.000  ...  0.020 30.000   \n",
       "3                   98.000        1.000      0.000 76.000  ...  0.020 30.000   \n",
       "4                   97.600        1.000      0.000 76.000  ...  0.020 30.000   \n",
       "...                    ...          ...        ...    ...  ...    ...    ...   \n",
       "1102507             96.444        1.000      1.000 56.524  ...  0.038 38.000   \n",
       "1102508             96.222        1.000      1.000 56.392  ...  0.038 38.000   \n",
       "1102509             96.000        1.000      1.000 56.260  ...  0.038 38.000   \n",
       "1102510             96.000        1.000      1.000 56.128  ...  0.038 38.000   \n",
       "1102511             96.000        1.000      1.000 55.997  ...  0.037 38.000   \n",
       "\n",
       "            ALP   BILI   sex  ethnicity  age_at_admin  Comorb_score  \\\n",
       "0       120.500  8.000 1.000      0.000        72.000         0.000   \n",
       "1       120.500  8.000 1.000      0.000        72.000         0.000   \n",
       "2       120.500  8.000 1.000      0.000        72.000         0.000   \n",
       "3       120.500  8.000 1.000      0.000        72.000         0.000   \n",
       "4       120.500  8.000 1.000      0.000        72.000         0.000   \n",
       "...         ...    ...   ...        ...           ...           ...   \n",
       "1102507  93.000 12.000 1.000      0.000        80.000         6.000   \n",
       "1102508  93.000 12.000 1.000      0.000        80.000         6.000   \n",
       "1102509  93.000 12.000 1.000      0.000        80.000         6.000   \n",
       "1102510  93.000 12.000 1.000      0.000        80.000         6.000   \n",
       "1102511  93.000 12.000 1.000      0.000        80.000         6.000   \n",
       "\n",
       "         Spcfc_Comorb  Mortality  \n",
       "0               1.000      0.000  \n",
       "1               1.000      0.000  \n",
       "2               1.000      0.000  \n",
       "3               1.000      0.000  \n",
       "4               1.000      0.000  \n",
       "...               ...        ...  \n",
       "1102507         1.000      0.000  \n",
       "1102508         1.000      0.000  \n",
       "1102509         1.000      0.000  \n",
       "1102510         1.000      0.000  \n",
       "1102511         1.000      0.000  \n",
       "\n",
       "[367536 rows x 34 columns]"
      ]
     },
     "execution_count": 10,
     "metadata": {},
     "output_type": "execute_result"
    }
   ],
   "source": [
    "X_data_16_18[0]"
   ]
  },
  {
   "cell_type": "markdown",
   "id": "e04db67b",
   "metadata": {},
   "source": [
    "# Modelling LSTM"
   ]
  },
  {
   "cell_type": "code",
   "execution_count": 11,
   "id": "6ba4c099",
   "metadata": {},
   "outputs": [
    {
     "name": "stdout",
     "output_type": "stream",
     "text": [
      "Shape of X_train (7657, 48, 32)\n",
      "Shape of y_train (7657, 5)\n"
     ]
    },
    {
     "data": {
      "text/plain": [
       "array([[0., 0., 1., 0., 0.],\n",
       "       [0., 1., 0., 0., 0.],\n",
       "       [0., 0., 0., 0., 1.],\n",
       "       ...,\n",
       "       [0., 0., 0., 0., 1.],\n",
       "       [0., 1., 0., 0., 0.],\n",
       "       [1., 0., 0., 0., 0.]], dtype=float32)"
      ]
     },
     "execution_count": 11,
     "metadata": {},
     "output_type": "execute_result"
    }
   ],
   "source": [
    "y_train_1 = to_categorical(y_train, num_classes = 5)\n",
    "y_valid_1 = to_categorical(y_valid, num_classes = 5)\n",
    "\n",
    "print(\"Shape of X_train\",X_train.shape)\n",
    "print(\"Shape of y_train\",y_train_1.shape)\n",
    "y_train_1"
   ]
  },
  {
   "cell_type": "code",
   "execution_count": 12,
   "id": "e6c2278f",
   "metadata": {
    "scrolled": false
   },
   "outputs": [
    {
     "name": "stderr",
     "output_type": "stream",
     "text": [
      "2022-09-22 15:58:43.425427: W tensorflow/stream_executor/platform/default/dso_loader.cc:64] Could not load dynamic library 'libcuda.so.1'; dlerror: libcuda.so.1: cannot open shared object file: No such file or directory; LD_LIBRARY_PATH: /cm/local/apps/gcc/8.2.0/lib:/cm/local/apps/gcc/8.2.0/lib64:/cm/local/apps/torque/6.1.3/lib\n",
      "2022-09-22 15:58:43.425465: W tensorflow/stream_executor/cuda/cuda_driver.cc:326] failed call to cuInit: UNKNOWN ERROR (303)\n",
      "2022-09-22 15:58:43.425492: I tensorflow/stream_executor/cuda/cuda_diagnostics.cc:156] kernel driver does not appear to be running on this host (spectre11): /proc/driver/nvidia/version does not exist\n",
      "2022-09-22 15:58:43.425781: I tensorflow/core/platform/cpu_feature_guard.cc:142] This TensorFlow binary is optimized with oneAPI Deep Neural Network Library (oneDNN) to use the following CPU instructions in performance-critical operations:  AVX2 FMA\n",
      "To enable them in other operations, rebuild TensorFlow with the appropriate compiler flags.\n",
      "2022-09-22 15:58:43.578889: I tensorflow/compiler/mlir/mlir_graph_optimization_pass.cc:176] None of the MLIR Optimization Passes are enabled (registered 2)\n",
      "2022-09-22 15:58:43.579510: I tensorflow/core/platform/profile_utils/cpu_utils.cc:114] CPU Frequency: 2397265000 Hz\n"
     ]
    },
    {
     "name": "stdout",
     "output_type": "stream",
     "text": [
      "elapsed,  17.323463201522827\n"
     ]
    }
   ],
   "source": [
    "def hamming_score(y_true, y_pred):#, normalize=True, sample_weight=None)\n",
    "    '''\n",
    "    Compute the Hamming score (a.k.a. label-based accuracy) for the multi-label case\n",
    "    http://stackoverflow.com/q/32239577/395857\n",
    "    '''\n",
    "    acc_list = []\n",
    "    for i in range(y_true.shape[0]):\n",
    "        set_true = set(np.where(y_true[i])[0] )\n",
    "        set_pred = set(np.where(y_pred[i])[0] )\n",
    "        #print('\\nset_true: {0}'.format(set_true))\n",
    "        #print('set_pred: {0}'.format(set_pred))\n",
    "        tmp_a = None\n",
    "        if len(set_true) == 0 and len(set_pred) == 0:\n",
    "            tmp_a = 1\n",
    "        else:\n",
    "            tmp_a = len(set_true.intersection(set_pred))/\\\n",
    "                    float( len(set_true.union(set_pred)) )\n",
    "        #print('tmp_a: {0}'.format(tmp_a))\n",
    "        acc_list.append(tmp_a)\n",
    "    return np.mean(acc_list)\n",
    "\n",
    "from tensorflow.keras.metrics import CategoricalAccuracy\n",
    "t = time.time()\n",
    "\n",
    "model = Sequential()\n",
    "\n",
    "model.add(layers.LSTM(10, activation='relu', input_shape=(48, 32)))  \n",
    "model.add(layers.Dense(5, activation='softmax'))\n",
    "\n",
    "#score_HamSc = make_scorer(hamming_score)\n",
    "model.compile(loss='categorical_crossentropy', optimizer='adam', metrics=['accuracy'])\n",
    "#model.compile(loss='categorical_crossentropy', optimizer='adam')\n",
    "\n",
    "history = model.fit(X_train, y_train_1, validation_split=0.3, verbose=0, epochs=50, batch_size =400)\n",
    "print(\"elapsed, \", time.time()-t)"
   ]
  },
  {
   "cell_type": "code",
   "execution_count": 13,
   "id": "60aed962",
   "metadata": {},
   "outputs": [
    {
     "data": {
      "text/plain": [
       "{'loss': [31.982206344604492,\n",
       "  4.499135494232178,\n",
       "  2.68719744682312,\n",
       "  2.366732358932495,\n",
       "  2.2197790145874023,\n",
       "  2.08081316947937,\n",
       "  2.0220727920532227,\n",
       "  1.966021180152893,\n",
       "  1.917702555656433,\n",
       "  1.881400227546692,\n",
       "  1.8413807153701782,\n",
       "  1.804092526435852,\n",
       "  1.775768756866455,\n",
       "  1.7519134283065796,\n",
       "  1.72481107711792,\n",
       "  1.7137717008590698,\n",
       "  1.688158392906189,\n",
       "  1.6769036054611206,\n",
       "  1.6757991313934326,\n",
       "  1.6575902700424194,\n",
       "  1.630629539489746,\n",
       "  1.6097304821014404,\n",
       "  1.605114459991455,\n",
       "  1.5982166528701782,\n",
       "  1.5918586254119873,\n",
       "  1.5865623950958252,\n",
       "  1.5768320560455322,\n",
       "  1.570610761642456,\n",
       "  1.5679229497909546,\n",
       "  1.5651071071624756,\n",
       "  1.5582162141799927,\n",
       "  1.5522207021713257,\n",
       "  1.5487089157104492,\n",
       "  1.5434120893478394,\n",
       "  1.5387946367263794,\n",
       "  1.5342386960983276,\n",
       "  1.5310386419296265,\n",
       "  1.5282037258148193,\n",
       "  1.5252350568771362,\n",
       "  1.5303122997283936,\n",
       "  1.518201470375061,\n",
       "  1.521628737449646,\n",
       "  1.5227118730545044,\n",
       "  1.5185571908950806,\n",
       "  1.514161467552185,\n",
       "  1.5103548765182495,\n",
       "  1.5063811540603638,\n",
       "  1.503420114517212,\n",
       "  1.5009033679962158,\n",
       "  1.4993066787719727],\n",
       " 'accuracy': [0.2545250952243805,\n",
       "  0.2463146150112152,\n",
       "  0.24743422865867615,\n",
       "  0.2511662542819977,\n",
       "  0.2584437429904938,\n",
       "  0.2655346095561981,\n",
       "  0.26963984966278076,\n",
       "  0.27486470341682434,\n",
       "  0.2843814194202423,\n",
       "  0.2890464663505554,\n",
       "  0.291658878326416,\n",
       "  0.29874977469444275,\n",
       "  0.3024818003177643,\n",
       "  0.30770665407180786,\n",
       "  0.31069228053092957,\n",
       "  0.3125583231449127,\n",
       "  0.3151707351207733,\n",
       "  0.31461092829704285,\n",
       "  0.3147975504398346,\n",
       "  0.3168501555919647,\n",
       "  0.318156361579895,\n",
       "  0.3194625973701477,\n",
       "  0.31796976923942566,\n",
       "  0.3194625973701477,\n",
       "  0.32132861018180847,\n",
       "  0.32226160168647766,\n",
       "  0.32282140851020813,\n",
       "  0.32394102215766907,\n",
       "  0.3267400562763214,\n",
       "  0.32692667841911316,\n",
       "  0.32618024945259094,\n",
       "  0.3258070647716522,\n",
       "  0.3272998631000519,\n",
       "  0.327673077583313,\n",
       "  0.32785966992378235,\n",
       "  0.3293524980545044,\n",
       "  0.32953909039497375,\n",
       "  0.3287926912307739,\n",
       "  0.3284194767475128,\n",
       "  0.32953909039497375,\n",
       "  0.32991230487823486,\n",
       "  0.32785966992378235,\n",
       "  0.3280462920665741,\n",
       "  0.3297256827354431,\n",
       "  0.3297256827354431,\n",
       "  0.3327113389968872,\n",
       "  0.3340175449848175,\n",
       "  0.3349505364894867,\n",
       "  0.3356969654560089,\n",
       "  0.33681657910346985],\n",
       " 'val_loss': [6.850919723510742,\n",
       "  2.84739089012146,\n",
       "  2.36490535736084,\n",
       "  2.1912546157836914,\n",
       "  2.064845323562622,\n",
       "  1.9920666217803955,\n",
       "  1.9462779760360718,\n",
       "  1.8989653587341309,\n",
       "  1.8574281930923462,\n",
       "  1.8289682865142822,\n",
       "  1.8066306114196777,\n",
       "  1.787723422050476,\n",
       "  1.7633781433105469,\n",
       "  1.7459979057312012,\n",
       "  1.7351391315460205,\n",
       "  1.7129563093185425,\n",
       "  1.717104434967041,\n",
       "  1.6908737421035767,\n",
       "  1.681670904159546,\n",
       "  1.673653244972229,\n",
       "  1.6921038627624512,\n",
       "  1.682597041130066,\n",
       "  1.665282130241394,\n",
       "  1.6620076894760132,\n",
       "  1.671352744102478,\n",
       "  1.6472736597061157,\n",
       "  1.6427432298660278,\n",
       "  1.6356801986694336,\n",
       "  1.6357835531234741,\n",
       "  1.6390951871871948,\n",
       "  1.6426444053649902,\n",
       "  1.619536280632019,\n",
       "  1.6115044355392456,\n",
       "  1.6034382581710815,\n",
       "  1.6033644676208496,\n",
       "  1.5979304313659668,\n",
       "  1.5966203212738037,\n",
       "  1.5939521789550781,\n",
       "  1.6134305000305176,\n",
       "  1.6025296449661255,\n",
       "  1.5877163410186768,\n",
       "  1.598550796508789,\n",
       "  1.5948731899261475,\n",
       "  1.5874865055084229,\n",
       "  1.5806220769882202,\n",
       "  1.5830856561660767,\n",
       "  1.5781019926071167,\n",
       "  1.5740482807159424,\n",
       "  1.5699411630630493,\n",
       "  1.5692905187606812],\n",
       " 'val_accuracy': [0.2397737205028534,\n",
       "  0.23803307116031647,\n",
       "  0.2410791963338852,\n",
       "  0.25021758675575256,\n",
       "  0.2545692026615143,\n",
       "  0.255004346370697,\n",
       "  0.25805047154426575,\n",
       "  0.2615317702293396,\n",
       "  0.2658833861351013,\n",
       "  0.2680591940879822,\n",
       "  0.2684943377971649,\n",
       "  0.27328112721443176,\n",
       "  0.2802436947822571,\n",
       "  0.28416013717651367,\n",
       "  0.2885117530822754,\n",
       "  0.28938207030296326,\n",
       "  0.2859007716178894,\n",
       "  0.291122704744339,\n",
       "  0.2928633689880371,\n",
       "  0.2954743206501007,\n",
       "  0.29895561933517456,\n",
       "  0.2998259365558624,\n",
       "  0.2998259365558624,\n",
       "  0.29852044582366943,\n",
       "  0.303742378950119,\n",
       "  0.3020017445087433,\n",
       "  0.3011314272880554,\n",
       "  0.3011314272880554,\n",
       "  0.30026111006736755,\n",
       "  0.3006962537765503,\n",
       "  0.3006962537765503,\n",
       "  0.30026111006736755,\n",
       "  0.3033072352409363,\n",
       "  0.305047869682312,\n",
       "  0.305047869682312,\n",
       "  0.30722367763519287,\n",
       "  0.30548304319381714,\n",
       "  0.30417755246162415,\n",
       "  0.30809399485588074,\n",
       "  0.30809399485588074,\n",
       "  0.3076588213443756,\n",
       "  0.3020017445087433,\n",
       "  0.303742378950119,\n",
       "  0.30809399485588074,\n",
       "  0.30939948558807373,\n",
       "  0.30983462929725647,\n",
       "  0.30939948558807373,\n",
       "  0.31070494651794434,\n",
       "  0.31375110149383545,\n",
       "  0.31505656242370605]}"
      ]
     },
     "execution_count": 13,
     "metadata": {},
     "output_type": "execute_result"
    }
   ],
   "source": [
    "history.history"
   ]
  },
  {
   "cell_type": "code",
   "execution_count": 14,
   "id": "9239d409",
   "metadata": {
    "scrolled": true
   },
   "outputs": [
    {
     "data": {
      "image/png": "[encoded data removed]",
      "text/plain": [
       "<Figure size 432x288 with 1 Axes>"
      ]
     },
     "metadata": {
      "needs_background": "light"
     },
     "output_type": "display_data"
    },
    {
     "data": {
      "image/png": "[encoded data removed]",
      "text/plain": [
       "<Figure size 432x288 with 1 Axes>"
      ]
     },
     "metadata": {
      "needs_background": "light"
     },
     "output_type": "display_data"
    }
   ],
   "source": [
    "import matplotlib.pyplot as plt\n",
    "x = np.asarray(range(50))\n",
    "plt.plot(x, history.history['loss'], color ='b', label ='train')\n",
    "plt.plot(x, history.history['val_loss'], color='gold', label='valid')\n",
    "plt.legend()\n",
    "plt.show()\n",
    "\n",
    "plt.plot(x, history.history['accuracy'], color='b', label = 'train')\n",
    "plt.plot(x, history.history['val_accuracy'],color='gold', label='valid')\n",
    "plt.legend()\n",
    "plt.show()"
   ]
  },
  {
   "cell_type": "code",
   "execution_count": 15,
   "id": "4dcb70ea",
   "metadata": {},
   "outputs": [
    {
     "name": "stdout",
     "output_type": "stream",
     "text": [
      "Shape of X_valid (6531, 48, 32)\n",
      "Shape of y_valid (6531, 5)\n"
     ]
    }
   ],
   "source": [
    "print(\"Shape of X_valid\",X_valid.shape)\n",
    "print(\"Shape of y_valid\",y_valid_1.shape)\n",
    "y_test_proba    = model.predict(X_valid)"
   ]
  },
  {
   "cell_type": "code",
   "execution_count": 16,
   "id": "7305fdfb",
   "metadata": {},
   "outputs": [
    {
     "name": "stdout",
     "output_type": "stream",
     "text": [
      "cummulative of one sample 1.0\n"
     ]
    },
    {
     "data": {
      "image/png": "[encoded data removed]",
      "text/plain": [
       "<Figure size 432x288 with 1 Axes>"
      ]
     },
     "metadata": {
      "needs_background": "light"
     },
     "output_type": "display_data"
    }
   ],
   "source": [
    "test = y_test_proba[1000]\n",
    "print('cummulative of one sample', test.sum() )\n",
    "plt.plot(range(len(test)), test)\n",
    "plt.show()"
   ]
  },
  {
   "cell_type": "code",
   "execution_count": 17,
   "id": "c596b837",
   "metadata": {},
   "outputs": [
    {
     "data": {
      "text/plain": [
       "array([[1., 0., 0., 0., 0.],\n",
       "       [0., 0., 1., 0., 0.],\n",
       "       [0., 0., 1., 0., 0.],\n",
       "       ...,\n",
       "       [0., 0., 1., 0., 0.],\n",
       "       [0., 0., 1., 0., 0.],\n",
       "       [1., 0., 0., 0., 0.]])"
      ]
     },
     "execution_count": 17,
     "metadata": {},
     "output_type": "execute_result"
    }
   ],
   "source": [
    "idx    = np.argmax(y_test_proba, axis=-1)\n",
    "y_pred = np.zeros( y_test_proba.shape )\n",
    "y_pred[np.arange(y_pred.shape[0]), idx] = 1\n",
    "y_pred"
   ]
  },
  {
   "cell_type": "code",
   "execution_count": 18,
   "id": "fc97f5d9",
   "metadata": {},
   "outputs": [
    {
     "data": {
      "text/plain": [
       "0.42918389220640024"
      ]
     },
     "execution_count": 18,
     "metadata": {},
     "output_type": "execute_result"
    }
   ],
   "source": [
    "hamming_score(y_valid, y_pred)"
   ]
  },
  {
   "cell_type": "code",
   "execution_count": null,
   "id": "25ac89c7",
   "metadata": {},
   "outputs": [],
   "source": []
  },
  {
   "cell_type": "code",
   "execution_count": 19,
   "id": "195729ae",
   "metadata": {},
   "outputs": [],
   "source": [
    "y_list_true = [idx for x in y_valid_1 for idx, i in enumerate(x) if i == 1]\n",
    "y_list_pred = [idx for x in y_pred for idx, i in enumerate(x) if i == 1]"
   ]
  },
  {
   "cell_type": "code",
   "execution_count": 20,
   "id": "671b0964",
   "metadata": {},
   "outputs": [
    {
     "data": {
      "image/png": "[encoded data removed]",
      "text/plain": [
       "<Figure size 432x288 with 1 Axes>"
      ]
     },
     "metadata": {
      "needs_background": "light"
     },
     "output_type": "display_data"
    },
    {
     "data": {
      "image/png": "[encoded data removed]",
      "text/plain": [
       "<Figure size 432x288 with 1 Axes>"
      ]
     },
     "metadata": {
      "needs_background": "light"
     },
     "output_type": "display_data"
    }
   ],
   "source": [
    "labels, counts = np.unique(y_list_true , return_counts=True)\n",
    "plt.bar(labels, counts, align='center')\n",
    "plt.gca().set_xticks(labels)\n",
    "plt.show()\n",
    "\n",
    "labels, counts = np.unique(y_list_pred , return_counts=True)\n",
    "plt.bar(labels, counts, align='center')\n",
    "plt.gca().set_xticks(labels)\n",
    "plt.show()"
   ]
  },
  {
   "cell_type": "code",
   "execution_count": 21,
   "id": "b7b59e66",
   "metadata": {},
   "outputs": [
    {
     "data": {
      "image/png": "[encoded data removed]",
      "text/plain": [
       "<Figure size 432x288 with 2 Axes>"
      ]
     },
     "metadata": {
      "needs_background": "light"
     },
     "output_type": "display_data"
    }
   ],
   "source": [
    "from sklearn.metrics import confusion_matrix\n",
    "import seaborn as sns\n",
    "cnf_matrix = confusion_matrix(y_list_true, y_list_pred)\n",
    "\n",
    "sns.heatmap(cnf_matrix, cmap ='crest')\n",
    "plt.ylabel('real values')\n",
    "plt.xlabel('Predicted values')\n",
    "plt.show()"
   ]
  },
  {
   "cell_type": "markdown",
   "id": "4cf426a4",
   "metadata": {},
   "source": [
    "____________________"
   ]
  },
  {
   "cell_type": "markdown",
   "id": "8a5d703f",
   "metadata": {},
   "source": [
    "________________________"
   ]
  },
  {
   "cell_type": "markdown",
   "id": "63aafa2f",
   "metadata": {},
   "source": [
    "________________________________"
   ]
  },
  {
   "cell_type": "markdown",
   "id": "c065b7af",
   "metadata": {},
   "source": [
    "# Optimise LSTM with Grid"
   ]
  },
  {
   "cell_type": "code",
   "execution_count": 22,
   "id": "f9e33642",
   "metadata": {},
   "outputs": [],
   "source": [
    "from sklearn.model_selection import cross_val_score, StratifiedKFold\n",
    "from tensorflow.keras.callbacks import EarlyStopping\n",
    "from tensorflow.keras.optimizers import Adam, SGD, RMSprop, Adadelta, Adagrad, Adamax, Nadam, Ftrl\n",
    "from sklearn.metrics import make_scorer, accuracy_score\n",
    "from tensorflow.keras.wrappers.scikit_learn import KerasClassifier\n",
    "from bayes_opt import BayesianOptimization"
   ]
  },
  {
   "cell_type": "code",
   "execution_count": 23,
   "id": "006813d5",
   "metadata": {},
   "outputs": [],
   "source": [
    "# ##############\n",
    "# 3. BAYESIAN OPTIMIZER TO FINE TUNE THE NEURAL NETWORK\n",
    "# ============================================================================\n",
    "def nn_cl_bo2(optimizer, learning_rate, batch_size, epochs, activation1):\n",
    "    \n",
    "    optimizerD = {'Adam':Adam(lr=learning_rate), 'SGD':SGD(lr=learning_rate),\n",
    "                 'RMSprop':RMSprop(lr=learning_rate), 'Adadelta':Adadelta(lr=learning_rate),\n",
    "                 'Adagrad':Adagrad(lr=learning_rate), 'Adamax':Adamax(lr=learning_rate),\n",
    "                 'Nadam':Nadam(lr=learning_rate), 'Ftrl':Ftrl(lr=learning_rate)}\n",
    "    activationL = ['relu', 'sigmoid', 'softplus', 'softsign', 'tanh', 'selu',\n",
    "                   'elu', 'exponential', layers.LeakyReLU]\n",
    "    \n",
    "    activation1 = activationL[round(activation1)]\n",
    "    optimizer  = list(optimizerD.keys())[round(optimizer)]\n",
    "    batch_size = round(batch_size)\n",
    "    epochs     = round(epochs)\n",
    "    \n",
    "    score_acc = make_scorer(accuracy_score)\n",
    "    \n",
    "    def nn_cl_fun():      \n",
    "        model = Sequential()\n",
    "\n",
    "        model.add(layers.LSTM(25, activation=activation1, input_shape=(48, 32),return_sequences = True))\n",
    "        model.add(layers.LSTM(15, activation=activation1))\n",
    "        model.add(layers.Dense(5, activation='softmax'))\n",
    "\n",
    "        model.compile(loss='categorical_crossentropy', optimizer=optimizer, metrics=['accuracy'])\n",
    "        return model\n",
    "#        history = model.fit(X_train, y_train_1, validation_split=0.3, verbose=0, epochs=50, batch_size =400)\n",
    "    \n",
    "    es    = EarlyStopping(monitor='accuracy', mode='max', verbose=0, patience=20)\n",
    "    nn    = KerasClassifier(build_fn=nn_cl_fun, epochs=epochs, batch_size=batch_size, verbose=0)\n",
    "    #kfold = StratifiedKFold(n_splits=8, shuffle=True, random_state=123)\n",
    "    score = cross_val_score(nn, X_train, y_train_1, fit_params={'callbacks':[es]}).mean()\n",
    "    return score"
   ]
  },
  {
   "cell_type": "code",
   "execution_count": 24,
   "id": "6f461244",
   "metadata": {},
   "outputs": [
    {
     "name": "stdout",
     "output_type": "stream",
     "text": [
      "elapsed Fine tuning the NN 101.19708752632141\n"
     ]
    },
    {
     "data": {
      "text/plain": [
       "0.31108535528182985"
      ]
     },
     "execution_count": 24,
     "metadata": {},
     "output_type": "execute_result"
    }
   ],
   "source": [
    "t = time.time()\n",
    "optimizer     = 0\n",
    "learning_rate = 0.1\n",
    "batch_size    = 250\n",
    "epochs        = 20\n",
    "activation1   = 0\n",
    "indv = nn_cl_bo2(optimizer, learning_rate, batch_size, epochs, activation1)\n",
    "print(\"elapsed Fine tuning the NN\", time.time()-t)\n",
    "indv"
   ]
  },
  {
   "cell_type": "code",
   "execution_count": 25,
   "id": "b4c06fd9",
   "metadata": {},
   "outputs": [
    {
     "name": "stdout",
     "output_type": "stream",
     "text": [
      "|   iter    |  target   | activa... | batch_... |  epochs   | learni... | optimizer |\n",
      "-------------------------------------------------------------------------------------\n",
      "| \u001b[0m 1       \u001b[0m | \u001b[0m 0.3611  \u001b[0m | \u001b[0m 4.285   \u001b[0m | \u001b[0m 252.2   \u001b[0m | \u001b[0m 54.88   \u001b[0m | \u001b[0m 0.04077 \u001b[0m | \u001b[0m 2.067   \u001b[0m |\n",
      "| \u001b[95m 2       \u001b[0m | \u001b[95m 0.4137  \u001b[0m | \u001b[95m 1.044   \u001b[0m | \u001b[95m 120.2   \u001b[0m | \u001b[95m 53.62   \u001b[0m | \u001b[95m 0.01955 \u001b[0m | \u001b[95m 2.364   \u001b[0m |\n",
      "| \u001b[0m 3       \u001b[0m | \u001b[0m 0.2931  \u001b[0m | \u001b[0m 6.935   \u001b[0m | \u001b[0m 314.0   \u001b[0m | \u001b[0m 26.5    \u001b[0m | \u001b[0m 0.03678 \u001b[0m | \u001b[0m 4.349   \u001b[0m |\n",
      "WARNING:tensorflow:5 out of the last 15 calls to <function Model.make_test_function.<locals>.test_function at 0x2aabb3579a60> triggered tf.function retracing. Tracing is expensive and the excessive number of tracings could be due to (1) creating @tf.function repeatedly in a loop, (2) passing tensors with different shapes, (3) passing Python objects instead of tensors. For (1), please define your @tf.function outside of the loop. For (2), @tf.function has experimental_relax_shapes=True option that relaxes argument shapes that can avoid unnecessary retracing. For (3), please refer to https://www.tensorflow.org/guide/function#controlling_retracing and https://www.tensorflow.org/api_docs/python/tf/function for  more details.\n",
      "WARNING:tensorflow:5 out of the last 13 calls to <function Model.make_test_function.<locals>.test_function at 0x2aabb3647b80> triggered tf.function retracing. Tracing is expensive and the excessive number of tracings could be due to (1) creating @tf.function repeatedly in a loop, (2) passing tensors with different shapes, (3) passing Python objects instead of tensors. For (1), please define your @tf.function outside of the loop. For (2), @tf.function has experimental_relax_shapes=True option that relaxes argument shapes that can avoid unnecessary retracing. For (3), please refer to https://www.tensorflow.org/guide/function#controlling_retracing and https://www.tensorflow.org/api_docs/python/tf/function for  more details.\n",
      "| \u001b[0m 4       \u001b[0m | \u001b[0m 0.2484  \u001b[0m | \u001b[0m 1.92    \u001b[0m | \u001b[0m 519.6   \u001b[0m | \u001b[0m 29.47   \u001b[0m | \u001b[0m 0.01296 \u001b[0m | \u001b[0m 6.305   \u001b[0m |\n",
      "| \u001b[0m 5       \u001b[0m | \u001b[0m 0.2241  \u001b[0m | \u001b[0m 5.558   \u001b[0m | \u001b[0m 856.5   \u001b[0m | \u001b[0m 85.22   \u001b[0m | \u001b[0m 0.04964 \u001b[0m | \u001b[0m 4.041   \u001b[0m |\n",
      "| \u001b[0m 6       \u001b[0m | \u001b[0m 0.4081  \u001b[0m | \u001b[0m 0.939   \u001b[0m | \u001b[0m 119.8   \u001b[0m | \u001b[0m 54.51   \u001b[0m | \u001b[0m 0.0336  \u001b[0m | \u001b[0m 1.753   \u001b[0m |\n",
      "| \u001b[0m 7       \u001b[0m | \u001b[0m 0.365   \u001b[0m | \u001b[0m 3.964   \u001b[0m | \u001b[0m 128.0   \u001b[0m | \u001b[0m 30.73   \u001b[0m | \u001b[0m 0.0348  \u001b[0m | \u001b[0m 5.864   \u001b[0m |\n",
      "| \u001b[0m 8       \u001b[0m | \u001b[0m 0.2817  \u001b[0m | \u001b[0m 0.0     \u001b[0m | \u001b[0m 140.6   \u001b[0m | \u001b[0m 55.19   \u001b[0m | \u001b[0m 0.01    \u001b[0m | \u001b[0m 7.0     \u001b[0m |\n",
      "| \u001b[0m 9       \u001b[0m | \u001b[0m 0.3559  \u001b[0m | \u001b[0m 2.288   \u001b[0m | \u001b[0m 112.7   \u001b[0m | \u001b[0m 40.77   \u001b[0m | \u001b[0m 0.03699 \u001b[0m | \u001b[0m 5.97    \u001b[0m |\n",
      "=====================================================================================\n",
      "elapsed Fine tuning the NN 2249.2176475524902\n"
     ]
    }
   ],
   "source": [
    "t = time.time()\n",
    "params_nn2 ={'activation1':(0, 7), 'optimizer':(0,7), 'learning_rate':(0.01, 0.05),\n",
    "             'batch_size':(100, 1000), 'epochs':(20, 100)}\n",
    "nn_bo2 = BayesianOptimization(nn_cl_bo2, params_nn2, random_state=111)\n",
    "nn_bo2.maximize(init_points=5, n_iter=4)\n",
    "print(\"elapsed Fine tuning the NN\", time.time()-t)"
   ]
  },
  {
   "cell_type": "code",
   "execution_count": 26,
   "id": "bf99efb5",
   "metadata": {},
   "outputs": [
    {
     "data": {
      "text/plain": [
       "array([[0., 0., 1., 0., 0.],\n",
       "       [0., 1., 0., 0., 0.],\n",
       "       [0., 0., 0., 0., 1.],\n",
       "       ...,\n",
       "       [0., 0., 0., 0., 1.],\n",
       "       [0., 1., 0., 0., 0.],\n",
       "       [1., 0., 0., 0., 0.]], dtype=float32)"
      ]
     },
     "execution_count": 26,
     "metadata": {},
     "output_type": "execute_result"
    }
   ],
   "source": [
    "y_train_1"
   ]
  },
  {
   "cell_type": "code",
   "execution_count": null,
   "id": "702bca74",
   "metadata": {},
   "outputs": [],
   "source": []
  },
  {
   "cell_type": "code",
   "execution_count": null,
   "id": "f1919788",
   "metadata": {},
   "outputs": [],
   "source": []
  },
  {
   "cell_type": "code",
   "execution_count": null,
   "id": "924f79c8",
   "metadata": {},
   "outputs": [],
   "source": []
  },
  {
   "cell_type": "code",
   "execution_count": null,
   "id": "8fe4f8d0",
   "metadata": {},
   "outputs": [],
   "source": []
  }
 ],
 "metadata": {
  "kernelspec": {
   "display_name": "Python 3 (ipykernel)",
   "language": "python",
   "name": "python3"
  },
  "language_info": {
   "codemirror_mode": {
    "name": "ipython",
    "version": 3
   },
   "file_extension": ".py",
   "mimetype": "text/x-python",
   "name": "python",
   "nbconvert_exporter": "python",
   "pygments_lexer": "ipython3",
   "version": "3.8.13"
  }
 },
 "nbformat": 4,
 "nbformat_minor": 5
}
