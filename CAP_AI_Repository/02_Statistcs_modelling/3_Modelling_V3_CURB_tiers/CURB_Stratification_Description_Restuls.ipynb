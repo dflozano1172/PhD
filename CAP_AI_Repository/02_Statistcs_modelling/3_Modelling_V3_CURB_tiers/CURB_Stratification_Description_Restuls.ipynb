{
 "cells": [
  {
   "cell_type": "code",
   "execution_count": 1,
   "id": "f44bba20",
   "metadata": {},
   "outputs": [
    {
     "name": "stderr",
     "output_type": "stream",
     "text": [
      "2022-05-27 18:23:29.429110: W tensorflow/stream_executor/platform/default/dso_loader.cc:64] Could not load dynamic library 'libcudart.so.11.0'; dlerror: libcudart.so.11.0: cannot open shared object file: No such file or directory; LD_LIBRARY_PATH: /cm/local/apps/gcc/8.2.0/lib:/cm/local/apps/gcc/8.2.0/lib64:/cm/local/apps/torque/6.1.3/lib\n",
      "2022-05-27 18:23:29.429151: I tensorflow/stream_executor/cuda/cudart_stub.cc:29] Ignore above cudart dlerror if you do not have a GPU set up on your machine.\n"
     ]
    }
   ],
   "source": [
    "import numpy as np\n",
    "import pandas as pd\n",
    "import matplotlib.pyplot as plt\n",
    "import seaborn as sns\n",
    "\n",
    "import re, sqlite3, pickle, time, datetime, random, sys, keras\n",
    "# sys.path is a list of absolute path strings\n",
    "sys.path.append('/home/d/dlr10/Documents/02_Statitics_modelling/0_FunctionsScripts')\n",
    "import Loading_Data_Functions as load_fn\n",
    "import FineTuning_Functions as FineTuning\n",
    "import Learning_Curves_Functions as LearningCurves\n",
    "\n",
    "##############################################################################\n",
    "# IMPORT DEEP LEARNING PACKAGES\n",
    "##############################################################################\n",
    "\n",
    "from sklearn.model_selection import cross_val_score\n",
    "from sklearn.model_selection import StratifiedKFold\n",
    "\n",
    "from keras.models import Sequential\n",
    "from keras.layers import Dense, BatchNormalization, Dropout, Flatten, LeakyReLU\n",
    "from keras import layers\n",
    "\n",
    "from tensorflow.keras.optimizers import Adam, SGD, RMSprop, Adadelta, Adagrad, Adamax, Nadam, Ftrl\n",
    "from keras.callbacks import EarlyStopping, ModelCheckpoint\n",
    "from keras.wrappers.scikit_learn import KerasClassifier\n",
    "\n",
    "from sklearn.metrics import make_scorer, accuracy_score\n",
    "LeakyReLU = LeakyReLU(alpha=0.1)\n",
    "\n",
    "from bayes_opt import BayesianOptimization\n",
    "\n",
    "import warnings\n",
    "warnings.filterwarnings('ignore')\n",
    "pd.set_option(\"display.max_columns\", None)"
   ]
  },
  {
   "cell_type": "code",
   "execution_count": 10,
   "id": "aac99144",
   "metadata": {},
   "outputs": [
    {
     "name": "stdout",
     "output_type": "stream",
     "text": [
      "Elapsed time: 21.747871160507202\n"
     ]
    }
   ],
   "source": [
    "t    = time.time()\n",
    "path = r'/home/d/dlr10/Documents/02_Statitics_modelling/DataSets/'\n",
    "\n",
    "df_patients_16_18, df_admissions_16_18, df_eobs_16_18 = load_fn.Load_data()\n",
    "df_patients_19_20, df_admissions_19_20, df_eobs_19_20 = load_fn.Load_data('2019_2020')\n",
    "\n",
    "X_data_curb_16_18 = pickle.load(open(path + 'df_first_curb_2016_18.pickle','rb'))#.drop(columns = 'no_sample_series')\n",
    "X_data_curb_19_20 = pickle.load(open(path + 'df_first_curb_2019_20.pickle','rb'))#.drop(columns = 'no_sample_series')\n",
    "print(\"Elapsed time:\", time.time()-t)"
   ]
  },
  {
   "cell_type": "code",
   "execution_count": 41,
   "id": "d625ccec",
   "metadata": {},
   "outputs": [
    {
     "name": "stdout",
     "output_type": "stream",
     "text": [
      "1161\n"
     ]
    },
    {
     "data": {
      "text/plain": [
       "array([ 4.39276486, 10.70395371, 17.99086758])"
      ]
     },
     "execution_count": 41,
     "metadata": {},
     "output_type": "execute_result"
    }
   ],
   "source": [
    "print(len(X_data_curb_16_18[0]['Mortality']))\n",
    "x  = np.arange(3)\n",
    "y0 = [len(df[df['Mortality'] == 0]) for df in X_data_curb_16_18]\n",
    "y1 = [len(df[df['Mortality'] == 1]) for df in X_data_curb_16_18]\n",
    "pr = np.divide(np.asarray(y1) , (np.asarray(y0) + np.asarray(y1))) * 100\n",
    "pr"
   ]
  },
  {
   "cell_type": "code",
   "execution_count": 44,
   "id": "6b304abd",
   "metadata": {},
   "outputs": [
    {
     "data": {
      "image/png": "[encoded data removed]",
      "text/plain": [
       "<Figure size 432x288 with 2 Axes>"
      ]
     },
     "metadata": {
      "needs_background": "light"
     },
     "output_type": "display_data"
    }
   ],
   "source": [
    "width = 0.4\n",
    "\n",
    "ax1 = plt.subplot()\n",
    "plt.bar(x-0.2, y0, width)\n",
    "plt.bar(x+0.2, y1, width)\n",
    "ax2 = ax1.twinx()\n",
    "ax2.plot(pr, color='orange')\n",
    "plt.show()"
   ]
  },
  {
   "cell_type": "code",
   "execution_count": 59,
   "id": "0a49e2e9",
   "metadata": {},
   "outputs": [
    {
     "data": {
      "image/png": "[encoded data removed]",
      "text/plain": [
       "<Figure size 1440x360 with 3 Axes>"
      ]
     },
     "metadata": {
      "needs_background": "light"
     },
     "output_type": "display_data"
    }
   ],
   "source": [
    "fig, axs = plt.subplots(1,3, figsize = (20,5))\n",
    "for i in range(3):\n",
    "    X_data_curb_16_18[i][X_data_curb_16_18[i]['Mortality'] == 0]['age_at_admin'].hist(ax = axs[i])\n",
    "    X_data_curb_16_18[i][X_data_curb_16_18[i]['Mortality'] == 1]['age_at_admin'].hist(ax = axs[i])\n",
    "    axs[i].set_xlabel('Age at admission')\n",
    "    axs[i].set_ylabel('No. of admission')\n",
    "plt.show()"
   ]
  },
  {
   "cell_type": "markdown",
   "id": "b4a52aca",
   "metadata": {},
   "source": []
  },
  {
   "cell_type": "code",
   "execution_count": 61,
   "id": "dba25aef",
   "metadata": {},
   "outputs": [],
   "source": []
  },
  {
   "cell_type": "code",
   "execution_count": 62,
   "id": "379d1e12",
   "metadata": {},
   "outputs": [
    {
     "name": "stdout",
     "output_type": "stream",
     "text": [
      "total admissions 16 18 1161\n",
      "total admissions 19 20 409\n",
      "X_train 1161\n",
      "Admissions neg (mortal - class = 0): 1110 Admissions pos (recover- class = 1): 51\n",
      "X_valid 409\n",
      "Admissions neg (mortal - class = 0): 378 Admissions pos (recover- class = 1): 31\n"
     ]
    }
   ],
   "source": [
    "#######################################\n",
    "### SPLIT DATA\n",
    "#######################################\n",
    "train_set = X_data_16_18\n",
    "valid_set = X_data_19_20\n",
    "\n",
    "print('total admissions 16 18', len(X_data_16_18))\n",
    "print('total admissions 19 20', len(X_data_19_20))\n",
    "print('X_train', len(train_set))\n",
    "print('Admissions neg (mortal - class = 0):', len(train_set[train_set['Mortality']==0]),\n",
    "      'Admissions pos (recover- class = 1):', len(train_set[train_set['Mortality']==1]))\n",
    "print('X_valid', len(valid_set))\n",
    "print('Admissions neg (mortal - class = 0):', len(valid_set[valid_set['Mortality']==0]), \n",
    "      'Admissions pos (recover- class = 1):', len(valid_set[valid_set['Mortality']==1]))"
   ]
  },
  {
   "cell_type": "code",
   "execution_count": null,
   "id": "fdbea2a9",
   "metadata": {},
   "outputs": [],
   "source": []
  },
  {
   "cell_type": "code",
   "execution_count": null,
   "id": "40bf227b",
   "metadata": {},
   "outputs": [],
   "source": []
  },
  {
   "cell_type": "code",
   "execution_count": null,
   "id": "97b50aed",
   "metadata": {},
   "outputs": [],
   "source": []
  },
  {
   "cell_type": "code",
   "execution_count": null,
   "id": "88a2cb13",
   "metadata": {},
   "outputs": [],
   "source": []
  },
  {
   "cell_type": "code",
   "execution_count": null,
   "id": "2c1a1e54",
   "metadata": {},
   "outputs": [],
   "source": []
  },
  {
   "cell_type": "code",
   "execution_count": null,
   "id": "76bc0c61",
   "metadata": {},
   "outputs": [],
   "source": []
  },
  {
   "cell_type": "code",
   "execution_count": null,
   "id": "8aedf4d8",
   "metadata": {},
   "outputs": [],
   "source": []
  },
  {
   "cell_type": "code",
   "execution_count": null,
   "id": "f043664c",
   "metadata": {},
   "outputs": [],
   "source": []
  },
  {
   "cell_type": "code",
   "execution_count": null,
   "id": "8450bc0f",
   "metadata": {},
   "outputs": [],
   "source": []
  },
  {
   "cell_type": "code",
   "execution_count": null,
   "id": "2b99fe9d",
   "metadata": {},
   "outputs": [],
   "source": []
  },
  {
   "cell_type": "code",
   "execution_count": null,
   "id": "c711b271",
   "metadata": {},
   "outputs": [],
   "source": []
  },
  {
   "cell_type": "code",
   "execution_count": null,
   "id": "e3ce245d",
   "metadata": {},
   "outputs": [],
   "source": []
  },
  {
   "cell_type": "code",
   "execution_count": null,
   "id": "ab994007",
   "metadata": {},
   "outputs": [],
   "source": []
  },
  {
   "cell_type": "code",
   "execution_count": null,
   "id": "6445c73e",
   "metadata": {},
   "outputs": [],
   "source": []
  },
  {
   "cell_type": "code",
   "execution_count": null,
   "id": "4bcebf57",
   "metadata": {},
   "outputs": [],
   "source": []
  }
 ],
 "metadata": {
  "kernelspec": {
   "display_name": "Python 3 (ipykernel)",
   "language": "python",
   "name": "python3"
  },
  "language_info": {
   "codemirror_mode": {
    "name": "ipython",
    "version": 3
   },
   "file_extension": ".py",
   "mimetype": "text/x-python",
   "name": "python",
   "nbconvert_exporter": "python",
   "pygments_lexer": "ipython3",
   "version": "3.8.13"
  }
 },
 "nbformat": 4,
 "nbformat_minor": 5
}
