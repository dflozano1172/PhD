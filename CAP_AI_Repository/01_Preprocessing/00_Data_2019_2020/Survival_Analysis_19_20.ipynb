{
 "cells": [
  {
   "cell_type": "code",
   "execution_count": 1,
   "id": "28026c9a",
   "metadata": {},
   "outputs": [],
   "source": [
    "%reset -f\n",
    "import numpy as np\n",
    "import pandas as pd\n",
    "\n",
    "\n",
    "import matplotlib\n",
    "matplotlib.rcParams['font.family'] = 'STIXGeneral'\n",
    "matplotlib.rcParams['mathtext.fontset'] = 'stix'\n",
    "matplotlib.rcParams['mathtext.fontset'] = 'cm'\n",
    "import matplotlib.pyplot as plt\n",
    "import re, sqlite3, pickle, time, datetime, random\n",
    "\n",
    "pd.set_option('display.float_format', lambda x: '%.3f' % x)"
   ]
  },
  {
   "cell_type": "code",
   "execution_count": 2,
   "id": "5400c343",
   "metadata": {},
   "outputs": [],
   "source": [
    "path  = r'/rfs/CAPAI_PhD_dflr2/Shared/Data/output/20220221_'\n",
    "file9 = path + 'spin.txt'\n",
    "df_spin  = pd.read_csv(file9, sep='\\t', lineterminator='\\n')\n",
    "df_spin['date_time_arrived'] = pd.to_datetime(df_spin['date_time_arrived'], format='%Y-%m-%d %H:%M:%S')\n"
   ]
  },
  {
   "cell_type": "code",
   "execution_count": 3,
   "id": "34e38e6f",
   "metadata": {},
   "outputs": [
    {
     "data": {
      "text/html": [
       "<div>\n",
       "<style scoped>\n",
       "    .dataframe tbody tr th:only-of-type {\n",
       "        vertical-align: middle;\n",
       "    }\n",
       "\n",
       "    .dataframe tbody tr th {\n",
       "        vertical-align: top;\n",
       "    }\n",
       "\n",
       "    .dataframe thead th {\n",
       "        text-align: right;\n",
       "    }\n",
       "</style>\n",
       "<table border=\"1\" class=\"dataframe\">\n",
       "  <thead>\n",
       "    <tr style=\"text-align: right;\">\n",
       "      <th></th>\n",
       "      <th>patient_id</th>\n",
       "      <th>date_time_arrived</th>\n",
       "      <th>cxr_4h</th>\n",
       "      <th>cxr_cap</th>\n",
       "      <th>cxr_date</th>\n",
       "      <th>cxr_time</th>\n",
       "      <th>o2_1h</th>\n",
       "      <th>o2_prescribed_1h</th>\n",
       "      <th>curb65_recorded</th>\n",
       "      <th>curb65_score</th>\n",
       "      <th>ab_4h</th>\n",
       "      <th>reason_ab_not_concordant</th>\n",
       "      <th>ab_severity</th>\n",
       "      <th>ab_date_time\\r</th>\n",
       "    </tr>\n",
       "  </thead>\n",
       "  <tbody>\n",
       "    <tr>\n",
       "      <th>0</th>\n",
       "      <td>45502669</td>\n",
       "      <td>2019-01-02 15:46:00</td>\n",
       "      <td>Y</td>\n",
       "      <td>Y</td>\n",
       "      <td>2019-01-02</td>\n",
       "      <td>16:14</td>\n",
       "      <td>Y</td>\n",
       "      <td>N</td>\n",
       "      <td>Y</td>\n",
       "      <td>0.000</td>\n",
       "      <td>Y</td>\n",
       "      <td>NaN</td>\n",
       "      <td>Y</td>\n",
       "      <td>2019-01-02 17:00:00\\r</td>\n",
       "    </tr>\n",
       "    <tr>\n",
       "      <th>1</th>\n",
       "      <td>70844377</td>\n",
       "      <td>2019-01-03 11:47:00</td>\n",
       "      <td>N</td>\n",
       "      <td>Y</td>\n",
       "      <td>2018-12-31</td>\n",
       "      <td>11:54</td>\n",
       "      <td>Y</td>\n",
       "      <td>N</td>\n",
       "      <td>Y</td>\n",
       "      <td>0.000</td>\n",
       "      <td>Y</td>\n",
       "      <td>2.000</td>\n",
       "      <td>Y</td>\n",
       "      <td>2019-01-03 14:00:00\\r</td>\n",
       "    </tr>\n",
       "    <tr>\n",
       "      <th>2</th>\n",
       "      <td>43194461</td>\n",
       "      <td>2019-01-02 10:15:00</td>\n",
       "      <td>Y</td>\n",
       "      <td>Y</td>\n",
       "      <td>2019-01-02</td>\n",
       "      <td>10:31</td>\n",
       "      <td>Y</td>\n",
       "      <td>N</td>\n",
       "      <td>Y</td>\n",
       "      <td>0.000</td>\n",
       "      <td>Y</td>\n",
       "      <td>2.000</td>\n",
       "      <td>Y</td>\n",
       "      <td>2019-01-02 12:20:00\\r</td>\n",
       "    </tr>\n",
       "    <tr>\n",
       "      <th>3</th>\n",
       "      <td>31229217</td>\n",
       "      <td>2019-01-01 05:28:00</td>\n",
       "      <td>Y</td>\n",
       "      <td>Y</td>\n",
       "      <td>0000-00-00</td>\n",
       "      <td>NaN</td>\n",
       "      <td>Y</td>\n",
       "      <td>Y</td>\n",
       "      <td>Y</td>\n",
       "      <td>1.000</td>\n",
       "      <td>Y</td>\n",
       "      <td>NaN</td>\n",
       "      <td>Y</td>\n",
       "      <td>2019-01-01 06:10:00\\r</td>\n",
       "    </tr>\n",
       "  </tbody>\n",
       "</table>\n",
       "</div>"
      ],
      "text/plain": [
       "   patient_id   date_time_arrived cxr_4h cxr_cap    cxr_date cxr_time o2_1h  \\\n",
       "0    45502669 2019-01-02 15:46:00      Y       Y  2019-01-02    16:14     Y   \n",
       "1    70844377 2019-01-03 11:47:00      N       Y  2018-12-31    11:54     Y   \n",
       "2    43194461 2019-01-02 10:15:00      Y       Y  2019-01-02    10:31     Y   \n",
       "3    31229217 2019-01-01 05:28:00      Y       Y  0000-00-00      NaN     Y   \n",
       "\n",
       "  o2_prescribed_1h curb65_recorded  curb65_score ab_4h  \\\n",
       "0                N               Y         0.000     Y   \n",
       "1                N               Y         0.000     Y   \n",
       "2                N               Y         0.000     Y   \n",
       "3                Y               Y         1.000     Y   \n",
       "\n",
       "   reason_ab_not_concordant ab_severity         ab_date_time\\r  \n",
       "0                       NaN           Y  2019-01-02 17:00:00\\r  \n",
       "1                     2.000           Y  2019-01-03 14:00:00\\r  \n",
       "2                     2.000           Y  2019-01-02 12:20:00\\r  \n",
       "3                       NaN           Y  2019-01-01 06:10:00\\r  "
      ]
     },
     "execution_count": 3,
     "metadata": {},
     "output_type": "execute_result"
    }
   ],
   "source": [
    "df_spin.head(4)"
   ]
  },
  {
   "cell_type": "code",
   "execution_count": 4,
   "id": "b157fdb9",
   "metadata": {},
   "outputs": [],
   "source": [
    "############################################################\n",
    "# LOADING ADMISSIONS AND PATIENTS DF\n",
    "############################################################\n",
    "data = pickle.load( open('DataFrame_pickles/df_patients_admissions_2019_2020.pickle', 'rb'))\n",
    "df_patients   = data[0]\n",
    "df_admissions = data[1]\n"
   ]
  },
  {
   "cell_type": "code",
   "execution_count": 5,
   "id": "799ce829",
   "metadata": {},
   "outputs": [
    {
     "data": {
      "text/html": [
       "<div>\n",
       "<style scoped>\n",
       "    .dataframe tbody tr th:only-of-type {\n",
       "        vertical-align: middle;\n",
       "    }\n",
       "\n",
       "    .dataframe tbody tr th {\n",
       "        vertical-align: top;\n",
       "    }\n",
       "\n",
       "    .dataframe thead th {\n",
       "        text-align: right;\n",
       "    }\n",
       "</style>\n",
       "<table border=\"1\" class=\"dataframe\">\n",
       "  <thead>\n",
       "    <tr style=\"text-align: right;\">\n",
       "      <th></th>\n",
       "      <th>admission_id</th>\n",
       "      <th>episode_diagnoses</th>\n",
       "      <th>patient_id</th>\n",
       "      <th>age_at_admission\\r</th>\n",
       "      <th>admission_date_time</th>\n",
       "      <th>admission_date_code_time</th>\n",
       "      <th>discharge_date_time</th>\n",
       "      <th>discharge_date_code_time</th>\n",
       "      <th>lengthofstay</th>\n",
       "      <th>isPneumonia</th>\n",
       "      <th>mortal_admin</th>\n",
       "      <th>icu_count\\r</th>\n",
       "      <th>Comorbidity_score</th>\n",
       "    </tr>\n",
       "  </thead>\n",
       "  <tbody>\n",
       "    <tr>\n",
       "      <th>3</th>\n",
       "      <td>99645131</td>\n",
       "      <td>||E10.5,L97.X,L08.9,R02.X,A41.9,R65.1,N17.9,E1...</td>\n",
       "      <td>18026138</td>\n",
       "      <td>55</td>\n",
       "      <td>2021-11-25 16:34:00</td>\n",
       "      <td>18956.690</td>\n",
       "      <td>2021-12-31 14:48:00</td>\n",
       "      <td>18992.617</td>\n",
       "      <td>35 days 22:14:00</td>\n",
       "      <td>1</td>\n",
       "      <td>0</td>\n",
       "      <td>0</td>\n",
       "      <td>2</td>\n",
       "    </tr>\n",
       "    <tr>\n",
       "      <th>4</th>\n",
       "      <td>21362780</td>\n",
       "      <td>||U07.1,J12.8,B97.2,J15.9,B97.2,Z86.7||U07.1,J...</td>\n",
       "      <td>27754209</td>\n",
       "      <td>45</td>\n",
       "      <td>2021-11-12 17:21:00</td>\n",
       "      <td>18943.723</td>\n",
       "      <td>2021-11-20 14:00:00</td>\n",
       "      <td>18951.583</td>\n",
       "      <td>7 days 20:39:00</td>\n",
       "      <td>1</td>\n",
       "      <td>0</td>\n",
       "      <td>0</td>\n",
       "      <td>0</td>\n",
       "    </tr>\n",
       "    <tr>\n",
       "      <th>5</th>\n",
       "      <td>13991116</td>\n",
       "      <td>||A41.9,U07.1,J12.8,B97.2,K75.0,K92.0,J90.X,I8...</td>\n",
       "      <td>54047888</td>\n",
       "      <td>70</td>\n",
       "      <td>2020-04-20 21:48:00</td>\n",
       "      <td>18372.908</td>\n",
       "      <td>2020-05-20 05:30:00</td>\n",
       "      <td>18402.229</td>\n",
       "      <td>29 days 07:42:00</td>\n",
       "      <td>1</td>\n",
       "      <td>1</td>\n",
       "      <td>0</td>\n",
       "      <td>1</td>\n",
       "    </tr>\n",
       "    <tr>\n",
       "      <th>6</th>\n",
       "      <td>58580641</td>\n",
       "      <td>||U07.2,J12.8,E11.9,Z86.1</td>\n",
       "      <td>56373663</td>\n",
       "      <td>66</td>\n",
       "      <td>2020-05-21 08:05:00</td>\n",
       "      <td>18403.337</td>\n",
       "      <td>2020-05-21 15:07:00</td>\n",
       "      <td>18403.630</td>\n",
       "      <td>0 days 07:02:00</td>\n",
       "      <td>1</td>\n",
       "      <td>0</td>\n",
       "      <td>0</td>\n",
       "      <td>1</td>\n",
       "    </tr>\n",
       "  </tbody>\n",
       "</table>\n",
       "</div>"
      ],
      "text/plain": [
       "   admission_id                                  episode_diagnoses  \\\n",
       "3      99645131  ||E10.5,L97.X,L08.9,R02.X,A41.9,R65.1,N17.9,E1...   \n",
       "4      21362780  ||U07.1,J12.8,B97.2,J15.9,B97.2,Z86.7||U07.1,J...   \n",
       "5      13991116  ||A41.9,U07.1,J12.8,B97.2,K75.0,K92.0,J90.X,I8...   \n",
       "6      58580641                          ||U07.2,J12.8,E11.9,Z86.1   \n",
       "\n",
       "   patient_id  age_at_admission\\r admission_date_time  \\\n",
       "3    18026138                  55 2021-11-25 16:34:00   \n",
       "4    27754209                  45 2021-11-12 17:21:00   \n",
       "5    54047888                  70 2020-04-20 21:48:00   \n",
       "6    56373663                  66 2020-05-21 08:05:00   \n",
       "\n",
       "   admission_date_code_time discharge_date_time  discharge_date_code_time  \\\n",
       "3                 18956.690 2021-12-31 14:48:00                 18992.617   \n",
       "4                 18943.723 2021-11-20 14:00:00                 18951.583   \n",
       "5                 18372.908 2020-05-20 05:30:00                 18402.229   \n",
       "6                 18403.337 2020-05-21 15:07:00                 18403.630   \n",
       "\n",
       "      lengthofstay  isPneumonia  mortal_admin  icu_count\\r  Comorbidity_score  \n",
       "3 35 days 22:14:00            1             0            0                  2  \n",
       "4  7 days 20:39:00            1             0            0                  0  \n",
       "5 29 days 07:42:00            1             1            0                  1  \n",
       "6  0 days 07:02:00            1             0            0                  1  "
      ]
     },
     "execution_count": 5,
     "metadata": {},
     "output_type": "execute_result"
    }
   ],
   "source": [
    "df_admissions.head(4)"
   ]
  },
  {
   "cell_type": "markdown",
   "id": "670cb8d5",
   "metadata": {},
   "source": [
    "# Filtering Data"
   ]
  },
  {
   "cell_type": "code",
   "execution_count": 6,
   "id": "9ba65047",
   "metadata": {},
   "outputs": [
    {
     "name": "stdout",
     "output_type": "stream",
     "text": [
      "number of patients with Curb65 information 2025\n",
      "number of admissions in df 2714\n"
     ]
    }
   ],
   "source": [
    "list_patients = df_spin[(~(df_spin['curb65_score'].isna())) & \n",
    "                        (df_spin['patient_id'].isin(df_patients['patient_id'].unique()))]['patient_id'].unique()\n",
    "df = df_admissions[df_admissions['patient_id'].isin(list_patients)][['patient_id', 'lengthofstay']].copy()\n",
    "\n",
    "print('number of patients with Curb65 information', len(list_patients))\n",
    "print('number of admissions in df', len(df))"
   ]
  },
  {
   "cell_type": "code",
   "execution_count": 7,
   "id": "e0f284fa",
   "metadata": {},
   "outputs": [],
   "source": [
    "path  = r'/rfs/CAPAI_PhD_dflr2/Shared/Data/output/20220221_'\n",
    "file1 = path + 'admissions.txt' \n",
    "df_admin = pd.read_csv(file1, sep='\\t', lineterminator='\\n')"
   ]
  },
  {
   "cell_type": "code",
   "execution_count": 8,
   "id": "f75d219c",
   "metadata": {},
   "outputs": [
    {
     "data": {
      "text/html": [
       "<div>\n",
       "<style scoped>\n",
       "    .dataframe tbody tr th:only-of-type {\n",
       "        vertical-align: middle;\n",
       "    }\n",
       "\n",
       "    .dataframe tbody tr th {\n",
       "        vertical-align: top;\n",
       "    }\n",
       "\n",
       "    .dataframe thead th {\n",
       "        text-align: right;\n",
       "    }\n",
       "</style>\n",
       "<table border=\"1\" class=\"dataframe\">\n",
       "  <thead>\n",
       "    <tr style=\"text-align: right;\">\n",
       "      <th></th>\n",
       "      <th>patient_id</th>\n",
       "      <th>lengthofstay</th>\n",
       "    </tr>\n",
       "  </thead>\n",
       "  <tbody>\n",
       "    <tr>\n",
       "      <th>8</th>\n",
       "      <td>995938</td>\n",
       "      <td>10 days 13:52:00</td>\n",
       "    </tr>\n",
       "    <tr>\n",
       "      <th>9</th>\n",
       "      <td>6081496</td>\n",
       "      <td>30 days 08:29:00</td>\n",
       "    </tr>\n",
       "    <tr>\n",
       "      <th>10</th>\n",
       "      <td>6081496</td>\n",
       "      <td>5 days 17:49:00</td>\n",
       "    </tr>\n",
       "    <tr>\n",
       "      <th>13</th>\n",
       "      <td>37605233</td>\n",
       "      <td>6 days 06:19:00</td>\n",
       "    </tr>\n",
       "    <tr>\n",
       "      <th>14</th>\n",
       "      <td>37605233</td>\n",
       "      <td>4 days 19:38:00</td>\n",
       "    </tr>\n",
       "    <tr>\n",
       "      <th>...</th>\n",
       "      <td>...</td>\n",
       "      <td>...</td>\n",
       "    </tr>\n",
       "    <tr>\n",
       "      <th>24702</th>\n",
       "      <td>63610844</td>\n",
       "      <td>10 days 04:13:00</td>\n",
       "    </tr>\n",
       "    <tr>\n",
       "      <th>24705</th>\n",
       "      <td>59288085</td>\n",
       "      <td>11 days 16:07:00</td>\n",
       "    </tr>\n",
       "    <tr>\n",
       "      <th>24711</th>\n",
       "      <td>67793747</td>\n",
       "      <td>6 days 01:11:00</td>\n",
       "    </tr>\n",
       "    <tr>\n",
       "      <th>24712</th>\n",
       "      <td>67793747</td>\n",
       "      <td>0 days 04:39:00</td>\n",
       "    </tr>\n",
       "    <tr>\n",
       "      <th>24713</th>\n",
       "      <td>67793747</td>\n",
       "      <td>0 days 01:40:00</td>\n",
       "    </tr>\n",
       "  </tbody>\n",
       "</table>\n",
       "<p>2714 rows × 2 columns</p>\n",
       "</div>"
      ],
      "text/plain": [
       "       patient_id     lengthofstay\n",
       "8          995938 10 days 13:52:00\n",
       "9         6081496 30 days 08:29:00\n",
       "10        6081496  5 days 17:49:00\n",
       "13       37605233  6 days 06:19:00\n",
       "14       37605233  4 days 19:38:00\n",
       "...           ...              ...\n",
       "24702    63610844 10 days 04:13:00\n",
       "24705    59288085 11 days 16:07:00\n",
       "24711    67793747  6 days 01:11:00\n",
       "24712    67793747  0 days 04:39:00\n",
       "24713    67793747  0 days 01:40:00\n",
       "\n",
       "[2714 rows x 2 columns]"
      ]
     },
     "execution_count": 8,
     "metadata": {},
     "output_type": "execute_result"
    }
   ],
   "source": [
    "df"
   ]
  },
  {
   "cell_type": "code",
   "execution_count": 9,
   "id": "fcef7d68",
   "metadata": {
    "scrolled": true
   },
   "outputs": [
    {
     "name": "stdout",
     "output_type": "stream",
     "text": [
      "number of errors: 110\n"
     ]
    }
   ],
   "source": [
    "df_ = []\n",
    "\n",
    "def pruebas(temp_spin, temp_admn, dt):\n",
    "    ls = []\n",
    "    for idx,curb_record in temp_spin.iterrows():\n",
    "        time_crb  = curb_record['date_time_arrived']\n",
    "        curb = curb_record['curb65_score']\n",
    "        #dt        = datetime.timedelta(days=1)\n",
    "        admn_cand = temp_admn[(temp_admn['admission_date_time'] < (time_crb + dt) ) &\n",
    "                              (temp_admn['discharge_date_time'] > (time_crb - dt) ) ]\n",
    "        if len(admn_cand) == 0: \n",
    "            continue\n",
    "        if len(admn_cand) == 1:\n",
    "            admn = admn_cand['admission_id'].iloc[0]\n",
    "            age  = admn_cand['age_at_admission\\r'].iloc[0]\n",
    "            los  = admn_cand['lengthofstay'].iloc[0]\n",
    "            los_d = los.days + round((los.seconds/(60*60*24))*2)/2\n",
    "            ls.append([admn, patient, curb, age, los_d])\n",
    "        else:\n",
    "            #print('puta')\n",
    "            ls = pruebas(temp_spin, temp_admn, datetime.timedelta(days=0.1))\n",
    "            return(ls)\n",
    "            break\n",
    "    return ls\n",
    "error = 0\n",
    "for patient in list_patients:\n",
    "    temp_spin = df_spin[df_spin['patient_id'] == patient]\n",
    "    temp_admn = df_admissions[df_admissions['patient_id'] == patient]\n",
    "    a =1\n",
    "    if temp_admn['mortal_admin'].iloc[0] == 1:\n",
    "        admin_date = temp_admn['admission_date_time'].iloc[0]\n",
    "        death_date = df_patients[df_patients['patient_id'] == patient].iloc[0]['date_of_death']\n",
    "        time_to_death = death_date - admin_date\n",
    "        # Length to death\n",
    "        ltd = time_to_death.days + round((time_to_death.seconds/(60*60*24))*2)/2\n",
    "    else:\n",
    "        ltd = np.nan\n",
    "    if (len(temp_spin) == 1) and (len(temp_admn) ==1):\n",
    "        curb = temp_spin['curb65_score'].iloc[0]\n",
    "        los  = temp_admn['lengthofstay'].iloc[0]\n",
    "        age  = temp_admn['age_at_admission\\r'].iloc[0]\n",
    "        admn = temp_admn['admission_id'].iloc[0]\n",
    "        los_d = los.days + round((los.seconds/(60*60*24))*2)/2\n",
    "        \n",
    "        df_.append([admn, patient, curb, age, los_d, ltd])\n",
    "    else:\n",
    "        ls = pruebas(temp_spin, temp_admn, datetime.timedelta(days=1.5))\n",
    "        \n",
    "        if len(ls) == 0:\n",
    "            error = error +1 \n",
    "            #break\n",
    "print('number of errors:', error)                "
   ]
  },
  {
   "cell_type": "code",
   "execution_count": 10,
   "id": "78137162",
   "metadata": {},
   "outputs": [
    {
     "data": {
      "text/html": [
       "<div>\n",
       "<style scoped>\n",
       "    .dataframe tbody tr th:only-of-type {\n",
       "        vertical-align: middle;\n",
       "    }\n",
       "\n",
       "    .dataframe tbody tr th {\n",
       "        vertical-align: top;\n",
       "    }\n",
       "\n",
       "    .dataframe thead th {\n",
       "        text-align: right;\n",
       "    }\n",
       "</style>\n",
       "<table border=\"1\" class=\"dataframe\">\n",
       "  <thead>\n",
       "    <tr style=\"text-align: right;\">\n",
       "      <th></th>\n",
       "      <th>admission</th>\n",
       "      <th>patient</th>\n",
       "      <th>curb</th>\n",
       "      <th>age</th>\n",
       "      <th>los</th>\n",
       "      <th>ltd</th>\n",
       "    </tr>\n",
       "  </thead>\n",
       "  <tbody>\n",
       "    <tr>\n",
       "      <th>0</th>\n",
       "      <td>40037580</td>\n",
       "      <td>73587963</td>\n",
       "      <td>0.000</td>\n",
       "      <td>59</td>\n",
       "      <td>32.500</td>\n",
       "      <td>NaN</td>\n",
       "    </tr>\n",
       "    <tr>\n",
       "      <th>1</th>\n",
       "      <td>74654337</td>\n",
       "      <td>46823261</td>\n",
       "      <td>2.000</td>\n",
       "      <td>84</td>\n",
       "      <td>14.500</td>\n",
       "      <td>20.000</td>\n",
       "    </tr>\n",
       "    <tr>\n",
       "      <th>2</th>\n",
       "      <td>69639051</td>\n",
       "      <td>57744947</td>\n",
       "      <td>0.000</td>\n",
       "      <td>61</td>\n",
       "      <td>6.500</td>\n",
       "      <td>NaN</td>\n",
       "    </tr>\n",
       "    <tr>\n",
       "      <th>3</th>\n",
       "      <td>7175893</td>\n",
       "      <td>51402009</td>\n",
       "      <td>2.000</td>\n",
       "      <td>91</td>\n",
       "      <td>9.000</td>\n",
       "      <td>NaN</td>\n",
       "    </tr>\n",
       "    <tr>\n",
       "      <th>4</th>\n",
       "      <td>34597618</td>\n",
       "      <td>46301726</td>\n",
       "      <td>2.000</td>\n",
       "      <td>54</td>\n",
       "      <td>66.000</td>\n",
       "      <td>NaN</td>\n",
       "    </tr>\n",
       "  </tbody>\n",
       "</table>\n",
       "</div>"
      ],
      "text/plain": [
       "   admission   patient  curb  age    los    ltd\n",
       "0   40037580  73587963 0.000   59 32.500    NaN\n",
       "1   74654337  46823261 2.000   84 14.500 20.000\n",
       "2   69639051  57744947 0.000   61  6.500    NaN\n",
       "3    7175893  51402009 2.000   91  9.000    NaN\n",
       "4   34597618  46301726 2.000   54 66.000    NaN"
      ]
     },
     "execution_count": 10,
     "metadata": {},
     "output_type": "execute_result"
    }
   ],
   "source": [
    "df = pd.DataFrame(df_, columns =['admission', 'patient', 'curb','age','los', 'ltd'])\n",
    "df.head(5)"
   ]
  },
  {
   "cell_type": "code",
   "execution_count": 11,
   "id": "0140ff4e",
   "metadata": {},
   "outputs": [
    {
     "data": {
      "text/plain": [
       "<AxesSubplot:>"
      ]
     },
     "execution_count": 11,
     "metadata": {},
     "output_type": "execute_result"
    },
    {
     "data": {
      "image/png": "[encoded data removed]",
      "text/plain": [
       "<Figure size 432x288 with 1 Axes>"
      ]
     },
     "metadata": {
      "needs_background": "light"
     },
     "output_type": "display_data"
    }
   ],
   "source": [
    "df['ltd'].hist()"
   ]
  },
  {
   "cell_type": "code",
   "execution_count": 12,
   "id": "fb51dfa5",
   "metadata": {},
   "outputs": [
    {
     "name": "stdout",
     "output_type": "stream",
     "text": [
      "total admins in survival analysis 1365\n",
      "admins where patient deceased 246\n"
     ]
    }
   ],
   "source": [
    "list_mortal_admins = df_admissions[df_admissions['mortal_admin'] == 1]['admission_id'].unique()\n",
    "print('total admins in survival analysis',len(df))\n",
    "print('admins where patient deceased',len(df[df['admission'].isin(list_mortal_admins )]))\n",
    "\n"
   ]
  },
  {
   "cell_type": "markdown",
   "id": "329e92bb",
   "metadata": {},
   "source": [
    "# CURB"
   ]
  },
  {
   "cell_type": "code",
   "execution_count": 13,
   "id": "c82141d2",
   "metadata": {},
   "outputs": [],
   "source": [
    "dict_df_curb = {}\n",
    "\n",
    "int_days = 25\n",
    "\n",
    "columns = ['time_days','curb_0', 'curb_1','curb_2','curb_3','curb_4', 'curb_5']\n",
    "time = [i for i in np.linspace(0, int_days, int_days*2 +1)]\n",
    "dict_df_curb[columns[0]] = time\n",
    "for i in range(6):\n",
    "    df_temp = df[df['curb']==i]\n",
    "    tot_pat = len(df_temp)\n",
    "    df_temp_mort = df_temp[~df_temp['ltd'].isna()]\n",
    "    \n",
    "    ls_curb = [(tot_pat - len(df_temp_mort[df_temp_mort['ltd']<t])) / tot_pat for t in time]\n",
    "    dict_df_curb[columns[i+1]] = ls_curb \n",
    "df_curb = pd.DataFrame(dict_df_curb)"
   ]
  },
  {
   "cell_type": "code",
   "execution_count": 14,
   "id": "807a3186",
   "metadata": {},
   "outputs": [
    {
     "data": {
      "image/png": "[encoded data removed]",
      "text/plain": [
       "<Figure size 720x432 with 1 Axes>"
      ]
     },
     "metadata": {
      "needs_background": "light"
     },
     "output_type": "display_data"
    }
   ],
   "source": [
    "\n",
    "\n",
    "plt.figure(figsize=(10,6))\n",
    "for col in columns[1:]:\n",
    "    plt.plot(df_curb[columns[0]], df_curb[col], label = col)\n",
    "plt.ylabel('Probability of survival', fontsize = 20)\n",
    "plt.xlabel('Time in days', fontsize = 20)\n",
    "plt.legend()\n",
    "plt.tight_layout()\n",
    "plt.ylim((0.0,1.05))\n",
    "plt.tick_params(axis='both', labelsize=18)\n",
    "plt.legend(fontsize = 15)\n",
    "plt.savefig('Survival_analysis_Curb_19_20.png', transparent = True, bbox_inches = \"tight\")\n",
    "plt.show()"
   ]
  },
  {
   "cell_type": "code",
   "execution_count": null,
   "id": "f9c51245",
   "metadata": {},
   "outputs": [],
   "source": []
  },
  {
   "cell_type": "markdown",
   "id": "a5f2f6cd",
   "metadata": {},
   "source": [
    "# ADMISSIONS WITH DEAD PATIENT\n",
    "\n",
    "dict_df_curb = {}\n",
    "\n",
    "\n",
    "int_days = 15\n",
    "\n",
    "columns = ['time_days','curb_0', 'curb_1','curb_2','curb_3','curb_4', 'curb_5']\n",
    "time = [i for i in np.linspace(0, int_days, int_days*2 +1)]\n",
    "dict_df_curb[columns[0]] = time\n",
    "for i in range(6):\n",
    "    df_temp = df[(df['curb']==i) & (df['admission'].isin(list_mortal_admins ))]\n",
    "    \n",
    "    ls_curb = [1 - (len(df_temp[df_temp['los']< t])/len(df_temp)) for t in time]\n",
    "    dict_df_curb[columns[i+1]] = ls_curb \n",
    "df_curb = pd.DataFrame(dict_df_curb) "
   ]
  },
  {
   "cell_type": "markdown",
   "id": "1c936691",
   "metadata": {},
   "source": [
    "\n",
    "plt.figure(figsize=(10,6))\n",
    "for col in columns[1:]:\n",
    "    plt.plot(df_curb[columns[0]], df_curb[col], label = col)\n",
    "plt.ylabel('Probability of survival', fontsize = 20)\n",
    "plt.xlabel('Time in days', fontsize = 20)\n",
    "plt.legend()\n",
    "plt.tight_layout()\n",
    "plt.ylim((0.0,1.05))\n",
    "plt.tick_params(axis='both', labelsize=18)\n",
    "plt.legend(fontsize = 15)\n",
    "plt.savefig('Survival_analysis_Curb_deceased_19_20.png', transparent = True, bbox_inches = \"tight\")\n",
    "plt.show()"
   ]
  },
  {
   "cell_type": "markdown",
   "id": "ab88d762",
   "metadata": {},
   "source": [
    "# AGE"
   ]
  },
  {
   "cell_type": "code",
   "execution_count": null,
   "id": "23bcc974",
   "metadata": {},
   "outputs": [],
   "source": []
  },
  {
   "cell_type": "code",
   "execution_count": 15,
   "id": "cdced95d",
   "metadata": {},
   "outputs": [
    {
     "data": {
      "text/plain": [
       "41"
      ]
     },
     "execution_count": 15,
     "metadata": {},
     "output_type": "execute_result"
    }
   ],
   "source": [
    "dict_df_age = {}\n",
    "\n",
    "\n",
    "int_days = 20\n",
    "\n",
    "columns = ['time_days','<=65', '>65']\n",
    "time = [i for i in np.linspace(0, int_days, int_days*2 +1)]\n",
    "dict_df_age[columns[0]] = time\n",
    "\n",
    "df_temp = df[(df['age']<=65)]\n",
    "tot_pat = len(df_temp)\n",
    "df_temp_mort = df_temp[~df_temp['ltd'].isna()]\n",
    "ls_age = [(tot_pat - len(df_temp_mort[df_temp_mort['ltd']<t])) / tot_pat for t in time]\n",
    "#ls_age  = [1 - (len(df_temp[df_temp['los']< t])/len(df_temp)) for t in time]\n",
    "dict_df_age[columns[1]] = ls_age\n",
    "\n",
    "df_temp = df[(df['age']>65)]\n",
    "tot_pat = len(df_temp)\n",
    "df_temp_mort = df_temp[~df_temp['ltd'].isna()]\n",
    "ls_age = [(tot_pat - len(df_temp_mort[df_temp_mort['ltd']<t])) / tot_pat for t in time]\n",
    "#ls_age  = [1 - (len(df_temp[df_temp['los']< t])/len(df_temp)) for t in time]\n",
    "dict_df_age[columns[2]] = ls_age\n",
    "\n",
    "\n",
    "df_age = pd.DataFrame(dict_df_age) \n",
    "len(df_age)"
   ]
  },
  {
   "cell_type": "code",
   "execution_count": 16,
   "id": "bdc3b27c",
   "metadata": {},
   "outputs": [
    {
     "data": {
      "image/png": "[encoded data removed]",
      "text/plain": [
       "<Figure size 720x432 with 1 Axes>"
      ]
     },
     "metadata": {
      "needs_background": "light"
     },
     "output_type": "display_data"
    }
   ],
   "source": [
    "\n",
    "plt.figure(figsize=(10,6))\n",
    "for col in columns[1:]:\n",
    "    plt.plot(df_age[columns[0]], df_age[col], label = col)\n",
    "plt.ylabel('Probability of survival', fontsize = 20)\n",
    "plt.xlabel('Time in days', fontsize = 20)\n",
    "plt.legend()\n",
    "plt.tight_layout()\n",
    "plt.ylim((0.0,1.05))\n",
    "plt.tick_params(axis='both', labelsize=18)\n",
    "plt.legend(fontsize = 15)\n",
    "plt.savefig('Survival_analysis_Age_19_20.png', transparent = True, bbox_inches = \"tight\")\n",
    "plt.show()"
   ]
  },
  {
   "cell_type": "markdown",
   "id": "da8ab0a9",
   "metadata": {},
   "source": [
    "# ADMISSIONS WITH DEAD PATIENT\n",
    "\n",
    "\n",
    "dict_df_age = {}\n",
    "\n",
    "\n",
    "int_days = 15\n",
    "\n",
    "columns = ['time_days','<=65', '>65']\n",
    "time = [i for i in np.linspace(0, int_days, int_days*2 +1)]\n",
    "dict_df_age[columns[0]] = time\n",
    "\n",
    "df_temp = df[(df['age']<=65) & (df['admission'].isin(list_mortal_admins ))]\n",
    "ls_age  = [1 - (len(df_temp[df_temp['los']< t])/len(df_temp)) for t in time]\n",
    "dict_df_age[columns[1]] = ls_age\n",
    "\n",
    "df_temp = df[(df['age']>65) & (df['admission'].isin(list_mortal_admins ))]\n",
    "ls_age  = [1 - (len(df_temp[df_temp['los']< t])/len(df_temp)) for t in time]\n",
    "dict_df_age[columns[2]] = ls_age\n",
    "\n",
    "\n",
    "df_age = pd.DataFrame(dict_df_age) \n"
   ]
  },
  {
   "cell_type": "markdown",
   "id": "2ee6008a",
   "metadata": {},
   "source": [
    "\n",
    "plt.figure(figsize=(10,6))\n",
    "for col in columns[1:]:\n",
    "    plt.plot(df_age[columns[0]], df_age[col], label = col)\n",
    "plt.ylabel('Probability of survival', fontsize = 20)\n",
    "plt.xlabel('Time in days', fontsize = 20)\n",
    "plt.legend()\n",
    "plt.tight_layout()\n",
    "plt.ylim((0.0,1.05))\n",
    "plt.tick_params(axis='both', labelsize=18)\n",
    "plt.legend(fontsize = 15)\n",
    "plt.savefig('Survival_analysis_Age_deceased_19_20.png', transparent = True, bbox_inches = \"tight\")\n",
    "plt.show()"
   ]
  },
  {
   "cell_type": "code",
   "execution_count": null,
   "id": "82d4853f",
   "metadata": {},
   "outputs": [],
   "source": []
  },
  {
   "cell_type": "code",
   "execution_count": null,
   "id": "3fb3710a",
   "metadata": {},
   "outputs": [],
   "source": []
  },
  {
   "cell_type": "code",
   "execution_count": null,
   "id": "fd4c2b24",
   "metadata": {},
   "outputs": [],
   "source": []
  },
  {
   "cell_type": "code",
   "execution_count": null,
   "id": "dbb7cb6e",
   "metadata": {},
   "outputs": [],
   "source": []
  }
 ],
 "metadata": {
  "kernelspec": {
   "display_name": "Python 3 (ipykernel)",
   "language": "python",
   "name": "python3"
  },
  "language_info": {
   "codemirror_mode": {
    "name": "ipython",
    "version": 3
   },
   "file_extension": ".py",
   "mimetype": "text/x-python",
   "name": "python",
   "nbconvert_exporter": "python",
   "pygments_lexer": "ipython3",
   "version": "3.8.13"
  }
 },
 "nbformat": 4,
 "nbformat_minor": 5
}
