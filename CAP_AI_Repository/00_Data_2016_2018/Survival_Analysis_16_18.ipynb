{
 "cells": [
  {
   "cell_type": "code",
   "execution_count": 1,
   "id": "28026c9a",
   "metadata": {},
   "outputs": [],
   "source": [
    "%reset -f\n",
    "import numpy as np\n",
    "import pandas as pd\n",
    "\n",
    "\n",
    "import matplotlib\n",
    "matplotlib.rcParams['font.family'] = 'STIXGeneral'\n",
    "matplotlib.rcParams['mathtext.fontset'] = 'stix'\n",
    "matplotlib.rcParams['mathtext.fontset'] = 'cm'\n",
    "import matplotlib.pyplot as plt\n",
    "import re, sqlite3, pickle, time, datetime, random\n",
    "\n",
    "pd.set_option('display.float_format', lambda x: '%.3f' % x)"
   ]
  },
  {
   "cell_type": "code",
   "execution_count": 2,
   "id": "5400c343",
   "metadata": {},
   "outputs": [],
   "source": [
    "path  = r'/rfs/CAPAI_PhD_dflr2/dflr2/Codes_Data_2/Data/'\n",
    "file9 = path + '20210525_spin.txt'\n",
    "df_spin  = pd.read_csv(file9, sep='\\t', lineterminator='\\n')\n",
    "df_spin['date_time_arrived'] = pd.to_datetime(df_spin['date_time_arrived'], format='%Y-%m-%d %H:%M:%S')"
   ]
  },
  {
   "cell_type": "code",
   "execution_count": 3,
   "id": "34e38e6f",
   "metadata": {},
   "outputs": [
    {
     "data": {
      "text/html": [
       "<div>\n",
       "<style scoped>\n",
       "    .dataframe tbody tr th:only-of-type {\n",
       "        vertical-align: middle;\n",
       "    }\n",
       "\n",
       "    .dataframe tbody tr th {\n",
       "        vertical-align: top;\n",
       "    }\n",
       "\n",
       "    .dataframe thead th {\n",
       "        text-align: right;\n",
       "    }\n",
       "</style>\n",
       "<table border=\"1\" class=\"dataframe\">\n",
       "  <thead>\n",
       "    <tr style=\"text-align: right;\">\n",
       "      <th></th>\n",
       "      <th>patient_id</th>\n",
       "      <th>date_time_arrived</th>\n",
       "      <th>cxr_4h</th>\n",
       "      <th>cxr_cap</th>\n",
       "      <th>cxr_date</th>\n",
       "      <th>cxr_time</th>\n",
       "      <th>o2_1h</th>\n",
       "      <th>o2_prescribed_1h</th>\n",
       "      <th>curb65_recorded</th>\n",
       "      <th>curb65_score</th>\n",
       "      <th>ab_4h</th>\n",
       "      <th>reason_ab_not_concordant</th>\n",
       "      <th>ab_severity</th>\n",
       "      <th>ab_date_time\\r</th>\n",
       "    </tr>\n",
       "  </thead>\n",
       "  <tbody>\n",
       "    <tr>\n",
       "      <th>0</th>\n",
       "      <td>22377059</td>\n",
       "      <td>2016-01-05 12:27:00</td>\n",
       "      <td>Y</td>\n",
       "      <td>Y</td>\n",
       "      <td>2015-01-05</td>\n",
       "      <td>15:35</td>\n",
       "      <td>Y</td>\n",
       "      <td>N</td>\n",
       "      <td>Y</td>\n",
       "      <td>2.000</td>\n",
       "      <td>Y</td>\n",
       "      <td>NaN</td>\n",
       "      <td>N</td>\n",
       "      <td>2016-01-05 12:50:00\\r</td>\n",
       "    </tr>\n",
       "    <tr>\n",
       "      <th>1</th>\n",
       "      <td>83768183</td>\n",
       "      <td>2016-01-06 13:00:00</td>\n",
       "      <td>Y</td>\n",
       "      <td>Y</td>\n",
       "      <td>2016-01-06</td>\n",
       "      <td>14:53</td>\n",
       "      <td>Y</td>\n",
       "      <td>N</td>\n",
       "      <td>Y</td>\n",
       "      <td>0.000</td>\n",
       "      <td>Y</td>\n",
       "      <td>NaN</td>\n",
       "      <td>Y</td>\n",
       "      <td>2016-01-06 16:00:00\\r</td>\n",
       "    </tr>\n",
       "    <tr>\n",
       "      <th>2</th>\n",
       "      <td>14436193</td>\n",
       "      <td>2016-01-06 18:59:00</td>\n",
       "      <td>Y</td>\n",
       "      <td>Y</td>\n",
       "      <td>2016-01-06</td>\n",
       "      <td>19:50</td>\n",
       "      <td>Y</td>\n",
       "      <td>N</td>\n",
       "      <td>Y</td>\n",
       "      <td>0.000</td>\n",
       "      <td>Y</td>\n",
       "      <td>NaN</td>\n",
       "      <td>Y</td>\n",
       "      <td>2016-01-06 18:00:00\\r</td>\n",
       "    </tr>\n",
       "    <tr>\n",
       "      <th>3</th>\n",
       "      <td>18703762</td>\n",
       "      <td>2016-01-06 11:30:00</td>\n",
       "      <td>Y</td>\n",
       "      <td>Y</td>\n",
       "      <td>2016-01-06</td>\n",
       "      <td>12:24</td>\n",
       "      <td>Y</td>\n",
       "      <td>N</td>\n",
       "      <td>Y</td>\n",
       "      <td>0.000</td>\n",
       "      <td>Y</td>\n",
       "      <td>NaN</td>\n",
       "      <td>Y</td>\n",
       "      <td>2016-01-06 12:40:00\\r</td>\n",
       "    </tr>\n",
       "  </tbody>\n",
       "</table>\n",
       "</div>"
      ],
      "text/plain": [
       "   patient_id   date_time_arrived cxr_4h cxr_cap    cxr_date cxr_time o2_1h  \\\n",
       "0    22377059 2016-01-05 12:27:00      Y       Y  2015-01-05    15:35     Y   \n",
       "1    83768183 2016-01-06 13:00:00      Y       Y  2016-01-06    14:53     Y   \n",
       "2    14436193 2016-01-06 18:59:00      Y       Y  2016-01-06    19:50     Y   \n",
       "3    18703762 2016-01-06 11:30:00      Y       Y  2016-01-06    12:24     Y   \n",
       "\n",
       "  o2_prescribed_1h curb65_recorded  curb65_score ab_4h  \\\n",
       "0                N               Y         2.000     Y   \n",
       "1                N               Y         0.000     Y   \n",
       "2                N               Y         0.000     Y   \n",
       "3                N               Y         0.000     Y   \n",
       "\n",
       "   reason_ab_not_concordant ab_severity         ab_date_time\\r  \n",
       "0                       NaN           N  2016-01-05 12:50:00\\r  \n",
       "1                       NaN           Y  2016-01-06 16:00:00\\r  \n",
       "2                       NaN           Y  2016-01-06 18:00:00\\r  \n",
       "3                       NaN           Y  2016-01-06 12:40:00\\r  "
      ]
     },
     "execution_count": 3,
     "metadata": {},
     "output_type": "execute_result"
    }
   ],
   "source": [
    "df_spin.head(4)"
   ]
  },
  {
   "cell_type": "code",
   "execution_count": 4,
   "id": "00a88bec",
   "metadata": {},
   "outputs": [
    {
     "data": {
      "text/plain": [
       "6078"
      ]
     },
     "execution_count": 4,
     "metadata": {},
     "output_type": "execute_result"
    }
   ],
   "source": [
    "len(df_spin['patient_id'].unique())"
   ]
  },
  {
   "cell_type": "code",
   "execution_count": 5,
   "id": "b157fdb9",
   "metadata": {},
   "outputs": [],
   "source": [
    "############################################################\n",
    "# LOADING ADMISSIONS AND PATIENTS DF\n",
    "############################################################\n",
    "data = pickle.load( open('DataFrame_pickles/df_patients_admissions_2016_2018.pickle', 'rb'))\n",
    "df_patients   = data[0]\n",
    "df_admissions = data[1]\n"
   ]
  },
  {
   "cell_type": "code",
   "execution_count": 6,
   "id": "799ce829",
   "metadata": {},
   "outputs": [
    {
     "data": {
      "text/html": [
       "<div>\n",
       "<style scoped>\n",
       "    .dataframe tbody tr th:only-of-type {\n",
       "        vertical-align: middle;\n",
       "    }\n",
       "\n",
       "    .dataframe tbody tr th {\n",
       "        vertical-align: top;\n",
       "    }\n",
       "\n",
       "    .dataframe thead th {\n",
       "        text-align: right;\n",
       "    }\n",
       "</style>\n",
       "<table border=\"1\" class=\"dataframe\">\n",
       "  <thead>\n",
       "    <tr style=\"text-align: right;\">\n",
       "      <th></th>\n",
       "      <th>admission_id</th>\n",
       "      <th>episode_diagnoses</th>\n",
       "      <th>patient_id</th>\n",
       "      <th>age_at_admission\\r</th>\n",
       "      <th>admission_date_time</th>\n",
       "      <th>admission_date_code_time</th>\n",
       "      <th>discharge_date_time</th>\n",
       "      <th>discharge_date_code_time</th>\n",
       "      <th>lengthofstay</th>\n",
       "      <th>isPneumonia</th>\n",
       "      <th>mortal_admin</th>\n",
       "      <th>icu_count\\r</th>\n",
       "      <th>Comorbidity_score</th>\n",
       "    </tr>\n",
       "  </thead>\n",
       "  <tbody>\n",
       "    <tr>\n",
       "      <th>0</th>\n",
       "      <td>3305648</td>\n",
       "      <td>||J18.9,K59.0,L89.1,I10.X,E11.9,H91.9,D50.8,Z73.9</td>\n",
       "      <td>68825097</td>\n",
       "      <td>89</td>\n",
       "      <td>2016-08-16 23:58:00</td>\n",
       "      <td>17029.999</td>\n",
       "      <td>2016-08-17 15:37:00</td>\n",
       "      <td>17030.651</td>\n",
       "      <td>0 days 15:39:00</td>\n",
       "      <td>1</td>\n",
       "      <td>0</td>\n",
       "      <td>0</td>\n",
       "      <td>1</td>\n",
       "    </tr>\n",
       "    <tr>\n",
       "      <th>1</th>\n",
       "      <td>7763466</td>\n",
       "      <td>||J18.1,J84.9,C34.9,R26.8,E11.9,R15.X,R32.X,H91.9</td>\n",
       "      <td>68825097</td>\n",
       "      <td>90</td>\n",
       "      <td>2017-10-26 05:36:00</td>\n",
       "      <td>17465.233</td>\n",
       "      <td>2017-10-26 17:59:00</td>\n",
       "      <td>17465.749</td>\n",
       "      <td>0 days 12:23:00</td>\n",
       "      <td>1</td>\n",
       "      <td>0</td>\n",
       "      <td>0</td>\n",
       "      <td>3</td>\n",
       "    </tr>\n",
       "    <tr>\n",
       "      <th>2</th>\n",
       "      <td>58250780</td>\n",
       "      <td>||J18.1,J44.0,C34.9,I71.4,R60.0,I73.9,Z92.1,I1...</td>\n",
       "      <td>68825097</td>\n",
       "      <td>91</td>\n",
       "      <td>2017-11-06 23:01:00</td>\n",
       "      <td>17476.959</td>\n",
       "      <td>2017-11-09 05:50:00</td>\n",
       "      <td>17479.243</td>\n",
       "      <td>2 days 06:49:00</td>\n",
       "      <td>1</td>\n",
       "      <td>1</td>\n",
       "      <td>0</td>\n",
       "      <td>4</td>\n",
       "    </tr>\n",
       "    <tr>\n",
       "      <th>3</th>\n",
       "      <td>92255436</td>\n",
       "      <td>||J15.4,J84.9,K21.9,E03.9,E55.9,F06.7,M19.9||J...</td>\n",
       "      <td>86629350</td>\n",
       "      <td>84</td>\n",
       "      <td>2016-06-08 21:12:00</td>\n",
       "      <td>16960.883</td>\n",
       "      <td>2016-06-22 14:45:00</td>\n",
       "      <td>16974.615</td>\n",
       "      <td>13 days 17:33:00</td>\n",
       "      <td>1</td>\n",
       "      <td>1</td>\n",
       "      <td>0</td>\n",
       "      <td>0</td>\n",
       "    </tr>\n",
       "  </tbody>\n",
       "</table>\n",
       "</div>"
      ],
      "text/plain": [
       "   admission_id                                  episode_diagnoses  \\\n",
       "0       3305648  ||J18.9,K59.0,L89.1,I10.X,E11.9,H91.9,D50.8,Z73.9   \n",
       "1       7763466  ||J18.1,J84.9,C34.9,R26.8,E11.9,R15.X,R32.X,H91.9   \n",
       "2      58250780  ||J18.1,J44.0,C34.9,I71.4,R60.0,I73.9,Z92.1,I1...   \n",
       "3      92255436  ||J15.4,J84.9,K21.9,E03.9,E55.9,F06.7,M19.9||J...   \n",
       "\n",
       "   patient_id  age_at_admission\\r admission_date_time  \\\n",
       "0    68825097                  89 2016-08-16 23:58:00   \n",
       "1    68825097                  90 2017-10-26 05:36:00   \n",
       "2    68825097                  91 2017-11-06 23:01:00   \n",
       "3    86629350                  84 2016-06-08 21:12:00   \n",
       "\n",
       "   admission_date_code_time discharge_date_time  discharge_date_code_time  \\\n",
       "0                 17029.999 2016-08-17 15:37:00                 17030.651   \n",
       "1                 17465.233 2017-10-26 17:59:00                 17465.749   \n",
       "2                 17476.959 2017-11-09 05:50:00                 17479.243   \n",
       "3                 16960.883 2016-06-22 14:45:00                 16974.615   \n",
       "\n",
       "      lengthofstay  isPneumonia  mortal_admin  icu_count\\r  Comorbidity_score  \n",
       "0  0 days 15:39:00            1             0            0                  1  \n",
       "1  0 days 12:23:00            1             0            0                  3  \n",
       "2  2 days 06:49:00            1             1            0                  4  \n",
       "3 13 days 17:33:00            1             1            0                  0  "
      ]
     },
     "execution_count": 6,
     "metadata": {},
     "output_type": "execute_result"
    }
   ],
   "source": [
    "df_admissions.head(4)"
   ]
  },
  {
   "cell_type": "markdown",
   "id": "670cb8d5",
   "metadata": {},
   "source": [
    "# Filtering Data"
   ]
  },
  {
   "cell_type": "code",
   "execution_count": 7,
   "id": "9ba65047",
   "metadata": {},
   "outputs": [
    {
     "name": "stdout",
     "output_type": "stream",
     "text": [
      "number of patients with Curb65 information 5348\n",
      "number of admissions in df 7940\n"
     ]
    }
   ],
   "source": [
    "list_patients = df_spin[~(df_spin['curb65_score'].isna())]['patient_id'].unique()\n",
    "\n",
    "print('number of patients with Curb65 information', len(list_patients))\n",
    "print('number of admissions in df', len(df_admissions[df_admissions['patient_id'].isin(list_patients)]))"
   ]
  },
  {
   "cell_type": "code",
   "execution_count": 8,
   "id": "13f24386",
   "metadata": {},
   "outputs": [
    {
     "data": {
      "text/html": [
       "<div>\n",
       "<style scoped>\n",
       "    .dataframe tbody tr th:only-of-type {\n",
       "        vertical-align: middle;\n",
       "    }\n",
       "\n",
       "    .dataframe tbody tr th {\n",
       "        vertical-align: top;\n",
       "    }\n",
       "\n",
       "    .dataframe thead th {\n",
       "        text-align: right;\n",
       "    }\n",
       "</style>\n",
       "<table border=\"1\" class=\"dataframe\">\n",
       "  <thead>\n",
       "    <tr style=\"text-align: right;\">\n",
       "      <th></th>\n",
       "      <th>patient_id</th>\n",
       "      <th>date_time_arrived</th>\n",
       "      <th>cxr_4h</th>\n",
       "      <th>cxr_cap</th>\n",
       "      <th>cxr_date</th>\n",
       "      <th>cxr_time</th>\n",
       "      <th>o2_1h</th>\n",
       "      <th>o2_prescribed_1h</th>\n",
       "      <th>curb65_recorded</th>\n",
       "      <th>curb65_score</th>\n",
       "      <th>ab_4h</th>\n",
       "      <th>reason_ab_not_concordant</th>\n",
       "      <th>ab_severity</th>\n",
       "      <th>ab_date_time\\r</th>\n",
       "    </tr>\n",
       "  </thead>\n",
       "  <tbody>\n",
       "    <tr>\n",
       "      <th>1005</th>\n",
       "      <td>68825097</td>\n",
       "      <td>2016-08-16 12:50:00</td>\n",
       "      <td>Y</td>\n",
       "      <td>Y</td>\n",
       "      <td>2016-08-16</td>\n",
       "      <td>16:36</td>\n",
       "      <td>Y</td>\n",
       "      <td>N</td>\n",
       "      <td>Y</td>\n",
       "      <td>2.000</td>\n",
       "      <td>N</td>\n",
       "      <td>NaN</td>\n",
       "      <td>N</td>\n",
       "      <td>2016-08-16 18:30:00\\r</td>\n",
       "    </tr>\n",
       "  </tbody>\n",
       "</table>\n",
       "</div>"
      ],
      "text/plain": [
       "      patient_id   date_time_arrived cxr_4h cxr_cap    cxr_date cxr_time  \\\n",
       "1005    68825097 2016-08-16 12:50:00      Y       Y  2016-08-16    16:36   \n",
       "\n",
       "     o2_1h o2_prescribed_1h curb65_recorded  curb65_score ab_4h  \\\n",
       "1005     Y                N               Y         2.000     N   \n",
       "\n",
       "      reason_ab_not_concordant ab_severity         ab_date_time\\r  \n",
       "1005                       NaN           N  2016-08-16 18:30:00\\r  "
      ]
     },
     "execution_count": 8,
     "metadata": {},
     "output_type": "execute_result"
    }
   ],
   "source": [
    "df_spin[df_spin['patient_id'] == 68825097]"
   ]
  },
  {
   "cell_type": "code",
   "execution_count": 9,
   "id": "fcef7d68",
   "metadata": {
    "scrolled": true
   },
   "outputs": [
    {
     "name": "stdout",
     "output_type": "stream",
     "text": [
      "number of errors: 59\n"
     ]
    }
   ],
   "source": [
    "df_ = []\n",
    "\n",
    "def pruebas(temp_spin, temp_admn, dt):\n",
    "    ls = []\n",
    "    for idx,curb_record in temp_spin.iterrows():\n",
    "        time_crb  = curb_record['date_time_arrived']\n",
    "        curb = curb_record['curb65_score']\n",
    "        #dt        = datetime.timedelta(days=1)\n",
    "        admn_cand = temp_admn[(temp_admn['admission_date_time'] < (time_crb + dt) ) &\n",
    "                              (temp_admn['discharge_date_time'] > (time_crb - dt) ) ]\n",
    "        if len(admn_cand) == 0: \n",
    "            continue\n",
    "        if len(admn_cand) == 1:\n",
    "            admn = admn_cand['admission_id'].iloc[0]\n",
    "            age  = admn_cand['age_at_admission\\r'].iloc[0]\n",
    "            los  = admn_cand['lengthofstay'].iloc[0]\n",
    "            los_d = los.days + round((los.seconds/(60*60*24))*2)/2\n",
    "            ls.append([admn, patient, curb, age, los_d])\n",
    "        else:\n",
    "            #print('puta')\n",
    "            ls = pruebas(temp_spin, temp_admn, datetime.timedelta(days=0.1))\n",
    "            return(ls)\n",
    "            break\n",
    "    return ls\n",
    "error = 0\n",
    "for patient in list_patients:\n",
    "    temp_spin = df_spin[df_spin['patient_id'] == patient]\n",
    "    temp_admn = df_admissions[df_admissions['patient_id'] == patient]\n",
    "    a =1\n",
    "    if temp_admn['mortal_admin'].iloc[0] == 1:\n",
    "        admin_date = temp_admn['admission_date_time'].iloc[0]\n",
    "        death_date = df_patients[df_patients['patient_id'] == patient].iloc[0]['date_of_death']\n",
    "        time_to_death = death_date - admin_date\n",
    "        # Length to death\n",
    "        ltd = time_to_death.days + round((time_to_death.seconds/(60*60*24))*2)/2\n",
    "    else:\n",
    "        ltd = 101\n",
    "    if (len(temp_spin) == 1) and (len(temp_admn) ==1):\n",
    "        curb = temp_spin['curb65_score'].iloc[0]\n",
    "        \n",
    "        #curb = 0 if curb < 2 else 2 if curb > 2 else 1\n",
    "        los  = temp_admn['lengthofstay'].iloc[0]\n",
    "        age  = temp_admn['age_at_admission\\r'].iloc[0]\n",
    "        admn = temp_admn['admission_id'].iloc[0]\n",
    "        los_d = los.days + round((los.seconds/(60*60*24))*2)/2\n",
    "        mort = temp_admn['mortal_admin'].iloc[0]\n",
    "        \n",
    "        df_.append([admn, patient, curb, age, los_d, ltd, mort])\n",
    "    else:\n",
    "        ls = pruebas(temp_spin, temp_admn, datetime.timedelta(days=1.5))\n",
    "        \n",
    "        if len(ls) == 0:\n",
    "            error = error +1 \n",
    "            #break\n",
    "print('number of errors:', error)                "
   ]
  },
  {
   "cell_type": "code",
   "execution_count": 10,
   "id": "78137162",
   "metadata": {},
   "outputs": [
    {
     "data": {
      "text/html": [
       "<div>\n",
       "<style scoped>\n",
       "    .dataframe tbody tr th:only-of-type {\n",
       "        vertical-align: middle;\n",
       "    }\n",
       "\n",
       "    .dataframe tbody tr th {\n",
       "        vertical-align: top;\n",
       "    }\n",
       "\n",
       "    .dataframe thead th {\n",
       "        text-align: right;\n",
       "    }\n",
       "</style>\n",
       "<table border=\"1\" class=\"dataframe\">\n",
       "  <thead>\n",
       "    <tr style=\"text-align: right;\">\n",
       "      <th></th>\n",
       "      <th>admission</th>\n",
       "      <th>patient</th>\n",
       "      <th>curb</th>\n",
       "      <th>age</th>\n",
       "      <th>los</th>\n",
       "      <th>ltd</th>\n",
       "      <th>mortality</th>\n",
       "    </tr>\n",
       "  </thead>\n",
       "  <tbody>\n",
       "    <tr>\n",
       "      <th>0</th>\n",
       "      <td>9436266</td>\n",
       "      <td>22377059</td>\n",
       "      <td>2.000</td>\n",
       "      <td>67</td>\n",
       "      <td>0.000</td>\n",
       "      <td>101.000</td>\n",
       "      <td>0</td>\n",
       "    </tr>\n",
       "    <tr>\n",
       "      <th>1</th>\n",
       "      <td>76234339</td>\n",
       "      <td>83768183</td>\n",
       "      <td>0.000</td>\n",
       "      <td>45</td>\n",
       "      <td>0.000</td>\n",
       "      <td>101.000</td>\n",
       "      <td>0</td>\n",
       "    </tr>\n",
       "    <tr>\n",
       "      <th>2</th>\n",
       "      <td>49526628</td>\n",
       "      <td>18703762</td>\n",
       "      <td>0.000</td>\n",
       "      <td>50</td>\n",
       "      <td>0.000</td>\n",
       "      <td>101.000</td>\n",
       "      <td>0</td>\n",
       "    </tr>\n",
       "    <tr>\n",
       "      <th>3</th>\n",
       "      <td>83178038</td>\n",
       "      <td>31951825</td>\n",
       "      <td>3.000</td>\n",
       "      <td>72</td>\n",
       "      <td>3.000</td>\n",
       "      <td>101.000</td>\n",
       "      <td>0</td>\n",
       "    </tr>\n",
       "    <tr>\n",
       "      <th>4</th>\n",
       "      <td>86923643</td>\n",
       "      <td>72115537</td>\n",
       "      <td>2.000</td>\n",
       "      <td>88</td>\n",
       "      <td>1.000</td>\n",
       "      <td>101.000</td>\n",
       "      <td>0</td>\n",
       "    </tr>\n",
       "  </tbody>\n",
       "</table>\n",
       "</div>"
      ],
      "text/plain": [
       "   admission   patient  curb  age   los     ltd  mortality\n",
       "0    9436266  22377059 2.000   67 0.000 101.000          0\n",
       "1   76234339  83768183 0.000   45 0.000 101.000          0\n",
       "2   49526628  18703762 0.000   50 0.000 101.000          0\n",
       "3   83178038  31951825 3.000   72 3.000 101.000          0\n",
       "4   86923643  72115537 2.000   88 1.000 101.000          0"
      ]
     },
     "execution_count": 10,
     "metadata": {},
     "output_type": "execute_result"
    }
   ],
   "source": [
    "df = pd.DataFrame(df_, columns =['admission', 'patient', 'curb','age','los', 'ltd', 'mortality'])\n",
    "df.head(5)"
   ]
  },
  {
   "cell_type": "code",
   "execution_count": 11,
   "id": "46d7ff9b",
   "metadata": {},
   "outputs": [
    {
     "data": {
      "text/plain": [
       "<AxesSubplot:>"
      ]
     },
     "execution_count": 11,
     "metadata": {},
     "output_type": "execute_result"
    },
    {
     "data": {
      "image/png": "[encoded data removed]",
      "text/plain": [
       "<Figure size 432x288 with 1 Axes>"
      ]
     },
     "metadata": {
      "needs_background": "light"
     },
     "output_type": "display_data"
    }
   ],
   "source": [
    "df['ltd'].hist()"
   ]
  },
  {
   "cell_type": "code",
   "execution_count": 12,
   "id": "fb51dfa5",
   "metadata": {},
   "outputs": [
    {
     "name": "stdout",
     "output_type": "stream",
     "text": [
      "total admins in survival analysis 3711\n",
      "admins where patient deceased 432\n"
     ]
    }
   ],
   "source": [
    "list_mortal_admins = df_admissions[df_admissions['mortal_admin'] == 1]['admission_id'].unique()\n",
    "print('total admins in survival analysis',len(df))\n",
    "print('admins where patient deceased',len(df[df['admission'].isin(list_mortal_admins )]))\n",
    "\n"
   ]
  },
  {
   "cell_type": "markdown",
   "id": "329e92bb",
   "metadata": {},
   "source": [
    "# CURB"
   ]
  },
  {
   "cell_type": "code",
   "execution_count": 13,
   "id": "ba873afa",
   "metadata": {},
   "outputs": [
    {
     "data": {
      "text/plain": [
       "<AxesSubplot:xlabel='timeline'>"
      ]
     },
     "execution_count": 13,
     "metadata": {},
     "output_type": "execute_result"
    },
    {
     "data": {
      "image/png": "[encoded data removed]",
      "text/plain": [
       "<Figure size 432x288 with 1 Axes>"
      ]
     },
     "metadata": {
      "needs_background": "light"
     },
     "output_type": "display_data"
    }
   ],
   "source": [
    "from lifelines import KaplanMeierFitter\n",
    "\n",
    "T = df[~df['ltd'].isna()]['ltd']\n",
    "E = df[~df['ltd'].isna()]['mortality']\n",
    "\n",
    "kmf = KaplanMeierFitter()\n",
    "kmf.fit(durations = T, event_observed = E)\n",
    "kmf.plot_survival_function()"
   ]
  },
  {
   "cell_type": "code",
   "execution_count": 14,
   "id": "dc8990a3",
   "metadata": {},
   "outputs": [
    {
     "data": {
      "text/plain": [
       "Text(0.5, 1.0, 'Survival of different gender group')"
      ]
     },
     "execution_count": 14,
     "metadata": {},
     "output_type": "execute_result"
    },
    {
     "data": {
      "image/png": "[encoded data removed]",
      "text/plain": [
       "<Figure size 432x288 with 2 Axes>"
      ]
     },
     "metadata": {
      "needs_background": "light"
     },
     "output_type": "display_data"
    }
   ],
   "source": [
    "ax = plt.subplot(111)\n",
    "m = (df[\"age\"] > 65)\n",
    "kmf.fit(durations = T[m], event_observed = E[m], label = \">65\")\n",
    "kmf.plot_survival_function(ax = ax)\n",
    "kmf.fit(T[~m], event_observed = E[~m], label = \"<65\")\n",
    "kmf.plot_survival_function(ax = ax, at_risk_counts = True)\n",
    "plt.title(\"Survival of different gender group\")"
   ]
  },
  {
   "cell_type": "code",
   "execution_count": 15,
   "id": "114092aa",
   "metadata": {},
   "outputs": [
    {
     "data": {
      "text/html": [
       "<div>\n",
       "<style scoped>\n",
       "    .dataframe tbody tr th:only-of-type {\n",
       "        vertical-align: middle;\n",
       "    }\n",
       "\n",
       "    .dataframe tbody tr th {\n",
       "        vertical-align: top;\n",
       "    }\n",
       "\n",
       "    .dataframe thead th {\n",
       "        text-align: right;\n",
       "    }\n",
       "</style>\n",
       "<table border=\"1\" class=\"dataframe\">\n",
       "  <tbody>\n",
       "    <tr>\n",
       "      <th>model</th>\n",
       "      <td>lifelines.CoxPHFitter</td>\n",
       "    </tr>\n",
       "    <tr>\n",
       "      <th>duration col</th>\n",
       "      <td>'ltd'</td>\n",
       "    </tr>\n",
       "    <tr>\n",
       "      <th>event col</th>\n",
       "      <td>'mortality'</td>\n",
       "    </tr>\n",
       "    <tr>\n",
       "      <th>baseline estimation</th>\n",
       "      <td>breslow</td>\n",
       "    </tr>\n",
       "    <tr>\n",
       "      <th>number of observations</th>\n",
       "      <td>3711</td>\n",
       "    </tr>\n",
       "    <tr>\n",
       "      <th>number of events observed</th>\n",
       "      <td>432</td>\n",
       "    </tr>\n",
       "    <tr>\n",
       "      <th>partial log-likelihood</th>\n",
       "      <td>-3293.20</td>\n",
       "    </tr>\n",
       "    <tr>\n",
       "      <th>time fit was run</th>\n",
       "      <td>2023-11-24 13:26:37 UTC</td>\n",
       "    </tr>\n",
       "  </tbody>\n",
       "</table>\n",
       "</div><table border=\"1\" class=\"dataframe\">\n",
       "  <thead>\n",
       "    <tr style=\"text-align: right;\">\n",
       "      <th style=\"min-width: 12px;\"></th>\n",
       "      <th style=\"min-width: 12px;\">coef</th>\n",
       "      <th style=\"min-width: 12px;\">exp(coef)</th>\n",
       "      <th style=\"min-width: 12px;\">se(coef)</th>\n",
       "      <th style=\"min-width: 12px;\">coef lower 95%</th>\n",
       "      <th style=\"min-width: 12px;\">coef upper 95%</th>\n",
       "      <th style=\"min-width: 12px;\">exp(coef) lower 95%</th>\n",
       "      <th style=\"min-width: 12px;\">exp(coef) upper 95%</th>\n",
       "      <th style=\"min-width: 12px;\">cmp to</th>\n",
       "      <th style=\"min-width: 12px;\">z</th>\n",
       "      <th style=\"min-width: 12px;\">p</th>\n",
       "      <th style=\"min-width: 12px;\">-log2(p)</th>\n",
       "    </tr>\n",
       "  </thead>\n",
       "  <tbody>\n",
       "    <tr>\n",
       "      <th>admission</th>\n",
       "      <td>0.00</td>\n",
       "      <td>1.00</td>\n",
       "      <td>0.00</td>\n",
       "      <td>-0.00</td>\n",
       "      <td>0.00</td>\n",
       "      <td>1.00</td>\n",
       "      <td>1.00</td>\n",
       "      <td>0.00</td>\n",
       "      <td>1.82</td>\n",
       "      <td>0.07</td>\n",
       "      <td>3.87</td>\n",
       "    </tr>\n",
       "    <tr>\n",
       "      <th>patient</th>\n",
       "      <td>-0.00</td>\n",
       "      <td>1.00</td>\n",
       "      <td>0.00</td>\n",
       "      <td>-0.00</td>\n",
       "      <td>-0.00</td>\n",
       "      <td>1.00</td>\n",
       "      <td>1.00</td>\n",
       "      <td>0.00</td>\n",
       "      <td>-2.40</td>\n",
       "      <td>0.02</td>\n",
       "      <td>5.91</td>\n",
       "    </tr>\n",
       "    <tr>\n",
       "      <th>curb</th>\n",
       "      <td>0.45</td>\n",
       "      <td>1.57</td>\n",
       "      <td>0.05</td>\n",
       "      <td>0.35</td>\n",
       "      <td>0.55</td>\n",
       "      <td>1.42</td>\n",
       "      <td>1.74</td>\n",
       "      <td>0.00</td>\n",
       "      <td>8.57</td>\n",
       "      <td>&lt;0.005</td>\n",
       "      <td>56.47</td>\n",
       "    </tr>\n",
       "    <tr>\n",
       "      <th>age</th>\n",
       "      <td>0.05</td>\n",
       "      <td>1.05</td>\n",
       "      <td>0.00</td>\n",
       "      <td>0.04</td>\n",
       "      <td>0.05</td>\n",
       "      <td>1.04</td>\n",
       "      <td>1.06</td>\n",
       "      <td>0.00</td>\n",
       "      <td>9.24</td>\n",
       "      <td>&lt;0.005</td>\n",
       "      <td>65.08</td>\n",
       "    </tr>\n",
       "    <tr>\n",
       "      <th>los</th>\n",
       "      <td>0.02</td>\n",
       "      <td>1.02</td>\n",
       "      <td>0.00</td>\n",
       "      <td>0.01</td>\n",
       "      <td>0.03</td>\n",
       "      <td>1.01</td>\n",
       "      <td>1.03</td>\n",
       "      <td>0.00</td>\n",
       "      <td>5.40</td>\n",
       "      <td>&lt;0.005</td>\n",
       "      <td>23.84</td>\n",
       "    </tr>\n",
       "  </tbody>\n",
       "</table><br><div>\n",
       "<style scoped>\n",
       "    .dataframe tbody tr th:only-of-type {\n",
       "        vertical-align: middle;\n",
       "    }\n",
       "\n",
       "    .dataframe tbody tr th {\n",
       "        vertical-align: top;\n",
       "    }\n",
       "\n",
       "    .dataframe thead th {\n",
       "        text-align: right;\n",
       "    }\n",
       "</style>\n",
       "<table border=\"1\" class=\"dataframe\">\n",
       "  <tbody>\n",
       "    <tr>\n",
       "      <th>Concordance</th>\n",
       "      <td>0.78</td>\n",
       "    </tr>\n",
       "    <tr>\n",
       "      <th>Partial AIC</th>\n",
       "      <td>6596.41</td>\n",
       "    </tr>\n",
       "    <tr>\n",
       "      <th>log-likelihood ratio test</th>\n",
       "      <td>462.62 on 5 df</td>\n",
       "    </tr>\n",
       "    <tr>\n",
       "      <th>-log2(p) of ll-ratio test</th>\n",
       "      <td>322.33</td>\n",
       "    </tr>\n",
       "  </tbody>\n",
       "</table>\n",
       "</div>"
      ],
      "text/latex": [
       "\\begin{tabular}{lrrrrrrrrrrr}\n",
       " & coef & exp(coef) & se(coef) & coef lower 95% & coef upper 95% & exp(coef) lower 95% & exp(coef) upper 95% & cmp to & z & p & -log2(p) \\\\\n",
       "covariate &  &  &  &  &  &  &  &  &  &  &  \\\\\n",
       "admission & 0.00 & 1.00 & 0.00 & -0.00 & 0.00 & 1.00 & 1.00 & 0.00 & 1.82 & 0.07 & 3.87 \\\\\n",
       "patient & -0.00 & 1.00 & 0.00 & -0.00 & -0.00 & 1.00 & 1.00 & 0.00 & -2.40 & 0.02 & 5.91 \\\\\n",
       "curb & 0.45 & 1.57 & 0.05 & 0.35 & 0.55 & 1.42 & 1.74 & 0.00 & 8.57 & 0.00 & 56.47 \\\\\n",
       "age & 0.05 & 1.05 & 0.00 & 0.04 & 0.05 & 1.04 & 1.06 & 0.00 & 9.24 & 0.00 & 65.08 \\\\\n",
       "los & 0.02 & 1.02 & 0.00 & 0.01 & 0.03 & 1.01 & 1.03 & 0.00 & 5.40 & 0.00 & 23.84 \\\\\n",
       "\\end{tabular}\n"
      ],
      "text/plain": [
       "<lifelines.CoxPHFitter: fitted with 3711 total observations, 3279 right-censored observations>\n",
       "             duration col = 'ltd'\n",
       "                event col = 'mortality'\n",
       "      baseline estimation = breslow\n",
       "   number of observations = 3711\n",
       "number of events observed = 432\n",
       "   partial log-likelihood = -3293.20\n",
       "         time fit was run = 2023-11-24 13:26:37 UTC\n",
       "\n",
       "---\n",
       "            coef  exp(coef)   se(coef)   coef lower 95%   coef upper 95%  exp(coef) lower 95%  exp(coef) upper 95%\n",
       "covariate                                                                                                         \n",
       "admission   0.00       1.00       0.00            -0.00             0.00                 1.00                 1.00\n",
       "patient    -0.00       1.00       0.00            -0.00            -0.00                 1.00                 1.00\n",
       "curb        0.45       1.57       0.05             0.35             0.55                 1.42                 1.74\n",
       "age         0.05       1.05       0.00             0.04             0.05                 1.04                 1.06\n",
       "los         0.02       1.02       0.00             0.01             0.03                 1.01                 1.03\n",
       "\n",
       "            cmp to     z      p   -log2(p)\n",
       "covariate                                 \n",
       "admission     0.00  1.82   0.07       3.87\n",
       "patient       0.00 -2.40   0.02       5.91\n",
       "curb          0.00  8.57 <0.005      56.47\n",
       "age           0.00  9.24 <0.005      65.08\n",
       "los           0.00  5.40 <0.005      23.84\n",
       "---\n",
       "Concordance = 0.78\n",
       "Partial AIC = 6596.41\n",
       "log-likelihood ratio test = 462.62 on 5 df\n",
       "-log2(p) of ll-ratio test = 322.33"
      ]
     },
     "metadata": {},
     "output_type": "display_data"
    }
   ],
   "source": [
    "from lifelines import CoxPHFitter\n",
    "cph = CoxPHFitter()\n",
    "cph.fit(df, duration_col = 'ltd', event_col = 'mortality')\n",
    "cph.print_summary()"
   ]
  },
  {
   "cell_type": "code",
   "execution_count": 16,
   "id": "653d3ea0",
   "metadata": {},
   "outputs": [
    {
     "data": {
      "text/plain": [
       "covariate\n",
       "admission   1.000\n",
       "patient     1.000\n",
       "curb        1.571\n",
       "age         1.046\n",
       "los         1.020\n",
       "Name: exp(coef), dtype: float64"
      ]
     },
     "execution_count": 16,
     "metadata": {},
     "output_type": "execute_result"
    }
   ],
   "source": [
    "cph.hazard_ratios_\n"
   ]
  },
  {
   "cell_type": "code",
   "execution_count": 17,
   "id": "4658b2ae",
   "metadata": {},
   "outputs": [],
   "source": [
    "dict_df_curb = {}\n",
    "\n",
    "int_days = 25\n",
    "\n",
    "columns = ['time_days','curb_0', 'curb_1','curb_2','curb_3','curb_4', 'curb_5']\n",
    "columns = ['time_days','curb_0', 'curb_1','curb_2']\n",
    "time = [i for i in np.linspace(0, int_days, int_days*2 +1)]\n",
    "time = [i for i in np.linspace(0, int_days, int_days*2 +1)]\n",
    "dict_df_curb[columns[0]] = time\n",
    "for i in range(len(columns)-1):\n",
    "    df_temp = df[df['curb']==i]\n",
    "    tot_pat = len(df_temp)\n",
    "    df_temp_mort = df_temp[~df_temp['ltd'].isna()]\n",
    "    \n",
    "    ls_curb = [(tot_pat - len(df_temp_mort[df_temp_mort['ltd']<t])) / tot_pat for t in time]\n",
    "    dict_df_curb[columns[i+1]] = ls_curb \n",
    "df_curb = pd.DataFrame(dict_df_curb)"
   ]
  },
  {
   "cell_type": "code",
   "execution_count": 18,
   "id": "d096ab75",
   "metadata": {},
   "outputs": [
    {
     "data": {
      "image/png": "[encoded data removed]",
      "text/plain": [
       "<Figure size 720x432 with 1 Axes>"
      ]
     },
     "metadata": {
      "needs_background": "light"
     },
     "output_type": "display_data"
    }
   ],
   "source": [
    "plt.figure(figsize=(10,6))\n",
    "for col in columns[1:]:\n",
    "    plt.plot(df_curb[columns[0]], df_curb[col], label = col)\n",
    "plt.ylabel('Probability of survival', fontsize = 20)\n",
    "plt.xlabel('Time in days', fontsize = 20)\n",
    "plt.legend()\n",
    "plt.tight_layout()\n",
    "plt.ylim((0.0,1.05))\n",
    "plt.tick_params(axis='both', labelsize=18)\n",
    "plt.legend(fontsize = 15)\n",
    "#plt.savefig('Survival_analysis_Curb_16_18.png', transparent = True, bbox_inches = \"tight\")\n",
    "plt.show()"
   ]
  },
  {
   "cell_type": "markdown",
   "id": "804e53ea",
   "metadata": {},
   "source": [
    "\n",
    "dict_df_curb = {}\n",
    "\n",
    "\n",
    "int_days = 15\n",
    "\n",
    "columns = ['time_days','curb_0', 'curb_1','curb_2','curb_3','curb_4', 'curb_5']\n",
    "time = [i for i in np.linspace(0, int_days, int_days*2 +1)]\n",
    "dict_df_curb[columns[0]] = time\n",
    "for i in range(6):\n",
    "    df_temp = df[df['curb']==i]\n",
    "    \n",
    "    ls_curb = [1 - (len(df_temp[df_temp['los']< t])/len(df_temp)) for t in time]\n",
    "    dict_df_curb[columns[i+1]] = ls_curb \n",
    "df_curb = pd.DataFrame(dict_df_curb) "
   ]
  },
  {
   "cell_type": "markdown",
   "id": "a543fff9",
   "metadata": {},
   "source": [
    "\n",
    "\n",
    "plt.figure(figsize=(10,6))\n",
    "for col in columns[1:]:\n",
    "    plt.plot(df_curb[columns[0]], df_curb[col], label = col)\n",
    "plt.ylabel('Probability of survival', fontsize = 20)\n",
    "plt.xlabel('Time in days', fontsize = 20)\n",
    "plt.legend()\n",
    "plt.tight_layout()\n",
    "plt.ylim((0.0,1.05))\n",
    "plt.tick_params(axis='both', labelsize=18)\n",
    "plt.legend(fontsize = 15)\n",
    "plt.savefig('Survival_analysis_Curb_16_18.png', transparent = True, bbox_inches = \"tight\")\n",
    "plt.show()"
   ]
  },
  {
   "cell_type": "code",
   "execution_count": null,
   "id": "f9c51245",
   "metadata": {},
   "outputs": [],
   "source": []
  },
  {
   "cell_type": "markdown",
   "id": "ab88d762",
   "metadata": {},
   "source": [
    "# AGE"
   ]
  },
  {
   "cell_type": "code",
   "execution_count": 19,
   "id": "cdced95d",
   "metadata": {},
   "outputs": [
    {
     "data": {
      "text/plain": [
       "41"
      ]
     },
     "execution_count": 19,
     "metadata": {},
     "output_type": "execute_result"
    }
   ],
   "source": [
    "dict_df_age = {}\n",
    "\n",
    "\n",
    "int_days = 20\n",
    "\n",
    "columns = ['time_days','<=65', '>65']\n",
    "time = [i for i in np.linspace(0, int_days, int_days*2 +1)]\n",
    "dict_df_age[columns[0]] = time\n",
    "\n",
    "df_temp = df[(df['age']<=65)]\n",
    "tot_pat = len(df_temp)\n",
    "df_temp_mort = df_temp[~df_temp['ltd'].isna()]\n",
    "ls_age = [(tot_pat - len(df_temp_mort[df_temp_mort['ltd']<t])) / tot_pat for t in time]\n",
    "#ls_age  = [1 - (len(df_temp[df_temp['los']< t])/len(df_temp)) for t in time]\n",
    "dict_df_age[columns[1]] = ls_age\n",
    "\n",
    "df_temp = df[(df['age']>65)]\n",
    "tot_pat = len(df_temp)\n",
    "df_temp_mort = df_temp[~df_temp['ltd'].isna()]\n",
    "ls_age = [(tot_pat - len(df_temp_mort[df_temp_mort['ltd']<t])) / tot_pat for t in time]\n",
    "#ls_age  = [1 - (len(df_temp[df_temp['los']< t])/len(df_temp)) for t in time]\n",
    "dict_df_age[columns[2]] = ls_age\n",
    "\n",
    "\n",
    "df_age = pd.DataFrame(dict_df_age) \n",
    "len(df_age)"
   ]
  },
  {
   "cell_type": "code",
   "execution_count": 20,
   "id": "bdc3b27c",
   "metadata": {},
   "outputs": [
    {
     "data": {
      "image/png": "[encoded data removed]",
      "text/plain": [
       "<Figure size 720x432 with 1 Axes>"
      ]
     },
     "metadata": {
      "needs_background": "light"
     },
     "output_type": "display_data"
    }
   ],
   "source": [
    "\n",
    "plt.figure(figsize=(10,6))\n",
    "for col in columns[1:]:\n",
    "    plt.plot(df_age[columns[0]], df_age[col], label = col)\n",
    "plt.ylabel('Probability of survival', fontsize = 20)\n",
    "plt.xlabel('Time in days', fontsize = 20)\n",
    "plt.legend()\n",
    "plt.tight_layout()\n",
    "plt.ylim((0.0,1.05))\n",
    "plt.tick_params(axis='both', labelsize=18)\n",
    "plt.legend(fontsize = 15)\n",
    "#plt.savefig('Survival_analysis_Age_16_18.png', transparent = True, bbox_inches = \"tight\")\n",
    "plt.show()"
   ]
  },
  {
   "cell_type": "markdown",
   "id": "df3fa856",
   "metadata": {},
   "source": [
    "# ADMISSIONS WITH DEAD PATIENT\n",
    "dict_df_age = {}\n",
    "\n",
    "\n",
    "int_days = 15\n",
    "\n",
    "columns = ['time_days','<=65', '>65']\n",
    "time = [i for i in np.linspace(0, int_days, int_days*2 +1)]\n",
    "dict_df_age[columns[0]] = time\n",
    "\n",
    "df_temp = df[(df['age']<=65) & (df['admission'].isin(list_mortal_admins ))]\n",
    "ls_age  = [1 - (len(df_temp[df_temp['los']< t])/len(df_temp)) for t in time]\n",
    "dict_df_age[columns[1]] = ls_age\n",
    "\n",
    "df_temp = df[(df['age']>65) & (df['admission'].isin(list_mortal_admins ))]\n",
    "ls_age  = [1 - (len(df_temp[df_temp['los']< t])/len(df_temp)) for t in time]\n",
    "dict_df_age[columns[2]] = ls_age\n",
    "\n",
    "\n",
    "df_age = pd.DataFrame(dict_df_age) \n"
   ]
  },
  {
   "cell_type": "markdown",
   "id": "de62ca9e",
   "metadata": {},
   "source": [
    "\n",
    "plt.figure(figsize=(10,6))\n",
    "for col in columns[1:]:\n",
    "    plt.plot(df_age[columns[0]], df_age[col], label = col)\n",
    "plt.ylabel('Probability of survival', fontsize = 20)\n",
    "plt.xlabel('Time in days', fontsize = 20)\n",
    "plt.legend()\n",
    "plt.tight_layout()\n",
    "plt.ylim((0.0,1.05))\n",
    "plt.tick_params(axis='both', labelsize=18)\n",
    "plt.legend(fontsize = 15)\n",
    "plt.savefig('Survival_analysis_Age_deceased_16_18.png', transparent = True, bbox_inches = \"tight\")\n",
    "plt.show()"
   ]
  },
  {
   "cell_type": "code",
   "execution_count": null,
   "id": "82d4853f",
   "metadata": {},
   "outputs": [],
   "source": []
  },
  {
   "cell_type": "code",
   "execution_count": null,
   "id": "3fb3710a",
   "metadata": {},
   "outputs": [],
   "source": []
  },
  {
   "cell_type": "code",
   "execution_count": null,
   "id": "fd4c2b24",
   "metadata": {},
   "outputs": [],
   "source": []
  },
  {
   "cell_type": "code",
   "execution_count": null,
   "id": "dbb7cb6e",
   "metadata": {},
   "outputs": [],
   "source": []
  }
 ],
 "metadata": {
  "kernelspec": {
   "display_name": "Python 3 (ipykernel)",
   "language": "python",
   "name": "python3"
  },
  "language_info": {
   "codemirror_mode": {
    "name": "ipython",
    "version": 3
   },
   "file_extension": ".py",
   "mimetype": "text/x-python",
   "name": "python",
   "nbconvert_exporter": "python",
   "pygments_lexer": "ipython3",
   "version": "3.8.13"
  }
 },
 "nbformat": 4,
 "nbformat_minor": 5
}
