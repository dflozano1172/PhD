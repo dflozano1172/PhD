{
 "cells": [
  {
   "cell_type": "code",
   "execution_count": 1,
   "metadata": {},
   "outputs": [],
   "source": [
    "%reset -f\n",
    "import numpy as np\n",
    "import pandas as pd\n",
    "import matplotlib.pyplot as plt\n",
    "import re, sqlite3, pickle, time, datetime\n"
   ]
  },
  {
   "cell_type": "markdown",
   "metadata": {},
   "source": [
    "# 0 Loading Raw Data"
   ]
  },
  {
   "cell_type": "code",
   "execution_count": 2,
   "metadata": {},
   "outputs": [
    {
     "name": "stderr",
     "output_type": "stream",
     "text": [
      "/local/dlr10/ipykernel_7242/38138428.py:17: DtypeWarning: Columns (10,12,13) have mixed types. Specify dtype option on import or set low_memory=False.\n",
      "  df_micro = pd.read_csv(file6, sep='\\t', lineterminator='\\n')\n",
      "/local/dlr10/ipykernel_7242/38138428.py:18: DtypeWarning: Columns (9,12,13) have mixed types. Specify dtype option on import or set low_memory=False.\n",
      "  df_oxyge = pd.read_csv(file7, sep='\\t', lineterminator='\\n')\n"
     ]
    }
   ],
   "source": [
    "t = time.time()\n",
    "path  = r'/rfs/CAPAI_PhD_dflr2/Shared/Data/output/20220221_'\n",
    "file1 = path + 'admissions.txt' \n",
    "file2 = path + 'eobs.txt'\n",
    "file3 = path + 'haem-results.txt'\n",
    "file4 = path + 'icu.txt'\n",
    "file5 = path + 'meds.txt'\n",
    "file6 = path + 'micro-results.txt'\n",
    "file7 = path + 'oxygen.txt'\n",
    "file8 = path + 'prev_admissions.txt'\n",
    "file9 = path + 'spin.txt'\n",
    "df_admin = pd.read_csv(file1, sep='\\t', lineterminator='\\n')\n",
    "df_eobs  = pd.read_csv(file2, sep='\\t', lineterminator='\\n')\n",
    "df_haemt = pd.read_csv(file3, sep='\\t', lineterminator='\\n')\n",
    "df_icu   = pd.read_csv(file4, sep='\\t', lineterminator='\\n')\n",
    "df_meds  = pd.read_csv(file5, sep='\\t', lineterminator='\\n')\n",
    "df_micro = pd.read_csv(file6, sep='\\t', lineterminator='\\n')\n",
    "df_oxyge = pd.read_csv(file7, sep='\\t', lineterminator='\\n')\n",
    "df_prev  = pd.read_csv(file8, sep='\\t', lineterminator='\\n')\n",
    "df_spin  = pd.read_csv(file9, sep='\\t', lineterminator='\\n')"
   ]
  },
  {
   "cell_type": "code",
   "execution_count": 3,
   "metadata": {},
   "outputs": [
    {
     "data": {
      "text/html": [
       "<div>\n",
       "<style scoped>\n",
       "    .dataframe tbody tr th:only-of-type {\n",
       "        vertical-align: middle;\n",
       "    }\n",
       "\n",
       "    .dataframe tbody tr th {\n",
       "        vertical-align: top;\n",
       "    }\n",
       "\n",
       "    .dataframe thead th {\n",
       "        text-align: right;\n",
       "    }\n",
       "</style>\n",
       "<table border=\"1\" class=\"dataframe\">\n",
       "  <thead>\n",
       "    <tr style=\"text-align: right;\">\n",
       "      <th></th>\n",
       "      <th>admission_id</th>\n",
       "      <th>episode_diagnoses</th>\n",
       "      <th>patient_id</th>\n",
       "      <th>admission_date</th>\n",
       "      <th>admission_time</th>\n",
       "      <th>discharge_date</th>\n",
       "      <th>discharge_time</th>\n",
       "      <th>death_indicator</th>\n",
       "      <th>date_of_death</th>\n",
       "      <th>ethnic_origin</th>\n",
       "      <th>sex</th>\n",
       "      <th>age_at_admission\\r</th>\n",
       "    </tr>\n",
       "  </thead>\n",
       "  <tbody>\n",
       "    <tr>\n",
       "      <th>0</th>\n",
       "      <td>49358678</td>\n",
       "      <td>||I50.0,I10.X,J18.1,N18.9||I50.0,J18.1,I10.X,N...</td>\n",
       "      <td>74451425</td>\n",
       "      <td>2019-01-15 00:00:00</td>\n",
       "      <td>1909</td>\n",
       "      <td>2019-01-20 00:00:00</td>\n",
       "      <td>1500</td>\n",
       "      <td>YES</td>\n",
       "      <td>20210820.0</td>\n",
       "      <td>H</td>\n",
       "      <td>F</td>\n",
       "      <td>90</td>\n",
       "    </tr>\n",
       "    <tr>\n",
       "      <th>1</th>\n",
       "      <td>98363214</td>\n",
       "      <td>||I50.0,J22.X,I51.7,I10.X,M19.9,M47.82,N19.X,E...</td>\n",
       "      <td>74451425</td>\n",
       "      <td>2019-04-23 00:00:00</td>\n",
       "      <td>417</td>\n",
       "      <td>2019-05-13 00:00:00</td>\n",
       "      <td>1800</td>\n",
       "      <td>YES</td>\n",
       "      <td>20210820.0</td>\n",
       "      <td>H</td>\n",
       "      <td>F</td>\n",
       "      <td>90</td>\n",
       "    </tr>\n",
       "    <tr>\n",
       "      <th>2</th>\n",
       "      <td>65069312</td>\n",
       "      <td>||J18.1,J90.X,I50.0,I10.X,N17.9,R79.8,Z50.7,N1...</td>\n",
       "      <td>74451425</td>\n",
       "      <td>2020-01-04 00:00:00</td>\n",
       "      <td>558</td>\n",
       "      <td>2020-01-10 00:00:00</td>\n",
       "      <td>1820</td>\n",
       "      <td>YES</td>\n",
       "      <td>20210820.0</td>\n",
       "      <td>H</td>\n",
       "      <td>F</td>\n",
       "      <td>91</td>\n",
       "    </tr>\n",
       "  </tbody>\n",
       "</table>\n",
       "</div>"
      ],
      "text/plain": [
       "   admission_id                                  episode_diagnoses  \\\n",
       "0      49358678  ||I50.0,I10.X,J18.1,N18.9||I50.0,J18.1,I10.X,N...   \n",
       "1      98363214  ||I50.0,J22.X,I51.7,I10.X,M19.9,M47.82,N19.X,E...   \n",
       "2      65069312  ||J18.1,J90.X,I50.0,I10.X,N17.9,R79.8,Z50.7,N1...   \n",
       "\n",
       "   patient_id       admission_date  admission_time       discharge_date  \\\n",
       "0    74451425  2019-01-15 00:00:00            1909  2019-01-20 00:00:00   \n",
       "1    74451425  2019-04-23 00:00:00             417  2019-05-13 00:00:00   \n",
       "2    74451425  2020-01-04 00:00:00             558  2020-01-10 00:00:00   \n",
       "\n",
       "   discharge_time death_indicator  date_of_death ethnic_origin sex  \\\n",
       "0            1500             YES     20210820.0             H   F   \n",
       "1            1800             YES     20210820.0             H   F   \n",
       "2            1820             YES     20210820.0             H   F   \n",
       "\n",
       "   age_at_admission\\r  \n",
       "0                  90  \n",
       "1                  90  \n",
       "2                  91  "
      ]
     },
     "metadata": {},
     "output_type": "display_data"
    },
    {
     "name": "stdout",
     "output_type": "stream",
     "text": [
      "min admin date 2019-01-01 00:00:00  max admin date 2021-12-31 00:00:00\n",
      "min disch date 2019-01-01 00:00:00  max disch date 2022-02-15 00:00:00\n"
     ]
    }
   ],
   "source": [
    "display(df_admin.head(3))\n",
    "print('min admin date', df_admin['admission_date'].min(),' max admin date', df_admin['admission_date'].max())\n",
    "print('min disch date', df_admin['discharge_date'].min(),' max disch date', df_admin['discharge_date'].max())"
   ]
  },
  {
   "cell_type": "code",
   "execution_count": 4,
   "metadata": {},
   "outputs": [],
   "source": [
    "##############################################################################\n",
    "#######################################\n",
    "### Relevant fields for pre-processing\n",
    "#######################################\n",
    "reference_date = datetime.datetime(1970,1,1)\n",
    "\n",
    "##### Fields in table patients ##########\n",
    "patient_field         = 'patient_id'\n",
    "age_field             = 'age_at_admission\\r'\n",
    "sex_field             = 'sex'\n",
    "ethnic_field          = 'ethnic_origin'\n",
    "death_ind_field       = 'death_indicator'\n",
    "death_date_field      = 'date_of_death'\n",
    "death_date_code_field = 'date_code_of_death'\n",
    "mort_in_hosp_field    = 'Thirty_day_mort'\n",
    "patients_cols = [patient_field,sex_field, ethnic_field, death_ind_field, death_date_field, death_date_code_field, \n",
    "                 mort_in_hosp_field]\n",
    "\n",
    "##### Fields in table admissions ########\n",
    "admission_field           = 'admission_id'\n",
    "diagnosis_field           = 'episode_diagnoses'\n",
    "admn_date_field           = 'admission_date_time'\n",
    "admn_discharge_field      = 'discharge_date_time'\n",
    "admn_date_code_field      = 'admission_date_code_time'\n",
    "admn_discharge_code_field = 'discharge_date_code_time'\n",
    "lengthofstay_field        = 'lengthofstay'\n",
    "isPneumonia_field         = 'isPneumonia'\n",
    "mortal_admin_field        = 'mortal_admin'\n",
    "comorbidity_field           = 'Comorbidity_score'\n",
    "icu_admin_field           = 'icu_count\\r'\n",
    "\n",
    "##### Fields in table eObservations #####\n",
    "eObs_time_field      = 'timestamp'\n",
    "eObs_time_code_field = 'timestamp_code'\n",
    "eObs_resprate_field  = 'rr'\n",
    "eObs_sbp_field       = 'sbp'\n",
    "eObs_dbp_field       = 'dbp'\n",
    "eObs_newscore_field  = 'ews'\n",
    "eObs_heartrate_field = 'heart_rate'\n",
    "eObs_temptr_field    = 'temperature\\r'\n",
    "eobs_cols = [eObs_time_field, eObs_time_code_field, eObs_resprate_field, eObs_sbp_field, eObs_dbp_field, eObs_newscore_field,\n",
    "             eObs_heartrate_field, eObs_temptr_field]\n",
    "\n",
    "##### Fields in table haematological tests #####\n",
    "test_code_field      = 'local_test_code'\n",
    "test_time_field      = 'sample_collection_date_time'\n",
    "test_time_code_field = 'sample_collection_date_code_time'\n",
    "haemt_cols = [test_code_field, test_time_field, test_time_code_field]\n",
    "\n",
    "#######################################\n",
    "#### ICD codes pre processing\n",
    "#######################################\n",
    "ICD_codes = 'A01.0, A02.2, A20.2, A21.2, A22.1, A31.0, A37.0, A37.1, A43.0, A48.1, B01.2, B05.2, B37.1, B38.0,' \\\n",
    "             'B38.1, B38.2, B39.0, B39.1, B39.2, B58.3, B59, B77.8, J12.0, J12.1, J12.2, J12.3, J12.8, J12.8,'\\\n",
    "             'J12.9, J13, J14, J15.0, J15.1, J15.2, J15.3, J15.4, J15.5, J15.6, J15.7, J15.8, J15.9,J16.0, J16.8, J17.0,'\\\n",
    "             'J17.1, J17.2, J17.3, J17.8, J18.0, J18.1, J18.8, J18.9, J85.1, J85.2, B59'\n",
    "ICD_codes = re.sub(r\"\\s+\", \"\", ICD_codes)\n",
    "ICD_codes = ICD_codes.split(',')\n",
    "\n",
    "# Charlson comorbidity codes source:\n",
    "# https://cran.r-project.org/web/packages/comorbidity/vignettes/comorbidityscores.html\n",
    "\n",
    "ICD_comorbidities = {}\n",
    "# Myocardial Infarction\n",
    "ICD_comorbidities[0] = ['I21.x', 'I22.x', 'I25.2']\n",
    "# Congestive heart failure\n",
    "ICD_comorbidities[1] = ['I09.9', 'I11.0', 'I13.0', 'I13.2', 'I25.5','I42.0','I42.5-  I42.9', 'I43.x', 'I50.x', 'P29.0']\n",
    "# Peripheral vascular disease\n",
    "ICD_comorbidities[2] = ['I70.x', 'I71.x', 'I73.1', 'I73.8', 'I73.9','I77.1', 'I79.0', 'I79.2', 'K55.1', 'K55.8', 'K55.9', 'Z95.8', 'Z95.9']\n",
    "# Cerebrovascular disease\n",
    "ICD_comorbidities[3] = ['G45.x', 'G46.x','H34.0', 'I60.x - I69.x']\n",
    "# Dementia\n",
    "ICD_comorbidities[4] = ['F00.x - F03.x', 'F05.1', 'G30.x', 'G31.1']\n",
    "# Chronic Pulmonary Disease\n",
    "ICD_comorbidities[5] = ['I27.8', 'I27.9','J40.x - J47.x', 'J60.x - J67.x', 'J68.4', 'J70.1', 'J70.3']\n",
    "# Rheumatic Disease\n",
    "ICD_comorbidities[6] = ['M05.x', 'M06.x', 'M31.5','M32.x - M34.x', 'M35.1', 'M35.3', 'M36.0']\n",
    "# Peptic ulcer disease\n",
    "ICD_comorbidities[7] = ['K25.x - K28.x']\n",
    "# Mild liver disease\n",
    "ICD_comorbidities[8] = ['B18.x', 'K70.0 - K70.3', 'K70.9','K71.3 - K71.5', 'K71.7', 'K73.x', 'K74.x', 'K76.0', 'K76.2 - K76.4', 'K76.8', 'K76.9','Z94.4']\n",
    "# Diabetes without chronic complication\n",
    "ICD_comorbidities[9] = ['E10.0', 'E10.1', 'E10.6', 'E10.8', 'E10.9', 'E11.0', 'E11.1', 'E11.6', 'E11.8','E11.9',' E12.0', 'E12.1', 'E12.6', 'E12.8', 'E12.9', 'E13.0', 'E13.1', 'E13.6', 'E13.8','E13.9', 'E14.0', 'E14.1', 'E14.6', 'E14.8', 'E14.9']\n",
    "# Diabetes with chronic complication\n",
    "ICD_comorbidities[10] = ['E10.2 - E10.5', 'E10.7', 'E11.2 - E11.5','E11.7', 'E12.2 - E12.5', 'E12.7', 'E13.2 - E13.5', 'E13.7', 'E14.2 - E14.5', 'E14.7']\n",
    "# Hemiplegia or Paraplegia\n",
    "ICD_comorbidities[11] = ['G04.1','G11.4', 'G80.1', 'G80.2', 'G81.x', 'G82.x', 'G83.0 - G83.4', 'G83.9']\n",
    "# Renal Disease\n",
    "ICD_comorbidities[12] = ['I12.0', 'I13.1','N03.2 - N03.7', 'N05.2 - N05.7', 'N18.x', 'N19.x', 'N25.0', 'Z49.0 - Z49.2', 'Z94.0', 'Z99.2']\n",
    "# Any Malignancy except neoplasm of skin\n",
    "ICD_comorbidities[13] = ['C00.x - C26.x', 'C30.x - C34.x', 'C37.x - C41.x', 'C43.x', 'C45.x - C58.x', 'C60.x - C76.x','C81.x - C85.x', 'C88.x', 'C90.x - C97.x']\n",
    "# Moderate or severe liver disease\n",
    "ICD_comorbidities[14] = ['I85.0', 'I85.9', 'I86.4', 'I98.2', 'K70.4', 'K71.1','K72.1', 'K72.9', 'K76.5', 'K76.6', 'K76.7']\n",
    "# Metastatic solid tumor\n",
    "ICD_comorbidities[15] = ['C77.x - C80.x']\n",
    "# AIDS/HIV\n",
    "ICD_comorbidities[16] = ['B20.x - B22.x', 'B24.x']\n",
    "ICD_comorbidities_weights = dict(zip([0,1,2,3,4,5,6,7,8,9,10,11,12,13,14,15,16],\n",
    "                                     [1,1,1,1,1,1,1,1,2,1,2 ,2 ,2 ,2 ,3 ,6 , 6]))"
   ]
  },
  {
   "cell_type": "code",
   "execution_count": 5,
   "metadata": {},
   "outputs": [
    {
     "data": {
      "text/plain": [
       "34"
      ]
     },
     "execution_count": 5,
     "metadata": {},
     "output_type": "execute_result"
    }
   ],
   "source": [
    "# Maximum score for charlson comoridities \n",
    "h =0\n",
    "for i,v in ICD_comorbidities_weights.items(): h = h +v\n",
    "h"
   ]
  },
  {
   "cell_type": "markdown",
   "metadata": {},
   "source": [
    "# 1. Change fomart of categorical variables and dates\n"
   ]
  },
  {
   "cell_type": "code",
   "execution_count": 6,
   "metadata": {},
   "outputs": [
    {
     "name": "stdout",
     "output_type": "stream",
     "text": [
      "time elapsed:  180.42700934410095\n"
     ]
    }
   ],
   "source": [
    "##############################################################################\n",
    "# Processing admissions table times\n",
    "df_admin['sex']                     = df_admin[sex_field].apply(lambda x: -1 if x == 'M' else 1)\n",
    "df_admin['date_of_death']           = pd.to_datetime(df_admin['date_of_death'].apply(lambda x: str(int(x)) if not np.isnan(x) else '19900101'), format = '%Y%m%d')\n",
    "df_admin['admission_date']          = pd.to_datetime(df_admin['admission_date'], format='%Y-%m-%d %H:%M:%S')\n",
    "df_admin['admission_time']          = df_admin['admission_time'].apply(lambda x: datetime.timedelta(hours = int(x/100), minutes = x%100))\n",
    "df_admin[admn_date_field]           = df_admin['admission_date'] + df_admin['admission_time']\n",
    "df_admin[admn_date_code_field]      = df_admin[admn_date_field] - reference_date\n",
    "df_admin[admn_date_code_field]      = df_admin[admn_date_code_field].apply(lambda x: x.days + (x.seconds/(24*3600)))\n",
    "df_admin['discharge_date']          = pd.to_datetime(df_admin['discharge_date'], format='%Y-%m-%d %H:%M:%S')\n",
    "df_admin['discharge_time']          = df_admin['discharge_time'].apply(lambda x: datetime.timedelta(hours = int(x/100), minutes = x%100))\n",
    "df_admin[admn_discharge_field]      = df_admin['discharge_date'] + df_admin['discharge_time']\n",
    "df_admin[admn_discharge_code_field] = df_admin[admn_discharge_field] - reference_date\n",
    "df_admin[admn_discharge_code_field] = df_admin[admn_discharge_code_field].apply(lambda x: x.days + (x.seconds/(24*3600)))\n",
    "df_admin[lengthofstay_field]        = df_admin[admn_discharge_field] - df_admin[admn_date_field]\n",
    "df_admin[death_ind_field]           = df_admin[death_ind_field].apply(lambda x: 1 if x == 'YES' else 0 if x == 'NO' else 0)\n",
    "df_admin = df_admin.drop(columns    = ['admission_date', 'admission_time','discharge_date','discharge_time'])\n",
    "\n",
    "# Processing blood test table\n",
    "df_haemt = df_haemt.rename(columns = {'system_number':  'patient_id' })\n",
    "df_haemt[test_time_field]      = pd.to_datetime(df_haemt[test_time_field], format='%Y-%m-%d %H:%M:%S')\n",
    "df_haemt[test_time_code_field] = df_haemt[test_time_field] - reference_date\n",
    "df_haemt[test_time_code_field] = df_haemt[test_time_code_field].apply(lambda x: x.days + (x.seconds/(24*3600)))\n",
    "\n",
    "# Marge all tables ina list call data\n",
    "data = [df_admin, df_eobs, df_haemt, df_micro, df_prev]\n",
    "print('time elapsed: ', time.time() - t)"
   ]
  },
  {
   "cell_type": "markdown",
   "metadata": {},
   "source": [
    "# 2. Create Patients Data Frame with demographics and patient specific information."
   ]
  },
  {
   "cell_type": "code",
   "execution_count": 7,
   "metadata": {},
   "outputs": [
    {
     "name": "stdout",
     "output_type": "stream",
     "text": [
      "Length of the table: 20088 , Number of unique Patients: 20088 , errors: 0\n",
      "\n",
      "Female patients:  9391\n",
      "Male patients:  10697\n",
      "\n",
      "patients mortality indicator 1: 8391\n",
      "patients mortality indicator 0: 11697\n",
      "Total of patients who died within 30 days: 5411\n",
      "\n",
      "time elapsed:  136.34356904029846\n"
     ]
    }
   ],
   "source": [
    "#######################################\n",
    "#### Create Patient and Admisisons Table\n",
    "#######################################\n",
    "t = time.time()\n",
    "pat_cols = [patient_field, sex_field, ethnic_field,death_ind_field, death_date_field, mort_in_hosp_field]\n",
    "\n",
    "errors   = [] \n",
    "DF       = []\n",
    "patients = df_admin[patient_field].unique().tolist()\n",
    "pat      = patients[0]\n",
    "for pat in patients:\n",
    "    row = [pat]\n",
    "    A   = df_admin[df_admin[patient_field] == pat].sort_values(by=admn_date_field)\n",
    "\n",
    "    # ----------------------------\n",
    "    # Sex of the patient\n",
    "    if len(A[sex_field].unique()) == 1: row.append(A[sex_field].unique()[0]) \n",
    "    else: \n",
    "        errors.append(pat)\n",
    "        continue\n",
    "    # ----------------------------\n",
    "    # Ethnic field of the patient\n",
    "    if len(A[ethnic_field].unique()) == 1: row.append(A[ethnic_field].unique()[0]) \n",
    "    else: \n",
    "        errors.append(pat)\n",
    "        continue\n",
    "    # ----------------------------\n",
    "    # Death indicator field of patient, whether the patient is died\n",
    "    # Date of death field of patient\n",
    "    if len(A[death_ind_field].unique()) == 1: \n",
    "        row.append(A[death_ind_field].unique()[0]) \n",
    "        row.append(A[death_date_field].unique()[0]) \n",
    "    else: \n",
    "        errors.append(pat)\n",
    "        continue\n",
    "    # ----------------------------\n",
    "    # Thirty day mortality of apatient\n",
    "    death = A.iloc[len(A)-1][death_date_field]\n",
    "    disch = A.iloc[len(A)-1][admn_discharge_field]\n",
    "    delt_day = datetime.timedelta(days=30)\n",
    "    if death < disch + delt_day and row[-2] != 0 : row.append(1)\n",
    "    else: row.append(0)\n",
    "    DF.append(row)\n",
    "\n",
    "df_patients = pd.DataFrame(DF, columns = pat_cols)\n",
    "df_patients[death_date_code_field] = df_patients[death_date_field] - reference_date\n",
    "df_patients[death_date_code_field] = df_patients[death_date_code_field].apply(lambda x: x.days + (x.seconds/(24*3600)))\n",
    "df_patients   = pd.DataFrame(DF, columns = pat_cols)\n",
    "print(\"Length of the table:\", len(DF), \", Number of unique Patients:\" ,len(patients), \", errors:\",len(errors))\n",
    "print(\"\")\n",
    "print('Female patients: ', len(df_patients[df_patients[sex_field] == 1]))\n",
    "print('Male patients: '  , len(df_patients[df_patients[sex_field] == -1]))\n",
    "print(\"\")\n",
    "print('patients mortality indicator 1:', df_patients[death_ind_field].sum())\n",
    "print('patients mortality indicator 0:', len(df_patients) - df_patients[death_ind_field].sum())\n",
    "print('Total of patients who died within 30 days:', df_patients[mort_in_hosp_field ].sum())\n",
    "print(\"\")\n",
    "print('time elapsed: ', time.time() - t)"
   ]
  },
  {
   "cell_type": "markdown",
   "metadata": {},
   "source": [
    "# 3. Adding relevant fields to admissions table"
   ]
  },
  {
   "cell_type": "code",
   "execution_count": 8,
   "metadata": {},
   "outputs": [],
   "source": [
    "t =  time.time()\n",
    "df_admissions = df_admin.copy()\n",
    "df_admissions = df_admissions.drop(columns =[ethnic_field,death_ind_field, death_date_field, sex_field])\n",
    "\n",
    "#######################################\n",
    "##### Definition of the functions\n",
    "#######################################\n",
    "#  that determines whether an admission is CAP associated or not\n",
    "def isCAP(codes, ICD_codes):\n",
    "    result = []\n",
    "    for code in codes:\n",
    "        classif = 0\n",
    "        test = re.split(r'[,|\\|\\|]',code)\n",
    "        A = set(ICD_codes) & set(test)\n",
    "        if len(A) > 0: classif = 1\n",
    "        result.append(classif)\n",
    "    return result\n",
    "\n",
    "# That determines whether the patient died in that admission or not according to the 30-day mortality indicator.\n",
    "def admin_mortality(x, patients_df, admissions_df):\n",
    "    pat = x[patient_field]\n",
    "    if df_patients[df_patients[patient_field] == pat].iloc[-1][mort_in_hosp_field] == 0: return 0\n",
    "    else:\n",
    "        max_admin = admissions_df[admissions_df[patient_field] == pat].sort_values(by = admn_discharge_field).iloc[-1]\n",
    "        if max_admin[admn_discharge_field] == x[admn_discharge_field]: return 1\n",
    "        else: return 0"
   ]
  },
  {
   "cell_type": "markdown",
   "metadata": {},
   "source": [
    "### 3.1. IsPneumonia and Mortal admission fields"
   ]
  },
  {
   "cell_type": "code",
   "execution_count": 9,
   "metadata": {},
   "outputs": [
    {
     "name": "stdout",
     "output_type": "stream",
     "text": [
      "Number of admissions WITHOUT CAP ICD code: 0\n",
      "Number of admissions WITH    CAP ICD code: 24720\n",
      "\n",
      "time elapsed:  0.33472728729248047\n",
      "time elapsed:  58.657936573028564\n"
     ]
    }
   ],
   "source": [
    "#######################################\n",
    "##### Creation of IsPneumonia and mortal admission fields\n",
    "#######################################\n",
    "codes = df_admissions[diagnosis_field].unique().tolist()\n",
    "df_admissions[isPneumonia_field ] = isCAP(df_admissions[diagnosis_field], ICD_codes)\n",
    "print('Number of admissions WITHOUT CAP ICD code:', len(df_admissions[df_admissions[isPneumonia_field] == 0]))\n",
    "print('Number of admissions WITH    CAP ICD code:', len(df_admissions[df_admissions[isPneumonia_field] == 1]))\n",
    "print(\"\")\n",
    "print('time elapsed: ', time.time() - t)\n",
    "\n",
    "df_admissions[mortal_admin_field] = df_admissions.apply(lambda x: admin_mortality(x, df_patients, df_admissions), axis = 1)\n",
    "#df_admissions[df_admissions[patient_field] == 62391666].sort_values(by=admn_discharge_field)\n",
    "print('time elapsed: ', time.time() - t)"
   ]
  },
  {
   "cell_type": "markdown",
   "metadata": {},
   "source": [
    "### 3. 2 ICU field"
   ]
  },
  {
   "cell_type": "code",
   "execution_count": 10,
   "metadata": {},
   "outputs": [
    {
     "name": "stdout",
     "output_type": "stream",
     "text": [
      "Number of unique admissions in df_admissions  24720\n",
      "Number of unique admissions in df_icu  24720\n",
      "Number of admissions found in both df_admissions and df_icu 24720\n",
      "People admited to ICU: 906\n",
      "People admited to ICU: 906\n"
     ]
    }
   ],
   "source": [
    "#######################################\n",
    "##### Creation of ICU admission field\n",
    "##### Wether the patient was admitted to ICU in given admission\n",
    "#######################################\n",
    "A = set(df_admissions[admission_field].unique().tolist())\n",
    "print('Number of unique admissions in df_admissions ', len(A))\n",
    "B = set(df_icu[admission_field].unique().tolist())\n",
    "print('Number of unique admissions in df_icu ',len(B))\n",
    "C = A & B\n",
    "print('Number of admissions found in both df_admissions and df_icu',len(C))\n",
    "icu_dict = dict(zip(df_icu[admission_field],df_icu[icu_admin_field]))\n",
    "df_admissions[icu_admin_field] = df_admissions[admission_field].apply(lambda x: 0 if icu_dict[x] == 0 else 1)\n",
    "print(\"People admited to ICU: \" + str(df_admissions[icu_admin_field].sum()) )\n",
    "print(\"People admited to ICU: \" + str(df_admissions[icu_admin_field].sum()) )"
   ]
  },
  {
   "cell_type": "markdown",
   "metadata": {},
   "source": [
    "### 3.3 Charlson comorbidity score"
   ]
  },
  {
   "cell_type": "code",
   "execution_count": 11,
   "metadata": {},
   "outputs": [
    {
     "name": "stdout",
     "output_type": "stream",
     "text": [
      "time elapsed:  38.34792137145996\n"
     ]
    }
   ],
   "source": [
    "######################################################\n",
    "# Comorbidity definition by Charlson Comorbidity. ICD_comorbidities list is the ICD10 codes that determine comorbidity\n",
    "# The functions look at code of each admission determining whether it has a code \n",
    "t = time.time()\n",
    "def is_code_in_group(code, ICD_comorbidities_group):\n",
    "    comorbidity = False\n",
    "    for com_code in ICD_comorbidities_group:\n",
    "        if com_code == code:\n",
    "            comorbidity = True\n",
    "            break\n",
    "        elif '-' in com_code:\n",
    "            for sub_code in com_code.split('-'):\n",
    "                sub_code = sub_code.strip()\n",
    "                if sub_code == code:\n",
    "                    comorbidity = True\n",
    "                    break\n",
    "                if sub_code[-1] == 'x':\n",
    "                    sub_code = sub_code.split('.')[0]\n",
    "                    if sub_code == code.split('.')[0]:\n",
    "                        comorbidity = True\n",
    "                        break\n",
    "        elif com_code[-1] == 'x' or code[-1] == 'X':\n",
    "            com_code = com_code.split('.')[0]\n",
    "            if com_code == code.split('.')[0]:\n",
    "                comorbidity = True\n",
    "                break\n",
    "        if comorbidity: break   \n",
    "    return comorbidity      \n",
    "def charlson_comorbidity_score(patient_codes, ICD_comorbidities):\n",
    "    patient_codes = re.sub(r'(^\\|\\|)','',patient_codes)\n",
    "    patient_codes = re.sub(r'(\\|\\|$)','',patient_codes)\n",
    "    patient_codes = re.sub(r'(,$)','',patient_codes)\n",
    "    patient_codes = re.sub(r'(\\|\\|)',',',patient_codes)\n",
    "    patient_codes = re.sub(r'(,,)',',',patient_codes)\n",
    "    patient_codes = re.split(',', patient_codes)\n",
    "    score = 0\n",
    "    comorb_codes_exclude = []\n",
    "    for code in patient_codes:\n",
    "        for idx, group_codes in ICD_comorbidities.items():\n",
    "            if idx in comorb_codes_exclude: continue\n",
    "            if is_code_in_group(code, group_codes):\n",
    "                score = score + ICD_comorbidities_weights[idx]\n",
    "                comorb_codes_exclude.append(idx)\n",
    "                break\n",
    "    return score   \n",
    "\n",
    "df_admissions[comorbidity_field] = df_admissions[diagnosis_field].apply(lambda x: charlson_comorbidity_score(x, ICD_comorbidities))\n",
    "print('time elapsed: ', time.time() - t)"
   ]
  },
  {
   "cell_type": "markdown",
   "metadata": {},
   "source": [
    "## DF_PATIENTS"
   ]
  },
  {
   "cell_type": "code",
   "execution_count": 12,
   "metadata": {},
   "outputs": [
    {
     "name": "stdout",
     "output_type": "stream",
     "text": [
      "20088\n"
     ]
    },
    {
     "data": {
      "text/html": [
       "<div>\n",
       "<style scoped>\n",
       "    .dataframe tbody tr th:only-of-type {\n",
       "        vertical-align: middle;\n",
       "    }\n",
       "\n",
       "    .dataframe tbody tr th {\n",
       "        vertical-align: top;\n",
       "    }\n",
       "\n",
       "    .dataframe thead th {\n",
       "        text-align: right;\n",
       "    }\n",
       "</style>\n",
       "<table border=\"1\" class=\"dataframe\">\n",
       "  <thead>\n",
       "    <tr style=\"text-align: right;\">\n",
       "      <th></th>\n",
       "      <th>patient_id</th>\n",
       "      <th>sex</th>\n",
       "      <th>ethnic_origin</th>\n",
       "      <th>death_indicator</th>\n",
       "      <th>date_of_death</th>\n",
       "      <th>Thirty_day_mort</th>\n",
       "    </tr>\n",
       "  </thead>\n",
       "  <tbody>\n",
       "    <tr>\n",
       "      <th>0</th>\n",
       "      <td>74451425</td>\n",
       "      <td>1</td>\n",
       "      <td>H</td>\n",
       "      <td>1</td>\n",
       "      <td>2021-08-20</td>\n",
       "      <td>0</td>\n",
       "    </tr>\n",
       "    <tr>\n",
       "      <th>1</th>\n",
       "      <td>18026138</td>\n",
       "      <td>1</td>\n",
       "      <td>A</td>\n",
       "      <td>0</td>\n",
       "      <td>1990-01-01</td>\n",
       "      <td>0</td>\n",
       "    </tr>\n",
       "    <tr>\n",
       "      <th>2</th>\n",
       "      <td>27754209</td>\n",
       "      <td>-1</td>\n",
       "      <td>A</td>\n",
       "      <td>0</td>\n",
       "      <td>1990-01-01</td>\n",
       "      <td>0</td>\n",
       "    </tr>\n",
       "    <tr>\n",
       "      <th>3</th>\n",
       "      <td>54047888</td>\n",
       "      <td>-1</td>\n",
       "      <td>H</td>\n",
       "      <td>1</td>\n",
       "      <td>2020-05-20</td>\n",
       "      <td>1</td>\n",
       "    </tr>\n",
       "    <tr>\n",
       "      <th>4</th>\n",
       "      <td>56373663</td>\n",
       "      <td>-1</td>\n",
       "      <td>S</td>\n",
       "      <td>0</td>\n",
       "      <td>1990-01-01</td>\n",
       "      <td>0</td>\n",
       "    </tr>\n",
       "  </tbody>\n",
       "</table>\n",
       "</div>"
      ],
      "text/plain": [
       "   patient_id  sex ethnic_origin  death_indicator date_of_death  \\\n",
       "0    74451425    1             H                1    2021-08-20   \n",
       "1    18026138    1             A                0    1990-01-01   \n",
       "2    27754209   -1             A                0    1990-01-01   \n",
       "3    54047888   -1             H                1    2020-05-20   \n",
       "4    56373663   -1             S                0    1990-01-01   \n",
       "\n",
       "   Thirty_day_mort  \n",
       "0                0  \n",
       "1                0  \n",
       "2                0  \n",
       "3                1  \n",
       "4                0  "
      ]
     },
     "execution_count": 12,
     "metadata": {},
     "output_type": "execute_result"
    }
   ],
   "source": [
    "print(len(df_patients[patient_field].unique()))\n",
    "df_patients.head()"
   ]
  },
  {
   "cell_type": "code",
   "execution_count": 13,
   "metadata": {},
   "outputs": [
    {
     "data": {
      "text/html": [
       "<div>\n",
       "<style scoped>\n",
       "    .dataframe tbody tr th:only-of-type {\n",
       "        vertical-align: middle;\n",
       "    }\n",
       "\n",
       "    .dataframe tbody tr th {\n",
       "        vertical-align: top;\n",
       "    }\n",
       "\n",
       "    .dataframe thead th {\n",
       "        text-align: right;\n",
       "    }\n",
       "</style>\n",
       "<table border=\"1\" class=\"dataframe\">\n",
       "  <thead>\n",
       "    <tr style=\"text-align: right;\">\n",
       "      <th></th>\n",
       "      <th>patient_id</th>\n",
       "      <th>sex</th>\n",
       "      <th>ethnic_origin</th>\n",
       "      <th>death_indicator</th>\n",
       "      <th>date_of_death</th>\n",
       "      <th>Thirty_day_mort</th>\n",
       "    </tr>\n",
       "  </thead>\n",
       "  <tbody>\n",
       "  </tbody>\n",
       "</table>\n",
       "</div>"
      ],
      "text/plain": [
       "Empty DataFrame\n",
       "Columns: [patient_id, sex, ethnic_origin, death_indicator, date_of_death, Thirty_day_mort]\n",
       "Index: []"
      ]
     },
     "execution_count": 13,
     "metadata": {},
     "output_type": "execute_result"
    }
   ],
   "source": [
    "df_patients[df_patients[patient_field] == 51990214]"
   ]
  },
  {
   "cell_type": "markdown",
   "metadata": {},
   "source": [
    "## DF_ADMISSIONS"
   ]
  },
  {
   "cell_type": "code",
   "execution_count": 14,
   "metadata": {},
   "outputs": [
    {
     "name": "stdout",
     "output_type": "stream",
     "text": [
      "20088\n"
     ]
    },
    {
     "data": {
      "text/html": [
       "<div>\n",
       "<style scoped>\n",
       "    .dataframe tbody tr th:only-of-type {\n",
       "        vertical-align: middle;\n",
       "    }\n",
       "\n",
       "    .dataframe tbody tr th {\n",
       "        vertical-align: top;\n",
       "    }\n",
       "\n",
       "    .dataframe thead th {\n",
       "        text-align: right;\n",
       "    }\n",
       "</style>\n",
       "<table border=\"1\" class=\"dataframe\">\n",
       "  <thead>\n",
       "    <tr style=\"text-align: right;\">\n",
       "      <th></th>\n",
       "      <th>admission_id</th>\n",
       "      <th>episode_diagnoses</th>\n",
       "      <th>patient_id</th>\n",
       "      <th>age_at_admission\\r</th>\n",
       "      <th>admission_date_time</th>\n",
       "      <th>admission_date_code_time</th>\n",
       "      <th>discharge_date_time</th>\n",
       "      <th>discharge_date_code_time</th>\n",
       "      <th>lengthofstay</th>\n",
       "      <th>isPneumonia</th>\n",
       "      <th>mortal_admin</th>\n",
       "      <th>icu_count\\r</th>\n",
       "      <th>Comorbidity_score</th>\n",
       "    </tr>\n",
       "  </thead>\n",
       "  <tbody>\n",
       "    <tr>\n",
       "      <th>0</th>\n",
       "      <td>49358678</td>\n",
       "      <td>||I50.0,I10.X,J18.1,N18.9||I50.0,J18.1,I10.X,N...</td>\n",
       "      <td>74451425</td>\n",
       "      <td>90</td>\n",
       "      <td>2019-01-15 19:09:00</td>\n",
       "      <td>17911.797917</td>\n",
       "      <td>2019-01-20 15:00:00</td>\n",
       "      <td>17916.625000</td>\n",
       "      <td>4 days 19:51:00</td>\n",
       "      <td>1</td>\n",
       "      <td>0</td>\n",
       "      <td>0</td>\n",
       "      <td>3</td>\n",
       "    </tr>\n",
       "    <tr>\n",
       "      <th>1</th>\n",
       "      <td>98363214</td>\n",
       "      <td>||I50.0,J22.X,I51.7,I10.X,M19.9,M47.82,N19.X,E...</td>\n",
       "      <td>74451425</td>\n",
       "      <td>90</td>\n",
       "      <td>2019-04-23 04:17:00</td>\n",
       "      <td>18009.178472</td>\n",
       "      <td>2019-05-13 18:00:00</td>\n",
       "      <td>18029.750000</td>\n",
       "      <td>20 days 13:43:00</td>\n",
       "      <td>1</td>\n",
       "      <td>0</td>\n",
       "      <td>0</td>\n",
       "      <td>3</td>\n",
       "    </tr>\n",
       "    <tr>\n",
       "      <th>2</th>\n",
       "      <td>65069312</td>\n",
       "      <td>||J18.1,J90.X,I50.0,I10.X,N17.9,R79.8,Z50.7,N1...</td>\n",
       "      <td>74451425</td>\n",
       "      <td>91</td>\n",
       "      <td>2020-01-04 05:58:00</td>\n",
       "      <td>18265.248611</td>\n",
       "      <td>2020-01-10 18:20:00</td>\n",
       "      <td>18271.763889</td>\n",
       "      <td>6 days 12:22:00</td>\n",
       "      <td>1</td>\n",
       "      <td>0</td>\n",
       "      <td>0</td>\n",
       "      <td>3</td>\n",
       "    </tr>\n",
       "    <tr>\n",
       "      <th>3</th>\n",
       "      <td>99645131</td>\n",
       "      <td>||E10.5,L97.X,L08.9,R02.X,A41.9,R65.1,N17.9,E1...</td>\n",
       "      <td>18026138</td>\n",
       "      <td>55</td>\n",
       "      <td>2021-11-25 16:34:00</td>\n",
       "      <td>18956.690278</td>\n",
       "      <td>2021-12-31 14:48:00</td>\n",
       "      <td>18992.616667</td>\n",
       "      <td>35 days 22:14:00</td>\n",
       "      <td>1</td>\n",
       "      <td>0</td>\n",
       "      <td>0</td>\n",
       "      <td>2</td>\n",
       "    </tr>\n",
       "    <tr>\n",
       "      <th>4</th>\n",
       "      <td>21362780</td>\n",
       "      <td>||U07.1,J12.8,B97.2,J15.9,B97.2,Z86.7||U07.1,J...</td>\n",
       "      <td>27754209</td>\n",
       "      <td>45</td>\n",
       "      <td>2021-11-12 17:21:00</td>\n",
       "      <td>18943.722917</td>\n",
       "      <td>2021-11-20 14:00:00</td>\n",
       "      <td>18951.583333</td>\n",
       "      <td>7 days 20:39:00</td>\n",
       "      <td>1</td>\n",
       "      <td>0</td>\n",
       "      <td>0</td>\n",
       "      <td>0</td>\n",
       "    </tr>\n",
       "  </tbody>\n",
       "</table>\n",
       "</div>"
      ],
      "text/plain": [
       "   admission_id                                  episode_diagnoses  \\\n",
       "0      49358678  ||I50.0,I10.X,J18.1,N18.9||I50.0,J18.1,I10.X,N...   \n",
       "1      98363214  ||I50.0,J22.X,I51.7,I10.X,M19.9,M47.82,N19.X,E...   \n",
       "2      65069312  ||J18.1,J90.X,I50.0,I10.X,N17.9,R79.8,Z50.7,N1...   \n",
       "3      99645131  ||E10.5,L97.X,L08.9,R02.X,A41.9,R65.1,N17.9,E1...   \n",
       "4      21362780  ||U07.1,J12.8,B97.2,J15.9,B97.2,Z86.7||U07.1,J...   \n",
       "\n",
       "   patient_id  age_at_admission\\r admission_date_time  \\\n",
       "0    74451425                  90 2019-01-15 19:09:00   \n",
       "1    74451425                  90 2019-04-23 04:17:00   \n",
       "2    74451425                  91 2020-01-04 05:58:00   \n",
       "3    18026138                  55 2021-11-25 16:34:00   \n",
       "4    27754209                  45 2021-11-12 17:21:00   \n",
       "\n",
       "   admission_date_code_time discharge_date_time  discharge_date_code_time  \\\n",
       "0              17911.797917 2019-01-20 15:00:00              17916.625000   \n",
       "1              18009.178472 2019-05-13 18:00:00              18029.750000   \n",
       "2              18265.248611 2020-01-10 18:20:00              18271.763889   \n",
       "3              18956.690278 2021-12-31 14:48:00              18992.616667   \n",
       "4              18943.722917 2021-11-20 14:00:00              18951.583333   \n",
       "\n",
       "      lengthofstay  isPneumonia  mortal_admin  icu_count\\r  Comorbidity_score  \n",
       "0  4 days 19:51:00            1             0            0                  3  \n",
       "1 20 days 13:43:00            1             0            0                  3  \n",
       "2  6 days 12:22:00            1             0            0                  3  \n",
       "3 35 days 22:14:00            1             0            0                  2  \n",
       "4  7 days 20:39:00            1             0            0                  0  "
      ]
     },
     "execution_count": 14,
     "metadata": {},
     "output_type": "execute_result"
    }
   ],
   "source": [
    "print(len(df_admissions[patient_field].unique()))\n",
    "df_admissions.head()"
   ]
  },
  {
   "cell_type": "code",
   "execution_count": 15,
   "metadata": {},
   "outputs": [
    {
     "data": {
      "text/plain": [
       "admission_id                0\n",
       "episode_diagnoses           0\n",
       "patient_id                  0\n",
       "age_at_admission\\r          0\n",
       "admission_date_time         0\n",
       "admission_date_code_time    0\n",
       "discharge_date_time         0\n",
       "discharge_date_code_time    0\n",
       "lengthofstay                0\n",
       "isPneumonia                 0\n",
       "mortal_admin                0\n",
       "icu_count\\r                 0\n",
       "Comorbidity_score           0\n",
       "dtype: int64"
      ]
     },
     "execution_count": 15,
     "metadata": {},
     "output_type": "execute_result"
    }
   ],
   "source": [
    "\n",
    "df_admissions.isna().sum()"
   ]
  },
  {
   "cell_type": "markdown",
   "metadata": {},
   "source": [
    "# 4. COVID review filter"
   ]
  },
  {
   "cell_type": "code",
   "execution_count": 16,
   "metadata": {},
   "outputs": [
    {
     "name": "stdout",
     "output_type": "stream",
     "text": [
      "Number of admissions 24720\n",
      "Number of patients 20088\n",
      "Number of admissions no COVID 15001\n",
      "Number of patients no COVID 13043\n"
     ]
    }
   ],
   "source": [
    "###############################\n",
    "# COVID FILTER\n",
    "###############################\n",
    "print('Number of admissions', len(df_admissions))\n",
    "print('Number of patients', len(df_patients))\n",
    "\n",
    "COVID_day_D  = pd.Timestamp(year=2020, month=2, day=1)\n",
    "new_df_admin = df_admissions[df_admissions[admn_date_field] > COVID_day_D]\n",
    "new_patients = new_df_admin[patient_field].unique()\n",
    "new_df_patie = df_patients[df_patients[patient_field].isin(new_patients)]\n",
    "print('Number of admissions no COVID', len(new_df_admin))\n",
    "print('Number of patients no COVID', len(new_df_patie))"
   ]
  },
  {
   "cell_type": "code",
   "execution_count": 17,
   "metadata": {},
   "outputs": [],
   "source": [
    "pickling_data = [new_df_patie, new_df_admin]\n",
    "pickle.dump(pickling_data, open('DataFrame_pickles/df_patients_admissions_2019_2020.pickle', 'wb'))"
   ]
  },
  {
   "cell_type": "code",
   "execution_count": null,
   "metadata": {},
   "outputs": [],
   "source": []
  },
  {
   "cell_type": "code",
   "execution_count": null,
   "metadata": {},
   "outputs": [],
   "source": []
  }
 ],
 "metadata": {
  "kernelspec": {
   "display_name": "Python 3 (ipykernel)",
   "language": "python",
   "name": "python3"
  },
  "language_info": {
   "codemirror_mode": {
    "name": "ipython",
    "version": 3
   },
   "file_extension": ".py",
   "mimetype": "text/x-python",
   "name": "python",
   "nbconvert_exporter": "python",
   "pygments_lexer": "ipython3",
   "version": "3.8.13"
  }
 },
 "nbformat": 4,
 "nbformat_minor": 4
}
